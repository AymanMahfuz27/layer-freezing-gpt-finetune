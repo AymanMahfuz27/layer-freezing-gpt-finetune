{
  "cells": [
    {
      "cell_type": "markdown",
      "metadata": {
        "id": "view-in-github",
        "colab_type": "text"
      },
      "source": [
        "<a href=\"https://colab.research.google.com/github/AymanMahfuz27/layer-freezing-gpt-finetune/blob/main/efficient_finetuning_of_an_llm.ipynb\" target=\"_parent\"><img src=\"https://colab.research.google.com/assets/colab-badge.svg\" alt=\"Open In Colab\"/></a>"
      ]
    },
    {
      "cell_type": "code",
      "execution_count": 1,
      "metadata": {
        "colab": {
          "base_uri": "https://localhost:8080/",
          "height": 35
        },
        "id": "aFKeYimKp7MX",
        "outputId": "dbab45d2-172b-4e02-9d60-c51b724349b5"
      },
      "outputs": [
        {
          "output_type": "execute_result",
          "data": {
            "text/plain": [
              "'\\nEfficient Fine-Tuning via Layer Freezing - Implementation\\nThis script implements the layer freezing approach for efficient fine-tuning\\nof transformer models as described in the research paper.\\n'"
            ],
            "application/vnd.google.colaboratory.intrinsic+json": {
              "type": "string"
            }
          },
          "metadata": {},
          "execution_count": 1
        }
      ],
      "source": [
        "# -*- coding: utf-8 -*-\n",
        "\"\"\"\n",
        "Efficient Fine-Tuning via Layer Freezing - Implementation\n",
        "This script implements the layer freezing approach for efficient fine-tuning\n",
        "of transformer models as described in the research paper.\n",
        "\"\"\""
      ]
    },
    {
      "cell_type": "code",
      "execution_count": 1,
      "metadata": {
        "id": "_byvtBzTp7MZ"
      },
      "outputs": [],
      "source": []
    },
    {
      "cell_type": "markdown",
      "source": [
        "# Investigating Efficient Fine-Tuning of LLMs Through Selective Layer Adaptation\n",
        "\n",
        "## Abstract\n",
        "\n",
        "As the size of large language models (LLMs) continues to grow, full-parameter fine-tuning has become increasingly resource-intensive and impractical for many applications. Inspired by the hierarchical structure observed in deep convolutional networks, we hypothesize that LLMs also form layered abstractions — with lower layers specializing in syntactic patterns and higher layers specializing in semantic, task-specific reasoning. This work investigates whether fine-tuning only the uppermost layers of an LLM is sufficient for downstream task adaptation. We conduct controlled experiments comparing full fine-tuning to selective top-layer fine-tuning across a classification task. Our results suggest that significant training efficiency can be achieved with minimal degradation in performance, highlighting opportunities for lightweight model adaptation in resource-constrained settings.\n",
        "\n",
        "## Hypothesis\n",
        "\n",
        "Transformer-based language models exhibit hierarchical abstraction across their depth; therefore, fine-tuning only the final N layers of a pretrained LLM will yield comparable downstream performance to full fine-tuning while updating significantly fewer parameters.\n",
        "\n"
      ],
      "metadata": {
        "id": "5TanrThfQ2Nx"
      }
    },
    {
      "cell_type": "markdown",
      "metadata": {
        "id": "9VoAitNdp7Ma"
      },
      "source": [
        "# Install required packages<br>\n",
        "import os<br>\n",
        "os.system(\"pip install transformers datasets torch evaluate tqdm matplotlib pandas\")"
      ]
    },
    {
      "cell_type": "markdown",
      "metadata": {
        "id": "O6-knkThp7Mb"
      },
      "source": [
        "Imports"
      ]
    },
    {
      "cell_type": "code",
      "source": [
        "!pip uninstall -y nvidia-cublas-cu12 nvidia-cuda-cupti-cu12 nvidia-cuda-nvrtc-cu12 nvidia-cuda-runtime-cu12 nvidia-cudnn-cu12 nvidia-cufft-cu12 nvidia-curand-cu12 nvidia-cusolver-cu12 nvidia-cusparse-cu12 nvidia-nvtx-cu12"
      ],
      "metadata": {
        "colab": {
          "base_uri": "https://localhost:8080/"
        },
        "id": "K2Kt8JaLrC1D",
        "outputId": "6d24c9ad-172a-4bd7-cc3e-4585bd6c1f5d"
      },
      "execution_count": 2,
      "outputs": [
        {
          "output_type": "stream",
          "name": "stdout",
          "text": [
            "Found existing installation: nvidia-cublas-cu12 12.5.3.2\n",
            "Uninstalling nvidia-cublas-cu12-12.5.3.2:\n",
            "  Successfully uninstalled nvidia-cublas-cu12-12.5.3.2\n",
            "Found existing installation: nvidia-cuda-cupti-cu12 12.5.82\n",
            "Uninstalling nvidia-cuda-cupti-cu12-12.5.82:\n",
            "  Successfully uninstalled nvidia-cuda-cupti-cu12-12.5.82\n",
            "Found existing installation: nvidia-cuda-nvrtc-cu12 12.5.82\n",
            "Uninstalling nvidia-cuda-nvrtc-cu12-12.5.82:\n",
            "  Successfully uninstalled nvidia-cuda-nvrtc-cu12-12.5.82\n",
            "Found existing installation: nvidia-cuda-runtime-cu12 12.5.82\n",
            "Uninstalling nvidia-cuda-runtime-cu12-12.5.82:\n",
            "  Successfully uninstalled nvidia-cuda-runtime-cu12-12.5.82\n",
            "Found existing installation: nvidia-cudnn-cu12 9.3.0.75\n",
            "Uninstalling nvidia-cudnn-cu12-9.3.0.75:\n",
            "  Successfully uninstalled nvidia-cudnn-cu12-9.3.0.75\n",
            "Found existing installation: nvidia-cufft-cu12 11.2.3.61\n",
            "Uninstalling nvidia-cufft-cu12-11.2.3.61:\n",
            "  Successfully uninstalled nvidia-cufft-cu12-11.2.3.61\n",
            "Found existing installation: nvidia-curand-cu12 10.3.6.82\n",
            "Uninstalling nvidia-curand-cu12-10.3.6.82:\n",
            "  Successfully uninstalled nvidia-curand-cu12-10.3.6.82\n",
            "Found existing installation: nvidia-cusolver-cu12 11.6.3.83\n",
            "Uninstalling nvidia-cusolver-cu12-11.6.3.83:\n",
            "  Successfully uninstalled nvidia-cusolver-cu12-11.6.3.83\n",
            "Found existing installation: nvidia-cusparse-cu12 12.5.1.3\n",
            "Uninstalling nvidia-cusparse-cu12-12.5.1.3:\n",
            "  Successfully uninstalled nvidia-cusparse-cu12-12.5.1.3\n",
            "Found existing installation: nvidia-nvtx-cu12 12.4.127\n",
            "Uninstalling nvidia-nvtx-cu12-12.4.127:\n",
            "  Successfully uninstalled nvidia-nvtx-cu12-12.4.127\n"
          ]
        }
      ]
    },
    {
      "cell_type": "code",
      "source": [
        "!pip install torch==2.6.0+cu124 --extra-index-url https://download.pytorch.org/whl/cu124"
      ],
      "metadata": {
        "colab": {
          "base_uri": "https://localhost:8080/"
        },
        "id": "9rxU8LI6rEFK",
        "outputId": "e683c4f7-f1b8-4f3d-8cf8-3ba9e8e10266"
      },
      "execution_count": 3,
      "outputs": [
        {
          "output_type": "stream",
          "name": "stdout",
          "text": [
            "Looking in indexes: https://pypi.org/simple, https://download.pytorch.org/whl/cu124\n",
            "Requirement already satisfied: torch==2.6.0+cu124 in /usr/local/lib/python3.11/dist-packages (2.6.0+cu124)\n",
            "Requirement already satisfied: filelock in /usr/local/lib/python3.11/dist-packages (from torch==2.6.0+cu124) (3.18.0)\n",
            "Requirement already satisfied: typing-extensions>=4.10.0 in /usr/local/lib/python3.11/dist-packages (from torch==2.6.0+cu124) (4.13.0)\n",
            "Requirement already satisfied: networkx in /usr/local/lib/python3.11/dist-packages (from torch==2.6.0+cu124) (3.4.2)\n",
            "Requirement already satisfied: jinja2 in /usr/local/lib/python3.11/dist-packages (from torch==2.6.0+cu124) (3.1.6)\n",
            "Requirement already satisfied: fsspec in /usr/local/lib/python3.11/dist-packages (from torch==2.6.0+cu124) (2025.3.2)\n",
            "Collecting nvidia-cuda-nvrtc-cu12==12.4.127 (from torch==2.6.0+cu124)\n",
            "  Downloading https://download.pytorch.org/whl/cu124/nvidia_cuda_nvrtc_cu12-12.4.127-py3-none-manylinux2014_x86_64.whl (24.6 MB)\n",
            "\u001b[2K     \u001b[90m━━━━━━━━━━━━━━━━━━━━━━━━━━━━━━━━━━━━━━━━\u001b[0m \u001b[32m24.6/24.6 MB\u001b[0m \u001b[31m52.5 MB/s\u001b[0m eta \u001b[36m0:00:00\u001b[0m\n",
            "\u001b[?25hCollecting nvidia-cuda-runtime-cu12==12.4.127 (from torch==2.6.0+cu124)\n",
            "  Downloading https://download.pytorch.org/whl/cu124/nvidia_cuda_runtime_cu12-12.4.127-py3-none-manylinux2014_x86_64.whl (883 kB)\n",
            "\u001b[2K     \u001b[90m━━━━━━━━━━━━━━━━━━━━━━━━━━━━━━━━━━━━━━━━\u001b[0m \u001b[32m883.7/883.7 kB\u001b[0m \u001b[31m17.4 MB/s\u001b[0m eta \u001b[36m0:00:00\u001b[0m\n",
            "\u001b[?25hCollecting nvidia-cuda-cupti-cu12==12.4.127 (from torch==2.6.0+cu124)\n",
            "  Downloading https://download.pytorch.org/whl/cu124/nvidia_cuda_cupti_cu12-12.4.127-py3-none-manylinux2014_x86_64.whl (13.8 MB)\n",
            "\u001b[2K     \u001b[90m━━━━━━━━━━━━━━━━━━━━━━━━━━━━━━━━━━━━━━━━\u001b[0m \u001b[32m13.8/13.8 MB\u001b[0m \u001b[31m57.5 MB/s\u001b[0m eta \u001b[36m0:00:00\u001b[0m\n",
            "\u001b[?25hCollecting nvidia-cudnn-cu12==9.1.0.70 (from torch==2.6.0+cu124)\n",
            "  Downloading https://download.pytorch.org/whl/cu124/nvidia_cudnn_cu12-9.1.0.70-py3-none-manylinux2014_x86_64.whl (664.8 MB)\n",
            "\u001b[2K     \u001b[90m━━━━━━━━━━━━━━━━━━━━━━━━━━━━━━━━━━━━━━━━\u001b[0m \u001b[32m664.8/664.8 MB\u001b[0m \u001b[31m2.3 MB/s\u001b[0m eta \u001b[36m0:00:00\u001b[0m\n",
            "\u001b[?25hCollecting nvidia-cublas-cu12==12.4.5.8 (from torch==2.6.0+cu124)\n",
            "  Downloading https://download.pytorch.org/whl/cu124/nvidia_cublas_cu12-12.4.5.8-py3-none-manylinux2014_x86_64.whl (363.4 MB)\n",
            "\u001b[2K     \u001b[90m━━━━━━━━━━━━━━━━━━━━━━━━━━━━━━━━━━━━━━━━\u001b[0m \u001b[32m363.4/363.4 MB\u001b[0m \u001b[31m1.5 MB/s\u001b[0m eta \u001b[36m0:00:00\u001b[0m\n",
            "\u001b[?25hCollecting nvidia-cufft-cu12==11.2.1.3 (from torch==2.6.0+cu124)\n",
            "  Downloading https://download.pytorch.org/whl/cu124/nvidia_cufft_cu12-11.2.1.3-py3-none-manylinux2014_x86_64.whl (211.5 MB)\n",
            "\u001b[2K     \u001b[90m━━━━━━━━━━━━━━━━━━━━━━━━━━━━━━━━━━━━━━━━\u001b[0m \u001b[32m211.5/211.5 MB\u001b[0m \u001b[31m5.8 MB/s\u001b[0m eta \u001b[36m0:00:00\u001b[0m\n",
            "\u001b[?25hCollecting nvidia-curand-cu12==10.3.5.147 (from torch==2.6.0+cu124)\n",
            "  Downloading https://download.pytorch.org/whl/cu124/nvidia_curand_cu12-10.3.5.147-py3-none-manylinux2014_x86_64.whl (56.3 MB)\n",
            "\u001b[2K     \u001b[90m━━━━━━━━━━━━━━━━━━━━━━━━━━━━━━━━━━━━━━━━\u001b[0m \u001b[32m56.3/56.3 MB\u001b[0m \u001b[31m13.0 MB/s\u001b[0m eta \u001b[36m0:00:00\u001b[0m\n",
            "\u001b[?25hCollecting nvidia-cusolver-cu12==11.6.1.9 (from torch==2.6.0+cu124)\n",
            "  Downloading https://download.pytorch.org/whl/cu124/nvidia_cusolver_cu12-11.6.1.9-py3-none-manylinux2014_x86_64.whl (127.9 MB)\n",
            "\u001b[2K     \u001b[90m━━━━━━━━━━━━━━━━━━━━━━━━━━━━━━━━━━━━━━━━\u001b[0m \u001b[32m127.9/127.9 MB\u001b[0m \u001b[31m7.3 MB/s\u001b[0m eta \u001b[36m0:00:00\u001b[0m\n",
            "\u001b[?25hCollecting nvidia-cusparse-cu12==12.3.1.170 (from torch==2.6.0+cu124)\n",
            "  Downloading https://download.pytorch.org/whl/cu124/nvidia_cusparse_cu12-12.3.1.170-py3-none-manylinux2014_x86_64.whl (207.5 MB)\n",
            "\u001b[2K     \u001b[90m━━━━━━━━━━━━━━━━━━━━━━━━━━━━━━━━━━━━━━━━\u001b[0m \u001b[32m207.5/207.5 MB\u001b[0m \u001b[31m6.4 MB/s\u001b[0m eta \u001b[36m0:00:00\u001b[0m\n",
            "\u001b[?25hRequirement already satisfied: nvidia-cusparselt-cu12==0.6.2 in /usr/local/lib/python3.11/dist-packages (from torch==2.6.0+cu124) (0.6.2)\n",
            "Requirement already satisfied: nvidia-nccl-cu12==2.21.5 in /usr/local/lib/python3.11/dist-packages (from torch==2.6.0+cu124) (2.21.5)\n",
            "Collecting nvidia-nvtx-cu12==12.4.127 (from torch==2.6.0+cu124)\n",
            "  Downloading https://download.pytorch.org/whl/cu124/nvidia_nvtx_cu12-12.4.127-py3-none-manylinux2014_x86_64.whl (99 kB)\n",
            "\u001b[2K     \u001b[90m━━━━━━━━━━━━━━━━━━━━━━━━━━━━━━━━━━━━━━━━\u001b[0m \u001b[32m99.1/99.1 kB\u001b[0m \u001b[31m9.3 MB/s\u001b[0m eta \u001b[36m0:00:00\u001b[0m\n",
            "\u001b[?25hCollecting nvidia-nvjitlink-cu12==12.4.127 (from torch==2.6.0+cu124)\n",
            "  Downloading https://download.pytorch.org/whl/cu124/nvidia_nvjitlink_cu12-12.4.127-py3-none-manylinux2014_x86_64.whl (21.1 MB)\n",
            "\u001b[2K     \u001b[90m━━━━━━━━━━━━━━━━━━━━━━━━━━━━━━━━━━━━━━━━\u001b[0m \u001b[32m21.1/21.1 MB\u001b[0m \u001b[31m90.1 MB/s\u001b[0m eta \u001b[36m0:00:00\u001b[0m\n",
            "\u001b[?25hRequirement already satisfied: triton==3.2.0 in /usr/local/lib/python3.11/dist-packages (from torch==2.6.0+cu124) (3.2.0)\n",
            "Requirement already satisfied: sympy==1.13.1 in /usr/local/lib/python3.11/dist-packages (from torch==2.6.0+cu124) (1.13.1)\n",
            "Requirement already satisfied: mpmath<1.4,>=1.1.0 in /usr/local/lib/python3.11/dist-packages (from sympy==1.13.1->torch==2.6.0+cu124) (1.3.0)\n",
            "Requirement already satisfied: MarkupSafe>=2.0 in /usr/local/lib/python3.11/dist-packages (from jinja2->torch==2.6.0+cu124) (3.0.2)\n",
            "Installing collected packages: nvidia-nvtx-cu12, nvidia-nvjitlink-cu12, nvidia-curand-cu12, nvidia-cufft-cu12, nvidia-cuda-runtime-cu12, nvidia-cuda-nvrtc-cu12, nvidia-cuda-cupti-cu12, nvidia-cublas-cu12, nvidia-cusparse-cu12, nvidia-cudnn-cu12, nvidia-cusolver-cu12\n",
            "  Attempting uninstall: nvidia-nvjitlink-cu12\n",
            "    Found existing installation: nvidia-nvjitlink-cu12 12.5.82\n",
            "    Uninstalling nvidia-nvjitlink-cu12-12.5.82:\n",
            "      Successfully uninstalled nvidia-nvjitlink-cu12-12.5.82\n",
            "Successfully installed nvidia-cublas-cu12-12.4.5.8 nvidia-cuda-cupti-cu12-12.4.127 nvidia-cuda-nvrtc-cu12-12.4.127 nvidia-cuda-runtime-cu12-12.4.127 nvidia-cudnn-cu12-9.1.0.70 nvidia-cufft-cu12-11.2.1.3 nvidia-curand-cu12-10.3.5.147 nvidia-cusolver-cu12-11.6.1.9 nvidia-cusparse-cu12-12.3.1.170 nvidia-nvjitlink-cu12-12.4.127 nvidia-nvtx-cu12-12.4.127\n"
          ]
        }
      ]
    },
    {
      "cell_type": "code",
      "source": [
        "!pip install datasets evaluate peft"
      ],
      "metadata": {
        "colab": {
          "base_uri": "https://localhost:8080/"
        },
        "id": "BMUHJIocqbNd",
        "outputId": "767a56eb-8872-4b68-c751-5a4a5b447249"
      },
      "execution_count": 4,
      "outputs": [
        {
          "output_type": "stream",
          "name": "stdout",
          "text": [
            "Collecting datasets\n",
            "  Downloading datasets-3.5.0-py3-none-any.whl.metadata (19 kB)\n",
            "Collecting evaluate\n",
            "  Downloading evaluate-0.4.3-py3-none-any.whl.metadata (9.2 kB)\n",
            "Requirement already satisfied: peft in /usr/local/lib/python3.11/dist-packages (0.14.0)\n",
            "Requirement already satisfied: filelock in /usr/local/lib/python3.11/dist-packages (from datasets) (3.18.0)\n",
            "Requirement already satisfied: numpy>=1.17 in /usr/local/lib/python3.11/dist-packages (from datasets) (2.0.2)\n",
            "Requirement already satisfied: pyarrow>=15.0.0 in /usr/local/lib/python3.11/dist-packages (from datasets) (18.1.0)\n",
            "Collecting dill<0.3.9,>=0.3.0 (from datasets)\n",
            "  Downloading dill-0.3.8-py3-none-any.whl.metadata (10 kB)\n",
            "Requirement already satisfied: pandas in /usr/local/lib/python3.11/dist-packages (from datasets) (2.2.2)\n",
            "Requirement already satisfied: requests>=2.32.2 in /usr/local/lib/python3.11/dist-packages (from datasets) (2.32.3)\n",
            "Requirement already satisfied: tqdm>=4.66.3 in /usr/local/lib/python3.11/dist-packages (from datasets) (4.67.1)\n",
            "Collecting xxhash (from datasets)\n",
            "  Downloading xxhash-3.5.0-cp311-cp311-manylinux_2_17_x86_64.manylinux2014_x86_64.whl.metadata (12 kB)\n",
            "Collecting multiprocess<0.70.17 (from datasets)\n",
            "  Downloading multiprocess-0.70.16-py311-none-any.whl.metadata (7.2 kB)\n",
            "Collecting fsspec<=2024.12.0,>=2023.1.0 (from fsspec[http]<=2024.12.0,>=2023.1.0->datasets)\n",
            "  Downloading fsspec-2024.12.0-py3-none-any.whl.metadata (11 kB)\n",
            "Requirement already satisfied: aiohttp in /usr/local/lib/python3.11/dist-packages (from datasets) (3.11.15)\n",
            "Requirement already satisfied: huggingface-hub>=0.24.0 in /usr/local/lib/python3.11/dist-packages (from datasets) (0.30.1)\n",
            "Requirement already satisfied: packaging in /usr/local/lib/python3.11/dist-packages (from datasets) (24.2)\n",
            "Requirement already satisfied: pyyaml>=5.1 in /usr/local/lib/python3.11/dist-packages (from datasets) (6.0.2)\n",
            "Requirement already satisfied: psutil in /usr/local/lib/python3.11/dist-packages (from peft) (5.9.5)\n",
            "Requirement already satisfied: torch>=1.13.0 in /usr/local/lib/python3.11/dist-packages (from peft) (2.6.0+cu124)\n",
            "Requirement already satisfied: transformers in /usr/local/lib/python3.11/dist-packages (from peft) (4.50.3)\n",
            "Requirement already satisfied: accelerate>=0.21.0 in /usr/local/lib/python3.11/dist-packages (from peft) (1.5.2)\n",
            "Requirement already satisfied: safetensors in /usr/local/lib/python3.11/dist-packages (from peft) (0.5.3)\n",
            "Requirement already satisfied: aiohappyeyeballs>=2.3.0 in /usr/local/lib/python3.11/dist-packages (from aiohttp->datasets) (2.6.1)\n",
            "Requirement already satisfied: aiosignal>=1.1.2 in /usr/local/lib/python3.11/dist-packages (from aiohttp->datasets) (1.3.2)\n",
            "Requirement already satisfied: attrs>=17.3.0 in /usr/local/lib/python3.11/dist-packages (from aiohttp->datasets) (25.3.0)\n",
            "Requirement already satisfied: frozenlist>=1.1.1 in /usr/local/lib/python3.11/dist-packages (from aiohttp->datasets) (1.5.0)\n",
            "Requirement already satisfied: multidict<7.0,>=4.5 in /usr/local/lib/python3.11/dist-packages (from aiohttp->datasets) (6.3.1)\n",
            "Requirement already satisfied: propcache>=0.2.0 in /usr/local/lib/python3.11/dist-packages (from aiohttp->datasets) (0.3.1)\n",
            "Requirement already satisfied: yarl<2.0,>=1.17.0 in /usr/local/lib/python3.11/dist-packages (from aiohttp->datasets) (1.18.3)\n",
            "Requirement already satisfied: typing-extensions>=3.7.4.3 in /usr/local/lib/python3.11/dist-packages (from huggingface-hub>=0.24.0->datasets) (4.13.0)\n",
            "Requirement already satisfied: charset-normalizer<4,>=2 in /usr/local/lib/python3.11/dist-packages (from requests>=2.32.2->datasets) (3.4.1)\n",
            "Requirement already satisfied: idna<4,>=2.5 in /usr/local/lib/python3.11/dist-packages (from requests>=2.32.2->datasets) (3.10)\n",
            "Requirement already satisfied: urllib3<3,>=1.21.1 in /usr/local/lib/python3.11/dist-packages (from requests>=2.32.2->datasets) (2.3.0)\n",
            "Requirement already satisfied: certifi>=2017.4.17 in /usr/local/lib/python3.11/dist-packages (from requests>=2.32.2->datasets) (2025.1.31)\n",
            "Requirement already satisfied: networkx in /usr/local/lib/python3.11/dist-packages (from torch>=1.13.0->peft) (3.4.2)\n",
            "Requirement already satisfied: jinja2 in /usr/local/lib/python3.11/dist-packages (from torch>=1.13.0->peft) (3.1.6)\n",
            "Requirement already satisfied: nvidia-cuda-nvrtc-cu12==12.4.127 in /usr/local/lib/python3.11/dist-packages (from torch>=1.13.0->peft) (12.4.127)\n",
            "Requirement already satisfied: nvidia-cuda-runtime-cu12==12.4.127 in /usr/local/lib/python3.11/dist-packages (from torch>=1.13.0->peft) (12.4.127)\n",
            "Requirement already satisfied: nvidia-cuda-cupti-cu12==12.4.127 in /usr/local/lib/python3.11/dist-packages (from torch>=1.13.0->peft) (12.4.127)\n",
            "Requirement already satisfied: nvidia-cudnn-cu12==9.1.0.70 in /usr/local/lib/python3.11/dist-packages (from torch>=1.13.0->peft) (9.1.0.70)\n",
            "Requirement already satisfied: nvidia-cublas-cu12==12.4.5.8 in /usr/local/lib/python3.11/dist-packages (from torch>=1.13.0->peft) (12.4.5.8)\n",
            "Requirement already satisfied: nvidia-cufft-cu12==11.2.1.3 in /usr/local/lib/python3.11/dist-packages (from torch>=1.13.0->peft) (11.2.1.3)\n",
            "Requirement already satisfied: nvidia-curand-cu12==10.3.5.147 in /usr/local/lib/python3.11/dist-packages (from torch>=1.13.0->peft) (10.3.5.147)\n",
            "Requirement already satisfied: nvidia-cusolver-cu12==11.6.1.9 in /usr/local/lib/python3.11/dist-packages (from torch>=1.13.0->peft) (11.6.1.9)\n",
            "Requirement already satisfied: nvidia-cusparse-cu12==12.3.1.170 in /usr/local/lib/python3.11/dist-packages (from torch>=1.13.0->peft) (12.3.1.170)\n",
            "Requirement already satisfied: nvidia-cusparselt-cu12==0.6.2 in /usr/local/lib/python3.11/dist-packages (from torch>=1.13.0->peft) (0.6.2)\n",
            "Requirement already satisfied: nvidia-nccl-cu12==2.21.5 in /usr/local/lib/python3.11/dist-packages (from torch>=1.13.0->peft) (2.21.5)\n",
            "Requirement already satisfied: nvidia-nvtx-cu12==12.4.127 in /usr/local/lib/python3.11/dist-packages (from torch>=1.13.0->peft) (12.4.127)\n",
            "Requirement already satisfied: nvidia-nvjitlink-cu12==12.4.127 in /usr/local/lib/python3.11/dist-packages (from torch>=1.13.0->peft) (12.4.127)\n",
            "Requirement already satisfied: triton==3.2.0 in /usr/local/lib/python3.11/dist-packages (from torch>=1.13.0->peft) (3.2.0)\n",
            "Requirement already satisfied: sympy==1.13.1 in /usr/local/lib/python3.11/dist-packages (from torch>=1.13.0->peft) (1.13.1)\n",
            "Requirement already satisfied: mpmath<1.4,>=1.1.0 in /usr/local/lib/python3.11/dist-packages (from sympy==1.13.1->torch>=1.13.0->peft) (1.3.0)\n",
            "Requirement already satisfied: python-dateutil>=2.8.2 in /usr/local/lib/python3.11/dist-packages (from pandas->datasets) (2.8.2)\n",
            "Requirement already satisfied: pytz>=2020.1 in /usr/local/lib/python3.11/dist-packages (from pandas->datasets) (2025.2)\n",
            "Requirement already satisfied: tzdata>=2022.7 in /usr/local/lib/python3.11/dist-packages (from pandas->datasets) (2025.2)\n",
            "Requirement already satisfied: regex!=2019.12.17 in /usr/local/lib/python3.11/dist-packages (from transformers->peft) (2024.11.6)\n",
            "Requirement already satisfied: tokenizers<0.22,>=0.21 in /usr/local/lib/python3.11/dist-packages (from transformers->peft) (0.21.1)\n",
            "Requirement already satisfied: six>=1.5 in /usr/local/lib/python3.11/dist-packages (from python-dateutil>=2.8.2->pandas->datasets) (1.17.0)\n",
            "Requirement already satisfied: MarkupSafe>=2.0 in /usr/local/lib/python3.11/dist-packages (from jinja2->torch>=1.13.0->peft) (3.0.2)\n",
            "Downloading datasets-3.5.0-py3-none-any.whl (491 kB)\n",
            "\u001b[2K   \u001b[90m━━━━━━━━━━━━━━━━━━━━━━━━━━━━━━━━━━━━━━━━\u001b[0m \u001b[32m491.2/491.2 kB\u001b[0m \u001b[31m13.3 MB/s\u001b[0m eta \u001b[36m0:00:00\u001b[0m\n",
            "\u001b[?25hDownloading evaluate-0.4.3-py3-none-any.whl (84 kB)\n",
            "\u001b[2K   \u001b[90m━━━━━━━━━━━━━━━━━━━━━━━━━━━━━━━━━━━━━━━━\u001b[0m \u001b[32m84.0/84.0 kB\u001b[0m \u001b[31m6.1 MB/s\u001b[0m eta \u001b[36m0:00:00\u001b[0m\n",
            "\u001b[?25hDownloading dill-0.3.8-py3-none-any.whl (116 kB)\n",
            "\u001b[2K   \u001b[90m━━━━━━━━━━━━━━━━━━━━━━━━━━━━━━━━━━━━━━━━\u001b[0m \u001b[32m116.3/116.3 kB\u001b[0m \u001b[31m10.7 MB/s\u001b[0m eta \u001b[36m0:00:00\u001b[0m\n",
            "\u001b[?25hDownloading fsspec-2024.12.0-py3-none-any.whl (183 kB)\n",
            "\u001b[2K   \u001b[90m━━━━━━━━━━━━━━━━━━━━━━━━━━━━━━━━━━━━━━━━\u001b[0m \u001b[32m183.9/183.9 kB\u001b[0m \u001b[31m14.9 MB/s\u001b[0m eta \u001b[36m0:00:00\u001b[0m\n",
            "\u001b[?25hDownloading multiprocess-0.70.16-py311-none-any.whl (143 kB)\n",
            "\u001b[2K   \u001b[90m━━━━━━━━━━━━━━━━━━━━━━━━━━━━━━━━━━━━━━━━\u001b[0m \u001b[32m143.5/143.5 kB\u001b[0m \u001b[31m13.1 MB/s\u001b[0m eta \u001b[36m0:00:00\u001b[0m\n",
            "\u001b[?25hDownloading xxhash-3.5.0-cp311-cp311-manylinux_2_17_x86_64.manylinux2014_x86_64.whl (194 kB)\n",
            "\u001b[2K   \u001b[90m━━━━━━━━━━━━━━━━━━━━━━━━━━━━━━━━━━━━━━━━\u001b[0m \u001b[32m194.8/194.8 kB\u001b[0m \u001b[31m11.8 MB/s\u001b[0m eta \u001b[36m0:00:00\u001b[0m\n",
            "\u001b[?25hInstalling collected packages: xxhash, fsspec, dill, multiprocess, datasets, evaluate\n",
            "  Attempting uninstall: fsspec\n",
            "    Found existing installation: fsspec 2025.3.2\n",
            "    Uninstalling fsspec-2025.3.2:\n",
            "      Successfully uninstalled fsspec-2025.3.2\n",
            "\u001b[31mERROR: pip's dependency resolver does not currently take into account all the packages that are installed. This behaviour is the source of the following dependency conflicts.\n",
            "gcsfs 2025.3.2 requires fsspec==2025.3.2, but you have fsspec 2024.12.0 which is incompatible.\u001b[0m\u001b[31m\n",
            "\u001b[0mSuccessfully installed datasets-3.5.0 dill-0.3.8 evaluate-0.4.3 fsspec-2024.12.0 multiprocess-0.70.16 xxhash-3.5.0\n"
          ]
        }
      ]
    },
    {
      "cell_type": "code",
      "execution_count": 5,
      "metadata": {
        "id": "URqHEeh-p7Mc"
      },
      "outputs": [],
      "source": [
        "import numpy as np\n",
        "import pandas as pd\n",
        "import torch\n",
        "import matplotlib.pyplot as plt\n",
        "from tqdm.auto import tqdm\n",
        "from transformers import (\n",
        "    AutoModelForSequenceClassification,\n",
        "    AutoTokenizer,\n",
        "    Trainer,\n",
        "    TrainingArguments,\n",
        "    EvalPrediction\n",
        ")\n",
        "from datasets import load_dataset\n",
        "import evaluate\n",
        "from peft import get_peft_model, LoraConfig, TaskType\n"
      ]
    },
    {
      "cell_type": "markdown",
      "metadata": {
        "id": "CAJuIg7rp7Mc"
      },
      "source": [
        "Set seeds for reproducibility"
      ]
    },
    {
      "cell_type": "code",
      "execution_count": 6,
      "metadata": {
        "id": "8s-bYjhAp7Md"
      },
      "outputs": [],
      "source": [
        "def set_seed(seed):\n",
        "    np.random.seed(seed)\n",
        "    torch.manual_seed(seed)\n",
        "    torch.cuda.manual_seed_all(seed)\n",
        "\n",
        "# set_seed()"
      ]
    },
    {
      "cell_type": "markdown",
      "metadata": {
        "id": "xyHWufOWp7Md"
      },
      "source": [
        "Check for GPU"
      ]
    },
    {
      "cell_type": "code",
      "execution_count": 7,
      "metadata": {
        "colab": {
          "base_uri": "https://localhost:8080/"
        },
        "id": "FoHXv_mtp7Me",
        "outputId": "8114d956-8f1c-4167-ece5-f07422b547e1"
      },
      "outputs": [
        {
          "output_type": "stream",
          "name": "stdout",
          "text": [
            "Using device: cuda\n"
          ]
        }
      ],
      "source": [
        "device = torch.device(\"cuda\" if torch.cuda.is_available() else \"cpu\")\n",
        "print(f\"Using device: {device}\")"
      ]
    },
    {
      "cell_type": "markdown",
      "metadata": {
        "id": "e_x0x4hhp7Me"
      },
      "source": [
        "Configuration"
      ]
    },
    {
      "cell_type": "code",
      "execution_count": 8,
      "metadata": {
        "id": "BMCmEGwEp7Me"
      },
      "outputs": [],
      "source": [
        "MODEL_NAME = \"gpt2\"\n",
        "TASK = \"boolq\"\n",
        "OUTPUT_DIR = \"./results\"\n",
        "MAX_LENGTH = 256  # increased for BoolQ context/questions\n",
        "BATCH_SIZE = 8    # reduce batch size due to increased max length (better for GPU memory)\n",
        "LEARNING_RATE = 5e-5\n",
        "NUM_EPOCHS = 3\n",
        "WEIGHT_DECAY = 0.01\n"
      ]
    },
    {
      "cell_type": "code",
      "execution_count": 9,
      "metadata": {
        "colab": {
          "base_uri": "https://localhost:8080/"
        },
        "id": "alUX5QI9p7Mf",
        "outputId": "5a20570a-3939-4be4-8685-b5f8f898f717"
      },
      "outputs": [
        {
          "output_type": "stream",
          "name": "stdout",
          "text": [
            "Model: gpt2\n",
            "Task: boolq\n"
          ]
        }
      ],
      "source": [
        "print(f\"Model: {MODEL_NAME}\")\n",
        "print(f\"Task: {TASK}\")"
      ]
    },
    {
      "cell_type": "markdown",
      "metadata": {
        "id": "93xV26ZCp7Mf"
      },
      "source": [
        "Load dataset"
      ]
    },
    {
      "cell_type": "code",
      "execution_count": 10,
      "metadata": {
        "id": "IdRdwBc1p7Mf"
      },
      "outputs": [],
      "source": [
        "def load_and_prepare_dataset(task_name):\n",
        "    \"\"\"Load dataset from Hugging Face and prepare it for training\"\"\"\n",
        "    print(f\"Loading dataset: {task_name}\")\n",
        "\n",
        "    # Load BoolQ directly from Hugging Face\n",
        "    if task_name == \"boolq\":\n",
        "        dataset = load_dataset(\"boolq\")\n",
        "        num_labels = 2\n",
        "        label_names = [\"False\", \"True\"]\n",
        "    elif task_name == \"mnli\":\n",
        "        dataset = load_dataset(\"mnli\")\n",
        "        num_labels = 3\n",
        "        label_names = [\"entailment\", \"neutral\", \"contradiction\"]\n",
        "    else:\n",
        "        # Default for other tasks, or fallback to a known dataset\n",
        "        dataset = load_dataset(\"boolq\")\n",
        "        num_labels = 2\n",
        "        label_names = [\"False\", \"True\"]\n",
        "\n",
        "    print(f\"Dataset structure: {dataset}\")\n",
        "    return dataset, num_labels, label_names\n"
      ]
    },
    {
      "cell_type": "markdown",
      "metadata": {
        "id": "LDh5C5top7Mf"
      },
      "source": [
        "Load tokenizer and model"
      ]
    },
    {
      "cell_type": "code",
      "execution_count": 11,
      "metadata": {
        "id": "c9Qv6ZEap7Mf"
      },
      "outputs": [],
      "source": [
        "def load_model_and_tokenizer(model_name, num_labels):\n",
        "    \"\"\"Load pretrained model and tokenizer\"\"\"\n",
        "    print(f\"Loading tokenizer: {model_name}\")\n",
        "    tokenizer = AutoTokenizer.from_pretrained(model_name)\n",
        "\n",
        "    # Handle models without pad token (like GPT-2)\n",
        "    if tokenizer.pad_token is None:\n",
        "        tokenizer.pad_token = tokenizer.eos_token\n",
        "\n",
        "    print(f\"Loading model: {model_name}\")\n",
        "    from transformers import GPT2ForSequenceClassification\n",
        "\n",
        "    model = GPT2ForSequenceClassification.from_pretrained(model_name, num_labels=num_labels)\n",
        "\n",
        "    # GPT-2 needs special padding token handling\n",
        "    if tokenizer.pad_token is None:\n",
        "        tokenizer.pad_token = tokenizer.eos_token\n",
        "    model.resize_token_embeddings(len(tokenizer))\n",
        "    model.config.pad_token_id = tokenizer.pad_token_id\n",
        "\n",
        "\n",
        "\n",
        "    return model, tokenizer"
      ]
    },
    {
      "cell_type": "code",
      "source": [
        "# def preprocess_sciq_to_boolq(example):\n",
        "#     # Just pick correct answer randomly as true/false example clearly\n",
        "#     correct_answer = example['correct_answer']\n",
        "#     passage = example['support']\n",
        "#     question = example['question']\n",
        "#     return {\n",
        "#         \"question\": f\"{question}\",\n",
        "#         \"passage\": passage,\n",
        "#         \"label\": True  # Always true for correct answer passage\n",
        "#     }\n",
        "\n",
        "# # clearly preprocess SciQ\n",
        "# boolq_like_sciq = dataset.map(preprocess_sciq_to_boolq)\n",
        "# boolq_like_sciq = boolq_like_sciq[\"train\"].train_test_split(test_size=0.1, seed=42)\n",
        "\n"
      ],
      "metadata": {
        "id": "E6RmLgYuasFv"
      },
      "execution_count": 12,
      "outputs": []
    },
    {
      "cell_type": "markdown",
      "metadata": {
        "id": "5dZL9UbEp7Mg"
      },
      "source": [
        "Implement layer freezing"
      ]
    },
    {
      "cell_type": "code",
      "execution_count": 13,
      "metadata": {
        "id": "zLY6kHdTp7Mg"
      },
      "outputs": [],
      "source": [
        "def freeze_layers(model, num_layers_to_freeze):\n",
        "    \"\"\"\n",
        "    Freeze specific layers in GPT-2 explicitly and correctly.\n",
        "    \"\"\"\n",
        "    print(f\"Freezing {num_layers_to_freeze} GPT-2 layers...\")\n",
        "\n",
        "    total_params = sum(p.numel() for p in model.parameters())\n",
        "\n",
        "    # GPT-2 transformer layers\n",
        "    if hasattr(model, \"transformer\") and hasattr(model.transformer, \"h\"):\n",
        "        layers_to_freeze = min(num_layers_to_freeze, len(model.transformer.h))\n",
        "        for i in range(layers_to_freeze):\n",
        "            for param in model.transformer.h[i].parameters():\n",
        "                param.requires_grad = False\n",
        "        print(f\"Froze {layers_to_freeze} GPT-2 transformer layers\")\n",
        "\n",
        "    # Freeze embeddings explicitly (optional but recommended)\n",
        "    for param in model.transformer.wte.parameters():\n",
        "        param.requires_grad = False\n",
        "    for param in model.transformer.wpe.parameters():\n",
        "        param.requires_grad = False\n",
        "    print(\"Embeddings frozen\")\n",
        "\n",
        "    trainable_params = sum(p.numel() for p in model.parameters() if p.requires_grad)\n",
        "    trainable_percentage = 100 * trainable_params / total_params\n",
        "\n",
        "    print(f\"Trainable parameters: {trainable_params:,} ({trainable_percentage:.2f}% of total)\")\n",
        "    print(f\"Total parameters: {total_params:,}\")\n",
        "\n",
        "    return model, trainable_percentage\n"
      ]
    },
    {
      "cell_type": "markdown",
      "metadata": {
        "id": "7IKp4iFop7Mg"
      },
      "source": [
        "Preprocess the dataset"
      ]
    },
    {
      "cell_type": "code",
      "execution_count": 50,
      "metadata": {
        "id": "uYpd9kvTp7Mg"
      },
      "outputs": [],
      "source": [
        "def preprocess_dataset(dataset, tokenizer, task_name):\n",
        "    \"\"\"Tokenize and prepare dataset for training\"\"\"\n",
        "    # Define tokenization function based on task\n",
        "    if task_name == \"boolq\":\n",
        "      def tokenize_function(examples):\n",
        "        questions = examples[\"question\"]\n",
        "        passages = examples[\"passage\"]\n",
        "        combined_input = [f\"Question: {q}\\nPassage: {p}\\nAnswer:\" for q, p in zip(questions, passages)]\n",
        "        tokenized = tokenizer(\n",
        "            combined_input,\n",
        "            padding=\"max_length\",\n",
        "            truncation=True,\n",
        "            max_length=MAX_LENGTH\n",
        "        )\n",
        "        # Convert boolean labels to int (0 or 1)\n",
        "        tokenized[\"labels\"] = [int(a) for a in examples[\"answer\"]]\n",
        "        return tokenized\n",
        "\n",
        "\n",
        "\n",
        "\n",
        "    elif task_name == \"mnli\":\n",
        "        # Sentence pair classification\n",
        "        def tokenize_function(examples):\n",
        "            return tokenizer(\n",
        "                examples[\"premise\"],\n",
        "                examples[\"hypothesis\"],\n",
        "                padding=\"max_length\",\n",
        "                truncation=True,\n",
        "                max_length=MAX_LENGTH\n",
        "            )\n",
        "    else:\n",
        "        # Default approach for other tasks\n",
        "        def tokenize_function(examples):\n",
        "            # Check for sentence pairs\n",
        "            if \"sentence1\" in examples and \"sentence2\" in examples:\n",
        "                return tokenizer(\n",
        "                    examples[\"sentence1\"],\n",
        "                    examples[\"sentence2\"],\n",
        "                    padding=\"max_length\",\n",
        "                    truncation=True,\n",
        "                    max_length=MAX_LENGTH\n",
        "                )\n",
        "            # Single sentence\n",
        "            elif \"sentence\" in examples:\n",
        "                return tokenizer(\n",
        "                    examples[\"sentence\"],\n",
        "                    padding=\"max_length\",\n",
        "                    truncation=True,\n",
        "                    max_length=MAX_LENGTH\n",
        "                )\n",
        "            # Unknown format - try to use the first text field we find\n",
        "            else:\n",
        "                text_field = next(key for key in examples.keys() if isinstance(examples[key][0], str))\n",
        "                return tokenizer(\n",
        "                    examples[text_field],\n",
        "                    padding=\"max_length\",\n",
        "                    truncation=True,\n",
        "                    max_length=MAX_LENGTH\n",
        "                )\n",
        "\n",
        "    print(\"Tokenizing datasets...\")\n",
        "    tokenized_datasets = dataset.map(\n",
        "        tokenize_function,\n",
        "        batched=True,\n",
        "        desc=\"Tokenizing\",\n",
        "    )\n",
        "\n",
        "    # Set format for pytorch\n",
        "    # For each split in the tokenized dataset, remove all columns except the ones we need.\n",
        "    for split in tokenized_datasets.keys():\n",
        "        tokenized_datasets[split] = tokenized_datasets[split].remove_columns(\n",
        "            [col for col in tokenized_datasets[split].column_names if col not in [\"input_ids\", \"attention_mask\", \"labels\"]]\n",
        "        )\n",
        "\n",
        "\n",
        "\n",
        "\n",
        "    tokenized_datasets.set_format(\"torch\", columns=[\"input_ids\", \"attention_mask\", \"labels\"])\n",
        "\n",
        "    print(f\"Tokenized dataset structure: {tokenized_datasets}\")\n",
        "\n",
        "    return tokenized_datasets"
      ]
    },
    {
      "cell_type": "markdown",
      "metadata": {
        "id": "0M6R9OXUp7Mh"
      },
      "source": [
        "Set up evaluation metrics"
      ]
    },
    {
      "cell_type": "code",
      "execution_count": 51,
      "metadata": {
        "id": "Z-6IO8eep7Mh"
      },
      "outputs": [],
      "source": [
        "from sklearn.metrics import accuracy_score, f1_score\n",
        "\n",
        "def compute_metrics(eval_pred):\n",
        "    logits, labels = eval_pred\n",
        "    predictions = logits.argmax(axis=-1)\n",
        "    return {\n",
        "        'accuracy': accuracy_score(labels, predictions),\n",
        "        'f1': f1_score(labels, predictions)\n",
        "    }\n"
      ]
    },
    {
      "cell_type": "markdown",
      "metadata": {
        "id": "6etL2LsCp7Mh"
      },
      "source": [
        "Fine-tune the model"
      ]
    },
    {
      "cell_type": "code",
      "execution_count": 65,
      "metadata": {
        "id": "J5tTpFoUp7Mh"
      },
      "outputs": [],
      "source": [
        "def fine_tune_model(model, tokenized_datasets, tokenizer, output_dir, num_epochs=3):\n",
        "    \"\"\"Fine-tune the model with the tokenized dataset\"\"\"\n",
        "    training_args = TrainingArguments(\n",
        "        output_dir=output_dir,\n",
        "        learning_rate=LEARNING_RATE,\n",
        "        per_device_train_batch_size=BATCH_SIZE,\n",
        "        per_device_eval_batch_size=BATCH_SIZE,\n",
        "        num_train_epochs=num_epochs,\n",
        "        weight_decay=WEIGHT_DECAY,\n",
        "        evaluation_strategy=\"epoch\",\n",
        "        save_strategy=\"epoch\",\n",
        "        load_best_model_at_end=True,\n",
        "        metric_for_best_model=\"accuracy\",\n",
        "        report_to=\"none\",  # Disable reporting to save space in Colab\n",
        "        fp16=True,  # Enable mixed precision training\n",
        "        remove_unused_columns=False,  # We'll handle this ourselves\n",
        "    )\n",
        "\n",
        "    trainer = Trainer(\n",
        "        model=model,\n",
        "        args=training_args,\n",
        "        train_dataset=tokenized_datasets[\"train\"],\n",
        "        eval_dataset=tokenized_datasets[\"validation\"],\n",
        "        tokenizer=tokenizer,\n",
        "        compute_metrics=compute_metrics\n",
        "    )\n",
        "\n",
        "    print(\"Starting fine-tuning...\")\n",
        "    train_result = trainer.train()\n",
        "    print(f\"Training completed. Results: {train_result.metrics}\")\n",
        "\n",
        "    # Evaluate the model\n",
        "    eval_results = trainer.evaluate()\n",
        "    print(f\"Evaluation results: {eval_results}\")\n",
        "    # Plot training loss\n",
        "   # Extract steps and loss values from log_history\n",
        "    steps = [entry[\"step\"] for entry in trainer.state.log_history if \"loss\" in entry]\n",
        "    losses = [entry[\"loss\"] for entry in trainer.state.log_history if \"loss\" in entry]\n",
        "\n",
        "    plt.plot(steps, losses)\n",
        "    plt.title(\"Training Loss Curve\")\n",
        "    plt.xlabel(\"Training Steps\")\n",
        "    plt.ylabel(\"Loss\")\n",
        "    plt.grid(True)\n",
        "    plt.savefig(os.path.join(output_dir, \"loss_curve.png\"))\n",
        "    plt.close()\n",
        "\n",
        "\n",
        "    return trainer, eval_results"
      ]
    },
    {
      "cell_type": "markdown",
      "metadata": {
        "id": "0gkytLN7p7Mi"
      },
      "source": [
        "Run experiments with different layer freezing configurations"
      ]
    },
    {
      "cell_type": "code",
      "execution_count": 66,
      "metadata": {
        "id": "cY7uzVwLp7Mi"
      },
      "outputs": [],
      "source": [
        "def run_layer_freezing_experiments(model_name, dataset_name, layer_configs, num_epochs=2):\n",
        "    \"\"\"\n",
        "    Run experiments with different layer freezing configurations.\n",
        "\n",
        "    Args:\n",
        "        model_name: Name of the pre-trained model\n",
        "        dataset_name: Name of the dataset to use\n",
        "        layer_configs: List of number of layers to freeze in each experiment\n",
        "        num_epochs: Number of epochs to train for each experiment\n",
        "\n",
        "    Returns:\n",
        "        DataFrame with results\n",
        "    \"\"\"\n",
        "    results = []\n",
        "\n",
        "    # Load dataset once\n",
        "    dataset, num_labels, label_names = load_and_prepare_dataset(dataset_name)\n",
        "    seeds = [42,52,62,72]\n",
        "    for layers_to_freeze in layer_configs:\n",
        "        for seed in seeds:\n",
        "            set_seed(seed)\n",
        "            experiment_name = f\"{model_name.split('/')[-1]}_{layers_to_freeze}_frozen_{seed}\"\n",
        "            print(f\"\\n===== Experiment: {experiment_name} =====\")\n",
        "\n",
        "            # Load fresh model for each experiment\n",
        "            model, tokenizer = load_model_and_tokenizer(model_name, num_labels)\n",
        "\n",
        "            # Apply freezing\n",
        "            model, trainable_pct = freeze_layers(model, layers_to_freeze)\n",
        "            print(f\"\\nStarting fine-tuning with {trainable_pct:.2f}% parameters trainable.\")\n",
        "\n",
        "\n",
        "            # Prepare dataset\n",
        "            tokenized_datasets = preprocess_dataset(dataset, tokenizer, dataset_name)\n",
        "\n",
        "            # Fine-tune\n",
        "            output_dir = os.path.join(OUTPUT_DIR, experiment_name)\n",
        "            trainer, eval_results = fine_tune_model(\n",
        "                model,\n",
        "                tokenized_datasets,\n",
        "                tokenizer,\n",
        "                output_dir,\n",
        "                num_epochs=num_epochs\n",
        "            )\n",
        "\n",
        "            # Record results\n",
        "            result = {\n",
        "                \"model\": model_name,\n",
        "                \"seeds\": seed,\n",
        "                \"layers_frozen\": layers_to_freeze,\n",
        "                \"trainable_params_pct\": trainable_pct,\n",
        "                \"accuracy\": float(eval_results.get(\"eval_accuracy\", 0)),\n",
        "                \"loss\": float(eval_results.get(\"eval_loss\", 0)),\n",
        "                \"training_time\": float(eval_results.get(\"eval_runtime\", 0)),\n",
        "            }\n",
        "\n",
        "\n",
        "            results.append(result)\n",
        "            print(f\"Experiment results: {result}\")\n",
        "\n",
        "    # Create and return results dataframe\n",
        "    results_df = pd.DataFrame(results)\n",
        "    print(\"\\n===== Summary of All Experiments =====\")\n",
        "    print(results_df)\n",
        "\n",
        "    return results_df"
      ]
    },
    {
      "cell_type": "code",
      "source": [
        "def fine_tune_with_lora(model, tokenized_datasets, tokenizer, output_dir, num_epochs=3):\n",
        "    # Define training arguments for LoRA fine-tuning\n",
        "    training_args = TrainingArguments(\n",
        "        output_dir=output_dir,\n",
        "        learning_rate=LEARNING_RATE,\n",
        "        per_device_train_batch_size=BATCH_SIZE,\n",
        "        per_device_eval_batch_size=BATCH_SIZE,\n",
        "        num_train_epochs=num_epochs,\n",
        "        weight_decay=WEIGHT_DECAY,\n",
        "        evaluation_strategy=\"epoch\",\n",
        "        save_strategy=\"epoch\",\n",
        "        load_best_model_at_end=True,\n",
        "        metric_for_best_model=\"accuracy\",\n",
        "        report_to=\"none\",  # Disable reporting to save space in Colab\n",
        "        fp16=True,  # Enable mixed precision training\n",
        "        remove_unused_columns=False,\n",
        "    )\n",
        "\n",
        "    lora_config = LoraConfig(\n",
        "        task_type=TaskType.SEQ_CLS,\n",
        "        inference_mode=False,\n",
        "        r=8,\n",
        "        lora_alpha=32,\n",
        "        lora_dropout=0.1,\n",
        "        target_modules=[\"c_attn\", \"c_proj\"]  # GPT-2 modules\n",
        "    )\n",
        "\n",
        "    model = get_peft_model(model, lora_config)\n",
        "\n",
        "    trainer = Trainer(\n",
        "        model=model,\n",
        "        args=training_args,\n",
        "        train_dataset=tokenized_datasets[\"train\"],\n",
        "        eval_dataset=tokenized_datasets[\"validation\"],\n",
        "        tokenizer=tokenizer,\n",
        "        compute_metrics=compute_metrics\n",
        "    )\n",
        "\n",
        "    train_result = trainer.train()\n",
        "    eval_results = trainer.evaluate()\n",
        "\n",
        "    return trainer, eval_results\n"
      ],
      "metadata": {
        "id": "_XHiGW-IZCPv"
      },
      "execution_count": 76,
      "outputs": []
    },
    {
      "cell_type": "markdown",
      "metadata": {
        "id": "pa23wf_Np7Mi"
      },
      "source": [
        "Visualize results"
      ]
    },
    {
      "cell_type": "code",
      "execution_count": 77,
      "metadata": {
        "id": "VxAsCNzSp7Mi"
      },
      "outputs": [],
      "source": [
        "def plot_results(results_df):\n",
        "    import seaborn as sns\n",
        "    import matplotlib.pyplot as plt\n",
        "\n",
        "    grouped = results_df.groupby(\"layers_frozen\").agg({\n",
        "        \"accuracy\": [\"mean\", \"std\"],\n",
        "        \"trainable_params_pct\": \"first\"\n",
        "    }).reset_index()\n",
        "    grouped.columns = [\"layers_frozen\", \"accuracy_mean\", \"accuracy_std\", \"trainable_params_pct\"]\n",
        "\n",
        "    plt.figure(figsize=(12, 5))\n",
        "\n",
        "    # Accuracy vs. Layers Frozen with error bars\n",
        "    plt.subplot(1, 2, 1)\n",
        "    plt.errorbar(grouped[\"layers_frozen\"], grouped[\"accuracy_mean\"], yerr=grouped[\"accuracy_std\"], fmt='o-', capsize=5)\n",
        "    plt.xlabel(\"Layers Frozen\")\n",
        "    plt.ylabel(\"Accuracy\")\n",
        "    plt.title(\"Accuracy vs. Layers Frozen (mean ± std)\")\n",
        "    plt.grid(True)\n",
        "\n",
        "    # Accuracy vs Trainable Parameters\n",
        "    plt.subplot(1, 2, 2)\n",
        "    plt.plot(grouped[\"trainable_params_pct\"], grouped[\"accuracy_mean\"], 'o-')\n",
        "    plt.xlabel(\"Trainable Parameters (%)\")\n",
        "    plt.ylabel(\"Accuracy\")\n",
        "    plt.title(\"Trainable Params vs Accuracy\")\n",
        "    plt.grid(True)\n",
        "\n",
        "    plt.tight_layout()\n",
        "    plt.savefig(os.path.join(OUTPUT_DIR, \"layer_freezing_results.png\"))\n",
        "    plt.show()\n"
      ]
    },
    {
      "cell_type": "markdown",
      "metadata": {
        "id": "ih_3l4vKp7Mj"
      },
      "source": [
        "Function to test the model on sample text"
      ]
    },
    {
      "cell_type": "code",
      "execution_count": 78,
      "metadata": {
        "id": "cNA4XfXKp7Mj"
      },
      "outputs": [],
      "source": [
        "def predict_sample_text(model, tokenizer, texts, label_names):\n",
        "    \"\"\"Make predictions on sample texts\"\"\"\n",
        "    model.eval()\n",
        "    results = []\n",
        "\n",
        "    for text in texts:\n",
        "        # Tokenize\n",
        "        inputs = tokenizer(text, return_tensors=\"pt\", padding=True, truncation=True, max_length=MAX_LENGTH)\n",
        "        inputs = {k: v.to(device) for k, v in inputs.items()}\n",
        "\n",
        "        # Predict\n",
        "        with torch.no_grad():\n",
        "            outputs = model(**inputs)\n",
        "            predictions = torch.nn.functional.softmax(outputs.logits, dim=-1)\n",
        "\n",
        "        # Get prediction and confidence\n",
        "        pred_idx = torch.argmax(predictions, dim=-1).item()\n",
        "        confidence = predictions[0, pred_idx].item()\n",
        "        prediction = label_names[pred_idx]\n",
        "\n",
        "        results.append({\n",
        "            \"text\": text,\n",
        "            \"prediction\": prediction,\n",
        "            \"confidence\": confidence\n",
        "        })\n",
        "\n",
        "    for result in results:\n",
        "        print(f\"Text: {result['text']}\")\n",
        "        print(f\"Prediction: {result['prediction']}\")\n",
        "        print(f\"Confidence: {result['confidence']:.4f}\")\n",
        "        print(\"-\" * 50)\n",
        "\n",
        "    return results"
      ]
    },
    {
      "cell_type": "markdown",
      "metadata": {
        "id": "kP0Rte9-p7Mj"
      },
      "source": [
        "Main execution"
      ]
    },
    {
      "cell_type": "code",
      "execution_count": 79,
      "metadata": {
        "id": "SAyYmrhmp7Mk"
      },
      "outputs": [],
      "source": [
        "def main():\n",
        "    \"\"\"Main function to run the experiments\"\"\"\n",
        "    # Create output directory\n",
        "    os.makedirs(OUTPUT_DIR, exist_ok=True)\n",
        "\n",
        "    # Load dataset\n",
        "    dataset, num_labels, label_names = load_and_prepare_dataset(\"boolq\")\n",
        "    # Use BoolQ train split and create a validation split if not provided\n",
        "    if \"validation\" not in dataset.keys():\n",
        "        dataset = dataset[\"train\"].train_test_split(test_size=0.1, seed=42)\n",
        "    else:\n",
        "        dataset = dataset\n",
        "\n",
        "    # Run a single fine-tuning experiment\n",
        "    print(\"\\n===== Running Single Model Fine-Tuning =====\")\n",
        "    model, tokenizer = load_model_and_tokenizer(MODEL_NAME, num_labels)\n",
        "\n",
        "    # Apply moderate layer freezing (adjust based on model size)\n",
        "    # For BERT-base which has 12 layers, freeze 6 layers\n",
        "    model, trainable_pct = freeze_layers(model, 8)\n",
        "\n",
        "    # Preprocess the dataset\n",
        "    tokenized_datasets = preprocess_dataset(dataset, tokenizer, \"boolq\")\n",
        "\n",
        "    # Fine-tune the model\n",
        "    trainer, eval_results = fine_tune_model(model, tokenized_datasets, tokenizer, OUTPUT_DIR)\n",
        "\n",
        "    if \"test\" in dataset.keys():\n",
        "        eval_subset = dataset[\"test\"].select(range(100))\n",
        "    else:\n",
        "        eval_subset = dataset[\"validation\"].select(range(100))\n",
        "\n",
        "\n",
        "    example_texts = [\n",
        "        f\"Question: {x['question']}\\nPassage: {x['passage']}\\nAnswer:\" for x in eval_subset\n",
        "    ]\n",
        "\n",
        "\n",
        "\n",
        "\n",
        "    predict_sample_text(model, tokenizer, example_texts, label_names)\n",
        "    print(\"\\n===== Running LoRA Fine-Tuning Baseline =====\")\n",
        "    model, tokenizer = load_model_and_tokenizer(MODEL_NAME, num_labels)\n",
        "    tokenized_datasets = preprocess_dataset(dataset, tokenizer, TASK)\n",
        "    trainer, eval_results = fine_tune_with_lora(model, tokenized_datasets, tokenizer, os.path.join(OUTPUT_DIR, \"lora_baseline\"))\n",
        "\n",
        "    print(f\"LoRA Fine-Tuning Results: {eval_results}\")\n",
        "\n",
        "    # Run experiments with different freezing configurations\n",
        "    print(\"\\n===== Running Layer Freezing Experiments =====\")\n",
        "    layer_configs = [0, 3, 6, 9]  # Try different freezing configurations\n",
        "    results_df = run_layer_freezing_experiments(\n",
        "        MODEL_NAME,\n",
        "        TASK,\n",
        "        layer_configs,\n",
        "        num_epochs=2  # Fewer epochs for experiments\n",
        "    )\n",
        "\n",
        "    # Save results to CSV\n",
        "    results_df.to_csv(os.path.join(OUTPUT_DIR, \"layer_freezing_results.csv\"), index=False)\n",
        "\n",
        "    # Plot results\n",
        "    plot_results(results_df)\n",
        "\n",
        "    print(\"\\n===== All experiments completed =====\")"
      ]
    },
    {
      "cell_type": "markdown",
      "metadata": {
        "id": "4pkZiIDQp7Mk"
      },
      "source": [
        "Run the main function"
      ]
    },
    {
      "cell_type": "code",
      "execution_count": 80,
      "metadata": {
        "colab": {
          "base_uri": "https://localhost:8080/",
          "height": 1000
        },
        "id": "rO4f0IZqp7Mk",
        "outputId": "b5932b7e-201f-445d-bc30-08400989f626"
      },
      "outputs": [
        {
          "output_type": "stream",
          "name": "stdout",
          "text": [
            "Loading dataset: boolq\n",
            "Dataset structure: DatasetDict({\n",
            "    train: Dataset({\n",
            "        features: ['question', 'answer', 'passage'],\n",
            "        num_rows: 9427\n",
            "    })\n",
            "    validation: Dataset({\n",
            "        features: ['question', 'answer', 'passage'],\n",
            "        num_rows: 3270\n",
            "    })\n",
            "})\n",
            "\n",
            "===== Running Single Model Fine-Tuning =====\n",
            "Loading tokenizer: gpt2\n",
            "Loading model: gpt2\n"
          ]
        },
        {
          "output_type": "stream",
          "name": "stderr",
          "text": [
            "Some weights of GPT2ForSequenceClassification were not initialized from the model checkpoint at gpt2 and are newly initialized: ['score.weight']\n",
            "You should probably TRAIN this model on a down-stream task to be able to use it for predictions and inference.\n",
            "/usr/local/lib/python3.11/dist-packages/transformers/training_args.py:1611: FutureWarning: `evaluation_strategy` is deprecated and will be removed in version 4.46 of 🤗 Transformers. Use `eval_strategy` instead\n",
            "  warnings.warn(\n",
            "<ipython-input-65-f03aad642d44>:19: FutureWarning: `tokenizer` is deprecated and will be removed in version 5.0.0 for `Trainer.__init__`. Use `processing_class` instead.\n",
            "  trainer = Trainer(\n"
          ]
        },
        {
          "output_type": "stream",
          "name": "stdout",
          "text": [
            "Freezing 8 GPT-2 layers...\n",
            "Froze 8 GPT-2 transformer layers\n",
            "Embeddings frozen\n",
            "Trainable parameters: 28,354,560 (22.79% of total)\n",
            "Total parameters: 124,441,344\n",
            "Tokenizing datasets...\n",
            "Tokenized dataset structure: DatasetDict({\n",
            "    train: Dataset({\n",
            "        features: ['input_ids', 'attention_mask', 'labels'],\n",
            "        num_rows: 9427\n",
            "    })\n",
            "    validation: Dataset({\n",
            "        features: ['input_ids', 'attention_mask', 'labels'],\n",
            "        num_rows: 3270\n",
            "    })\n",
            "})\n",
            "Starting fine-tuning...\n"
          ]
        },
        {
          "output_type": "display_data",
          "data": {
            "text/plain": [
              "<IPython.core.display.HTML object>"
            ],
            "text/html": [
              "\n",
              "    <div>\n",
              "      \n",
              "      <progress value='3537' max='3537' style='width:300px; height:20px; vertical-align: middle;'></progress>\n",
              "      [3537/3537 07:00, Epoch 3/3]\n",
              "    </div>\n",
              "    <table border=\"1\" class=\"dataframe\">\n",
              "  <thead>\n",
              " <tr style=\"text-align: left;\">\n",
              "      <th>Epoch</th>\n",
              "      <th>Training Loss</th>\n",
              "      <th>Validation Loss</th>\n",
              "      <th>Accuracy</th>\n",
              "      <th>F1</th>\n",
              "    </tr>\n",
              "  </thead>\n",
              "  <tbody>\n",
              "    <tr>\n",
              "      <td>1</td>\n",
              "      <td>0.652600</td>\n",
              "      <td>0.634010</td>\n",
              "      <td>0.647095</td>\n",
              "      <td>0.761472</td>\n",
              "    </tr>\n",
              "    <tr>\n",
              "      <td>2</td>\n",
              "      <td>0.615600</td>\n",
              "      <td>0.620928</td>\n",
              "      <td>0.648318</td>\n",
              "      <td>0.733673</td>\n",
              "    </tr>\n",
              "    <tr>\n",
              "      <td>3</td>\n",
              "      <td>0.581000</td>\n",
              "      <td>0.629783</td>\n",
              "      <td>0.662080</td>\n",
              "      <td>0.748692</td>\n",
              "    </tr>\n",
              "  </tbody>\n",
              "</table><p>"
            ]
          },
          "metadata": {}
        },
        {
          "output_type": "stream",
          "name": "stdout",
          "text": [
            "Training completed. Results: {'train_runtime': 420.5976, 'train_samples_per_second': 67.24, 'train_steps_per_second': 8.409, 'total_flos': 3694866701746176.0, 'train_loss': 0.6359391200330118, 'epoch': 3.0}\n"
          ]
        },
        {
          "output_type": "display_data",
          "data": {
            "text/plain": [
              "<IPython.core.display.HTML object>"
            ],
            "text/html": [
              "\n",
              "    <div>\n",
              "      \n",
              "      <progress value='409' max='409' style='width:300px; height:20px; vertical-align: middle;'></progress>\n",
              "      [409/409 00:21]\n",
              "    </div>\n",
              "    "
            ]
          },
          "metadata": {}
        },
        {
          "output_type": "stream",
          "name": "stdout",
          "text": [
            "Evaluation results: {'eval_loss': 0.6297826170921326, 'eval_accuracy': 0.6620795107033639, 'eval_f1': 0.7486922901978622, 'eval_runtime': 21.1254, 'eval_samples_per_second': 154.79, 'eval_steps_per_second': 19.361, 'epoch': 3.0}\n",
            "Text: Question: does ethanol take more energy make that produces\n",
            "Passage: All biomass goes through at least some of these steps: it needs to be grown, collected, dried, fermented, distilled, and burned. All of these steps require resources and an infrastructure. The total amount of energy input into the process compared to the energy released by burning the resulting ethanol fuel is known as the energy balance (or ``energy returned on energy invested''). Figures compiled in a 2007 report by National Geographic Magazine point to modest results for corn ethanol produced in the US: one unit of fossil-fuel energy is required to create 1.3 energy units from the resulting ethanol. The energy balance for sugarcane ethanol produced in Brazil is more favorable, with one unit of fossil-fuel energy required to create 8 from the ethanol. Energy balance estimates are not easily produced, thus numerous such reports have been generated that are contradictory. For instance, a separate survey reports that production of ethanol from sugarcane, which requires a tropical climate to grow productively, returns from 8 to 9 units of energy for each unit expended, as compared to corn, which only returns about 1.34 units of fuel energy for each unit of energy expended. A 2006 University of California Berkeley study, after analyzing six separate studies, concluded that producing ethanol from corn uses much less petroleum than producing gasoline.\n",
            "Answer:\n",
            "Prediction: True\n",
            "Confidence: 0.6545\n",
            "--------------------------------------------------\n",
            "Text: Question: is house tax and property tax are same\n",
            "Passage: Property tax or 'house tax' is a local tax on buildings, along with appurtenant land. It is and imposed on the Possessor (not the custodian of property as per 1978, 44th amendment of constitution). It resembles the US-type wealth tax and differs from the excise-type UK rate. The tax power is vested in the states and is delegated to local bodies, specifying the valuation method, rate band, and collection procedures. The tax base is the annual rental value (ARV) or area-based rating. Owner-occupied and other properties not producing rent are assessed on cost and then converted into ARV by applying a percentage of cost, usually four percent. Vacant land is generally exempt. Central government properties are exempt. Instead a 'service charge' is permissible under executive order. Properties of foreign missions also enjoy tax exemption without requiring reciprocity. The tax is usually accompanied by service taxes, e.g., water tax, drainage tax, conservancy (sanitation) tax, lighting tax, all using the same tax base. The rate structure is flat on rural (panchayat) properties, but in the urban (municipal) areas it is mildly progressive with about 80% of assessments falling in the first two brackets.\n",
            "Answer:\n",
            "Prediction: True\n",
            "Confidence: 0.8460\n",
            "--------------------------------------------------\n",
            "Text: Question: is pain experienced in a missing body part or paralyzed area\n",
            "Passage: Phantom pain sensations are described as perceptions that an individual experiences relating to a limb or an organ that is not physically part of the body. Limb loss is a result of either removal by amputation or congenital limb deficiency. However, phantom limb sensations can also occur following nerve avulsion or spinal cord injury.\n",
            "Answer:\n",
            "Prediction: True\n",
            "Confidence: 0.8751\n",
            "--------------------------------------------------\n",
            "Text: Question: is harry potter and the escape from gringotts a roller coaster ride\n",
            "Passage: Harry Potter and the Escape from Gringotts is an indoor steel roller coaster at Universal Studios Florida, a theme park located within the Universal Orlando Resort. Similar to dark rides, the roller coaster utilizes special effects in a controlled-lighting environment and also employs motion-based 3-D projection of both animation and live-action sequences to enhance the experience. The ride, which is themed to the Gringotts Wizarding Bank, became the flagship attraction for the expanded Wizarding World of Harry Potter when it opened on July 8, 2014.\n",
            "Answer:\n",
            "Prediction: True\n",
            "Confidence: 0.8744\n",
            "--------------------------------------------------\n",
            "Text: Question: is there a difference between hydroxyzine hcl and hydroxyzine pam\n",
            "Passage: Hydroxyzine preparations require a doctor's prescription. The drug is available in two formulations, the pamoate and the dihydrochloride or hydrochloride salts. Vistaril, Equipose, Masmoran, and Paxistil are preparations of the pamoate salt, while Atarax, Alamon, Aterax, Durrax, Tran-Q, Orgatrax, Quiess, and Tranquizine are of the hydrochloride salt.\n",
            "Answer:\n",
            "Prediction: True\n",
            "Confidence: 0.7239\n",
            "--------------------------------------------------\n",
            "Text: Question: is barq's root beer a pepsi product\n",
            "Passage: Barq's /ˈbɑːrks/ is an American soft drink. Its brand of root beer is notable for having caffeine. Barq's, created by Edward Barq and bottled since the turn of the 20th century, is owned by the Barq family but bottled by the Coca-Cola Company. It was known as Barq's Famous Olde Tyme Root Beer until 2012.\n",
            "Answer:\n",
            "Prediction: True\n",
            "Confidence: 0.7348\n",
            "--------------------------------------------------\n",
            "Text: Question: can an odd number be divided by an even number\n",
            "Passage: In mathematics, parity is the property of an integer's inclusion in one of two categories: even or odd. An integer is even if it is evenly divisible by two and odd if it is not even. For example, 6 is even because there is no remainder when dividing it by 2. By contrast, 3, 5, 7, 21 leave a remainder of 1 when divided by 2. Examples of even numbers include −4, 0, 82 and 178. In particular, zero is an even number. Some examples of odd numbers are −5, 3, 29, and 73.\n",
            "Answer:\n",
            "Prediction: True\n",
            "Confidence: 0.7180\n",
            "--------------------------------------------------\n",
            "Text: Question: is there a word with q without u\n",
            "Passage: Of the 71 words in this list, 67 are nouns, and most would generally be considered loanwords; the only modern-English words that contain Q not followed by U and are not borrowed from another language are qiana, qwerty, and tranq. However, all of the loanwords on this list are considered to be naturalised in English according to at least one major dictionary (see References), often because they refer to concepts or societal roles that do not have an accurate equivalent in English. For words to appear here, they must appear in their own entry in a dictionary; words which occur only as part of a longer phrase are not included.\n",
            "Answer:\n",
            "Prediction: True\n",
            "Confidence: 0.5300\n",
            "--------------------------------------------------\n",
            "Text: Question: can u drive in canada with us license\n",
            "Passage: Persons driving into Canada must have their vehicle's registration document and proof of insurance.\n",
            "Answer:\n",
            "Prediction: True\n",
            "Confidence: 0.8598\n",
            "--------------------------------------------------\n",
            "Text: Question: is there a play off for third place in the world cup\n",
            "Passage: The knockout stage of the 2018 FIFA World Cup was the second and final stage of the competition, following the group stage. It began on 30 June with the round of 16 and ended on 15 July with the final match, held at the Luzhniki Stadium in Moscow. The top two teams from each group (16 in total) advanced to the knockout stage to compete in a single-elimination style tournament. A third place play-off was also played between the two losing teams of the semi-finals.\n",
            "Answer:\n",
            "Prediction: True\n",
            "Confidence: 0.9324\n",
            "--------------------------------------------------\n",
            "Text: Question: can minors drink with parents in new york\n",
            "Passage: In response to the National Minimum Drinking Age Act in 1984, which reduced by up to 10% the federal highway funding of any state which did not have a minimum purchasing age of 21, the New York Legislature raised the drinking age from 19 to 21, effective December 1, 1985. (The drinking age had been 18 for many years before the first raise on December 4th, 1982, to 19.) Persons under 21 are prohibited from purchasing alcohol or possessing alcohol with the intent to consume, unless the alcohol was given to that person by their parent or legal guardian. There is no law prohibiting where people under 21 may possess or consume alcohol that was given to them by their parents. Persons under 21 are prohibited from having a blood alcohol level of 0.02% or higher while driving.\n",
            "Answer:\n",
            "Prediction: True\n",
            "Confidence: 0.7517\n",
            "--------------------------------------------------\n",
            "Text: Question: is the show bloodline based on a true story\n",
            "Passage: Bloodline was announced in October 2014 as part of a partnership between Netflix and Sony Pictures Television, representing Netflix's first major deal with a major film studio for a television series. The series was created and executive produced by Todd A. Kessler, Glenn Kessler, and Daniel Zelman, who previously created the FX series Damages. According to its official synopsis released by Netflix, Bloodline ``centers on a close-knit family of four adult siblings whose secrets and scars are revealed when their black sheep brother returns home.''\n",
            "Answer:\n",
            "Prediction: False\n",
            "Confidence: 0.7650\n",
            "--------------------------------------------------\n",
            "Text: Question: is it bad to wash your hair with shower gel\n",
            "Passage: Shower gels for men may contain the ingredient menthol, which gives a cooling and stimulating sensation on the skin, and some men's shower gels are also designed specifically for use on hair and body. Shower gels contain milder surfactant bases than shampoos, and some also contain gentle conditioning agents in the formula. This means that shower gels can also double as an effective and perfectly acceptable substitute to shampoo, even if they are not labelled as a hair and body wash. Washing hair with shower gel should give approximately the same result as using a moisturising shampoo.\n",
            "Answer:\n",
            "Prediction: True\n",
            "Confidence: 0.7607\n",
            "--------------------------------------------------\n",
            "Text: Question: is the liver part of the excretory system\n",
            "Passage: The liver detoxifies and breaks down chemicals, poisons and other toxins that enter the body. For example, the liver transforms ammonia (which is poisonous) into urea in fish, amphibians and mammals, and into uric acid in birds and reptiles. Urea is filtered by the kidney into urine or through the gills in fish and tadpoles. Uric acid is paste-like and expelled as a semi-solid waste (the ``white'' in bird excrements). The liver also produces bile, and the body uses bile to break down fats into usable fats and unusable waste.\n",
            "Answer:\n",
            "Prediction: True\n",
            "Confidence: 0.6241\n",
            "--------------------------------------------------\n",
            "Text: Question: is fantastic beasts and where to find them a prequel\n",
            "Passage: Fantastic Beasts and Where to Find Them is a 2016 fantasy film directed by David Yates. A joint British and American production, it is a spin-off and prequel to the Harry Potter film series, and it was produced and written by J.K. Rowling in her screenwriting debut, and inspired by her 2001 book of the same name. The film stars Eddie Redmayne as Newt Scamander, with Katherine Waterston, Dan Fogler, Alison Sudol, Ezra Miller, Samantha Morton, Jon Voight, Carmen Ejogo, Ron Perlman, Colin Farrell and Johnny Depp in supporting roles. It is the first installment in the Fantastic Beasts film series, and ninth overall in the Wizarding World franchise, that began with the Harry Potter films.\n",
            "Answer:\n",
            "Prediction: True\n",
            "Confidence: 0.8454\n",
            "--------------------------------------------------\n",
            "Text: Question: will there be a season 8 of vampire diaries\n",
            "Passage: The Vampire Diaries, an American supernatural drama, was renewed for an eighth season by The CW on March 11, 2016. On July 23, 2016, the CW announced that the upcoming season would be the series' last and would consist of 16 episodes. The season premiered on October 21, 2016 and concluded on March 10, 2017.\n",
            "Answer:\n",
            "Prediction: True\n",
            "Confidence: 0.5507\n",
            "--------------------------------------------------\n",
            "Text: Question: was the movie strangers based on a true story\n",
            "Passage: The Strangers is a 2008 American slasher film written and directed by Bryan Bertino. Kristen (Liv Tyler) and James (Scott Speedman) are expecting a relaxing weekend at a family vacation home, but their stay turns out to be anything but peaceful as three masked torturers leave Kristen and James struggling for survival. Writer-director Bertino was inspired by real-life events: the Manson family Tate murders, a multiple homicide; the Keddie Cabin Murders, that occurred in California in 1981; and a series of break-ins that occurred in his own neighborhood as a child. Made on a budget of $9 million, the film was shot on location in rural South Carolina in the fall of 2006.\n",
            "Answer:\n",
            "Prediction: False\n",
            "Confidence: 0.6502\n",
            "--------------------------------------------------\n",
            "Text: Question: is durham university part of the russell group\n",
            "Passage: In March 2012 it was announced that four universities -- Durham, Exeter, Queen Mary University of London; and York -- would become members of the Russell Group in August of the same year. All of the new members had previously been members of the 1994 Group of British universities.\n",
            "Answer:\n",
            "Prediction: True\n",
            "Confidence: 0.6128\n",
            "--------------------------------------------------\n",
            "Text: Question: is the tv show the resident over for the season\n",
            "Passage: The Resident is an American medical drama television series aired by Fox Broadcasting Company that premiered on January 21, 2018, as a mid-season replacement entry in the 2017--18 television season. The fictional series focuses on the lives and duties of staff members at Chastain Park Memorial Hospital, while delving into the bureaucratic practices of the hospital industry. Formerly called The City, the show was purchased by Fox from Showtime in 2017. It was created by created by Amy Holden Jones, Hayley Schore, and Roshan Sethi. On May 10, 2017, Fox ordered a full 14-episode season and renewed the series for a second season on May 7, 2018. The first season officially concluded on May 14, 2018.\n",
            "Answer:\n",
            "Prediction: False\n",
            "Confidence: 0.5292\n",
            "--------------------------------------------------\n",
            "Text: Question: does magnesium citrate have citric acid in it\n",
            "Passage: Magnesium citrate is a magnesium preparation in salt form with citric acid in a 1:1 ratio (1 magnesium atom per citrate molecule). The name ``magnesium citrate'' is ambiguous and sometimes may refer to other salts such as trimagnesium citrate which has a magnesium:citrate ratio of 3:2.\n",
            "Answer:\n",
            "Prediction: False\n",
            "Confidence: 0.6230\n",
            "--------------------------------------------------\n",
            "Text: Question: does p o box come before street address\n",
            "Passage: Street Addressing will have the same street address of the post office, plus a ``unit number'' that matches the P.O. Box number. As an example, in El Centro, California, the post office is located at 1598 Main Street. Therefore, for P.O. Box 9975 (fictitious), the Street Addressing would be: 1598 Main Street Unit 9975, El Centro, CA. Nationally, the first five digits of the zip code may or may not be the same as the P.O. Box address, and the last four digits (Zip + 4) are virtually always different. Except for a few of the largest post offices in the U.S., the 'Street Addressing' (not the P.O. Box address) nine digit Zip + 4 is the same for all boxes at a given location.\n",
            "Answer:\n",
            "Prediction: False\n",
            "Confidence: 0.6063\n",
            "--------------------------------------------------\n",
            "Text: Question: does a spark plug keep an engine running\n",
            "Passage: A spark plug (sometimes, in British English, a sparking plug, and, colloquially, a plug) is a device for delivering electric current from an ignition system to the combustion chamber of a spark-ignition engine to ignite the compressed fuel/air mixture by an electric spark, while containing combustion pressure within the engine. A spark plug has a metal threaded shell, electrically isolated from a central electrode by a porcelain insulator. The central electrode, which may contain a resistor, is connected by a heavily insulated wire to the output terminal of an ignition coil or magneto. The spark plug's metal shell is screwed into the engine's cylinder head and thus electrically grounded. The central electrode protrudes through the porcelain insulator into the combustion chamber, forming one or more spark gaps between the inner end of the central electrode and usually one or more protuberances or structures attached to the inner end of the threaded shell and designated the side, earth, or ground electrode(s).\n",
            "Answer:\n",
            "Prediction: True\n",
            "Confidence: 0.8189\n",
            "--------------------------------------------------\n",
            "Text: Question: is a cape and a cloak the same\n",
            "Passage: Ladies may wear a long (over the shoulders or to ankles) cloak usually called a cape, or a full-length cloak. Gentlemen wear an ankle-length or full-length cloak. Formal cloaks often have expensive, colored linings and trimmings such as silk, satin, velvet and fur.\n",
            "Answer:\n",
            "Prediction: True\n",
            "Confidence: 0.5654\n",
            "--------------------------------------------------\n",
            "Text: Question: does it cost money to renounce us citizenship\n",
            "Passage: Renunciation of U.S. citizenship was free until July 2010, at which time a fee of $450 was established. An increase to $2,350, effective September 12, 2014, was justified as ``reflective of the true cost'' of processing. This followed a fee increase of approximately 220% in 2013. The increase took effect in January 2015.\n",
            "Answer:\n",
            "Prediction: False\n",
            "Confidence: 0.5195\n",
            "--------------------------------------------------\n",
            "Text: Question: is a fire 7 the same as a kindle\n",
            "Passage: The Fire Tablet, formerly called the Kindle Fire, is a tablet computer developed by Amazon.com. Built with Quanta Computer, the Kindle Fire was first released in November 2011, featuring a color 7-inch multi-touch display with IPS technology and running a custom version of Google's Android operating system called Fire OS. The Kindle Fire HD followed in September 2012, and the Kindle Fire HDX in September 2013. In September 2014, when the fourth generation was introduced, the name ``Kindle'' was dropped. In September 2015, the fifth generation Fire 7 was released, followed by the sixth generation Fire HD 8, in September 2016. The seventh generation Fire 7 was released in June 2017.\n",
            "Answer:\n",
            "Prediction: False\n",
            "Confidence: 0.6033\n",
            "--------------------------------------------------\n",
            "Text: Question: can you drink alcohol with your parents in wisconsin\n",
            "Passage: The drinking age in Wisconsin is 21. Those under the legal drinking age may be served, possess, or consume alcohol if they are with a parent, legal guardian, or spouse who is of legal drinking age. Those age 18-20 may also be served, possess or consumer alcohol if they are with a parent, legal guardian, or spouse who is of legal drinking age. Those age 18 to 20 may also possess (but not consume) alcohol as part of their employment.\n",
            "Answer:\n",
            "Prediction: True\n",
            "Confidence: 0.8764\n",
            "--------------------------------------------------\n",
            "Text: Question: do penguins have feathers arising from the epidermis\n",
            "Passage: Contour feathers are not uniformly distributed on the skin of the bird except in some groups such as the penguins, ratites and screamers. In most birds the feathers grow from specific tracts of skin called pterylae; between the pterylae there are regions which are free of feathers called apterylae (or apteria). Filoplumes and down may arise from the apterylae. The arrangement of these feather tracts, pterylosis or pterylography, varies across bird families and has been used in the past as a means for determining the evolutionary relationships of bird families.\n",
            "Answer:\n",
            "Prediction: True\n",
            "Confidence: 0.6268\n",
            "--------------------------------------------------\n",
            "Text: Question: do you need to break in a car\n",
            "Passage: A new engine is broken in by following specific driving guidelines during the first few hours of its use. The focus of breaking in an engine is on the contact between the piston rings of the engine and the cylinder wall. There is no universal preparation or set of instructions for breaking in an engine. Most importantly, experts disagree on whether it is better to start engines on high or low power to break them in. While there are still consequences to an unsuccessful break-in, they are harder to quantify on modern engines than on older models. In general, people no longer break in the engines of their own vehicles after purchasing a car or motorcycle, because the process is done in production. It is still common, even today, to find that an owner's manual recommends gentle use at first (often specified as the first 500 or 1000 kilometres or miles). But it is usually only normal use without excessive demands that is specified, as opposed to light/limited use. For example, the manual will specify that the car be driven normally, but not in excess of the highway speed limit.\n",
            "Answer:\n",
            "Prediction: False\n",
            "Confidence: 0.6213\n",
            "--------------------------------------------------\n",
            "Text: Question: is the enchanted forest in oregon still open\n",
            "Passage: The Enchanted Forest is an amusement park located in Turner in the U.S. state of Oregon, next to Interstate 5 just south of Salem. Creator Roger Tofte opened the park in 1971 after seven years of construction. Today, the Tofte family still owns and operates the 20-acre (8.1 ha) park.\n",
            "Answer:\n",
            "Prediction: True\n",
            "Confidence: 0.6217\n",
            "--------------------------------------------------\n",
            "Text: Question: is there a golf course at the indy 500\n",
            "Passage: On the grounds of the speedway is the Indianapolis Motor Speedway Museum, which opened in 1956, and houses the Auto Racing Hall of Fame. The museum moved into its current building located in the infield in 1976. Also on the grounds is the Brickyard Crossing Golf Resort, which originally opened as the Speedway Golf Course in 1929. The golf course has 14 holes outside the track, along the backstretch, and four holes in the infield. The speedway also served as the venue for the opening ceremonies for the 1987 Pan American Games.\n",
            "Answer:\n",
            "Prediction: True\n",
            "Confidence: 0.9123\n",
            "--------------------------------------------------\n",
            "Text: Question: does deadpool have a kid in the comics\n",
            "Passage: As part of Marvel's Marvel NOW! initiative a new Deadpool ongoing series was launched, written by Brian Posehn and Gerry Duggan and illustrated by Tony Moore. He is also a member of the Thunderbolts. In the 27th issue of his new series, as part of ``All-New Marvel NOW!'', Deadpool was married for the third time. Initially a secret, his bride was revealed in the webcomic Deadpool: The Gauntlet to be Shiklah, Queen of the Undead. Deadpool also discovers that he has a daughter by the name of Eleanor from a former flame of Deadpool named Carmelita.\n",
            "Answer:\n",
            "Prediction: True\n",
            "Confidence: 0.8326\n",
            "--------------------------------------------------\n",
            "Text: Question: do they still make benson & hedges cigarettes\n",
            "Passage: Benson & Hedges is a British brand of cigarettes owned by either Philip Morris International, British American Tobacco, or Japan Tobacco, depending on the region. In the UK, they are registered in Old Bond Street in London, and are manufactured in Lisnafillan, Ballymena, Northern Ireland.\n",
            "Answer:\n",
            "Prediction: False\n",
            "Confidence: 0.5207\n",
            "--------------------------------------------------\n",
            "Text: Question: is federal income tax the same as social security\n",
            "Passage: The Commonwealth government has its own tax laws and Puerto Ricans are also required to pay some US federal taxes, although most residents do not have to pay the federal personal income tax. In 2009, Puerto Rico paid $3.742 billion into the US Treasury. Residents of Puerto Rico pay into Social Security, and are thus eligible for Social Security benefits upon retirement. However, they are excluded from the Supplemental Security Income.\n",
            "Answer:\n",
            "Prediction: False\n",
            "Confidence: 0.6311\n",
            "--------------------------------------------------\n",
            "Text: Question: is an engine speed sensor the same as a crankshaft sensor\n",
            "Passage: The crank sensor can be used in combination with a similar camshaft position sensor to monitor the relationship between the pistons and valves in the engine, which is particularly important in engines with variable valve timing. This method is also used to ``synchronise'' a four stroke engine upon starting, allowing the management system to know when to inject the fuel. It is also commonly used as the primary source for the measurement of engine speed in revolutions per minute.\n",
            "Answer:\n",
            "Prediction: False\n",
            "Confidence: 0.5329\n",
            "--------------------------------------------------\n",
            "Text: Question: is indiana jones temple of doom a prequel\n",
            "Passage: Indiana Jones and the Temple of Doom is a 1984 American action-adventure film directed by Steven Spielberg. It is the second installment in the Indiana Jones franchise and a prequel to the 1981 film Raiders of the Lost Ark, featuring Harrison Ford reprising his role as the title character. After arriving in North India, Indiana Jones is asked by desperate villagers to find a mystical stone and rescue their children from a Thuggee cult practicing child slavery, black magic and ritual human sacrifice in honor of the goddess Kali.\n",
            "Answer:\n",
            "Prediction: True\n",
            "Confidence: 0.6675\n",
            "--------------------------------------------------\n",
            "Text: Question: is there any next part of avengers infinity war\n",
            "Passage: The untitled Avengers film, colloquially referred to as Avengers 4, is an upcoming American superhero film based on the Marvel Comics superhero team the Avengers, produced by Marvel Studios and distributed by Walt Disney Studios Motion Pictures. It is intended to be the direct sequel to 2018's Avengers: Infinity War, as well as the sequel to 2012's Marvel's The Avengers and 2015's Avengers: Age of Ultron and the twenty-second film in the Marvel Cinematic Universe (MCU). The film is directed by Anthony and Joe Russo, with a screenplay by the writing team of Christopher Markus and Stephen McFeely, and features an ensemble cast with many actors from previous MCU films.\n",
            "Answer:\n",
            "Prediction: True\n",
            "Confidence: 0.9544\n",
            "--------------------------------------------------\n",
            "Text: Question: is the toyota highlander on a truck frame\n",
            "Passage: Announced in April 2000 at the New York Auto Show and arriving in late 2000 in Japan and January 2001 in North America, the Highlander became one of the first car-based mid-size SUV or mid-size crossovers. The Highlander is the crossover counterpart to the more rugged, truck-based midsize 4Runner and became Toyota's best-selling SUV before being surpassed by the smaller RAV4 in 2006. In Japan, the Kluger is exclusive to dealership network called Toyota NETZ as a larger alternative to the RAV4.\n",
            "Answer:\n",
            "Prediction: True\n",
            "Confidence: 0.6797\n",
            "--------------------------------------------------\n",
            "Text: Question: is it legal to do a cover of a song\n",
            "Passage: Since the Copyright Act of 1909, United States musicians have had the right to record a version of someone else's previously recorded and released tune, whether it is music alone or music with lyrics. A license can be negotiated between representatives of the interpreting artist and the copyright holder, or recording published tunes can fall under a mechanical license whereby the recording artist pays a standard royalty to the original author/copyright holder through an organization such as the Harry Fox Agency, and is safe under copyright law even if they do not have any permission from the original author. A similar service was provided by Limelight by RightsFlow, until January 2015, when they announced they will be closing their service. The U.S. Congress introduced the mechanical license to head off an attempt by the Aeolian Company to monopolize the piano roll market.\n",
            "Answer:\n",
            "Prediction: True\n",
            "Confidence: 0.7238\n",
            "--------------------------------------------------\n",
            "Text: Question: can carbon form polar covalent bonds with hydrogen\n",
            "Passage: The carbon-hydrogen bond (C--H bond) is a bond between carbon and hydrogen atoms that can be found in many organic compounds. This bond is a covalent bond meaning that carbon shares its outer valence electrons with up to four hydrogens. This completes both of their outer shells making them stable. Carbon--hydrogen bonds have a bond length of about 1.09 Å (1.09 × 10 m) and a bond energy of about 413 kJ/mol (see table below). Using Pauling's scale--C (2.55) and H (2.2)--the electronegativity difference between these two atoms is 0.35. Because of this small difference in electronegativities, the C−H bond is generally regarded as being non-polar. In structural formulas of molecules, the hydrogen atoms are often omitted. Compound classes consisting solely of C--H bonds and C--C bonds are alkanes, alkenes, alkynes, and aromatic hydrocarbons. Collectively they are known as hydrocarbons.\n",
            "Answer:\n",
            "Prediction: True\n",
            "Confidence: 0.8785\n",
            "--------------------------------------------------\n",
            "Text: Question: is there a sequel to the movie the golden compass\n",
            "Passage: In 2011, Philip Pullman remarked at the British Humanist Association annual conference that due to the first film's disappointing sales in the United States, there would not be any sequels made.\n",
            "Answer:\n",
            "Prediction: False\n",
            "Confidence: 0.9784\n",
            "--------------------------------------------------\n",
            "Text: Question: is columbus day a national holiday in the united states\n",
            "Passage: Columbus Day is a national holiday in many countries of the Americas and elsewhere which officially celebrates the anniversary of Christopher Columbus's arrival in the Americas on October 12, 1492. The landing is celebrated as ``Columbus Day'' in the United States, as ``Día de la Raza'' (``Day of the Race'') in some countries in Latin America, as ``Día de la Hispanidad'' and ``Fiesta Nacional'' in Spain, where it is also the religious festivity of la Virgen del Pilar, as Día de las Américas (Day of the Americas) in Belize and Uruguay, as Día del Respeto a la Diversidad Cultural (Day of Respect for Cultural Diversity) in Argentina, and as Giornata Nazionale di Cristoforo Colombo or Festa Nazionale di Cristoforo Colombo in Italy as well as in Little Italys around the world. As the day of remembrance of Our Lady of the Pillar, 12 October had been declared a religious feast day throughout the Spanish Empire in 1730; the secular Fiesta de la Raza Española was first proposed by Faustino Rodríguez-San Pedro y Díaz-Argüelles in 1913. In recent years, celebration of the holiday has faced some opposition from various organizations.\n",
            "Answer:\n",
            "Prediction: True\n",
            "Confidence: 0.7998\n",
            "--------------------------------------------------\n",
            "Text: Question: are new balance and nike the same company\n",
            "Passage: New Balance maintains a manufacturing presence in the United States, as well as in the United Kingdom for the European market, where they produce some of their most popular models such as the 990 model--in contrast to its competitors, which often manufacture exclusively outside the USA and Europe. As a result, New Balance shoes tend to be more expensive than those of many other manufacturers. To offset this pricing difference, New Balance claims to differentiate their products with technical features, such as blended gel inserts, heel counters and a greater selection of sizes, particularly for very narrow and/or very wide widths. The company has made total profits of approximately $69 billion since 1992. They are the second most-renown American sporting company, after Nike.\n",
            "Answer:\n",
            "Prediction: False\n",
            "Confidence: 0.7840\n",
            "--------------------------------------------------\n",
            "Text: Question: is there an interstate that goes coast to coast\n",
            "Passage: U.S. Highway 20 (US 20) is an east--west United States highway that stretches from the Pacific Northwest all the way to New England. The ``0'' in its route number indicates that US 20 is a coast-to-coast route. Spanning 3,365 miles (5,415 km), it is the longest road in the United States, and particularly from Idaho to Massachusetts, the route roughly parallels that of Interstate 90 (I-90), which is in turn the longest Interstate Highway in the U.S. There is a discontinuity in the official designation of US 20 through Yellowstone National Park, with unnumbered roads used to traverse the park.\n",
            "Answer:\n",
            "Prediction: True\n",
            "Confidence: 0.7709\n",
            "--------------------------------------------------\n",
            "Text: Question: is pureed tomatoes the same as tomato sauce\n",
            "Passage: Tomato purée is a thick liquid made by cooking and straining tomatoes. The difference between tomato paste, tomato purée, and tomato sauce is consistency; tomato puree has a thicker consistency and a deeper flavour than sauce.\n",
            "Answer:\n",
            "Prediction: False\n",
            "Confidence: 0.9064\n",
            "--------------------------------------------------\n",
            "Text: Question: can there be a word without a vowel\n",
            "Passage: English orthography typically represents vowel sounds with the five conventional vowel letters ⟨a, e, i, o, u⟩, as well as ⟨y⟩, which may also be a consonant depending on context. However, outside of abbreviations, there are a handful of words in English that do not have vowels, either because the vowel sounds are not written with vowel letters or because the words themselves are pronounced without vowel sounds.\n",
            "Answer:\n",
            "Prediction: True\n",
            "Confidence: 0.7265\n",
            "--------------------------------------------------\n",
            "Text: Question: does only the winner get money on tipping point\n",
            "Passage: Tipping Point is a British television game show which began airing on ITV on 2 July 2012, and is presented by Ben Shephard. Four contestants answer general knowledge questions to win counters which they use on a large coin pusher arcade-style machine. Only the winner at the end has a chance to take home any money; the others leave with nothing except any non-cash prizes they may have won during the game.\n",
            "Answer:\n",
            "Prediction: False\n",
            "Confidence: 0.5594\n",
            "--------------------------------------------------\n",
            "Text: Question: is there such a thing as a turkey vulture\n",
            "Passage: The turkey vulture (Cathartes aura), also known in some North American regions as the turkey buzzard (or just buzzard), and in some areas of the Caribbean as the John crow or carrion crow, is the most widespread of the New World vultures. One of three species in the genus Cathartes of the family Cathartidae, the turkey vulture ranges from southern Canada to the southernmost tip of South America. It inhabits a variety of open and semi-open areas, including subtropical forests, shrublands, pastures, and deserts.\n",
            "Answer:\n",
            "Prediction: True\n",
            "Confidence: 0.9498\n",
            "--------------------------------------------------\n",
            "Text: Question: has anyone hit a hole in one on a par 5\n",
            "Passage: As of October 2008, a condor (four under par) hole-in-one on a par 5 hole had been recorded on four occasions, aided by thin air at high altitude, or by cutting the corner on a doglegged or horseshoe-shaped hole. A horseshoe-shaped par 5 hole once enabled a condor hole in one to be achieved with a 3-iron club. The longest recorded straight drive hole-in-one is believed to be 517 yards or 473 metres, on the par 5 No. 9 hole at Green Valley Ranch Golf Club in Denver in 2002, aided by the thin air due to the high altitude. None of these four par 5 holes-in-one were achieved during a professional tournament. A condor is also known as a double albatross, or a triple eagle.\n",
            "Answer:\n",
            "Prediction: True\n",
            "Confidence: 0.9139\n",
            "--------------------------------------------------\n",
            "Text: Question: do the jets and giants share a stadium\n",
            "Passage: MetLife Stadium is an American sports stadium located in East Rutherford, New Jersey, 8 miles outside of New York City. It is part of the Meadowlands Sports Complex and serves as the home stadium for two National Football League (NFL) franchises: the New York Giants and the New York Jets. The stadium is owned by the MetLife Stadium Company, a joint venture of the Giants and Jets, who jointly built the stadium using private funds on land owned by the New Jersey Sports and Exposition Authority. The stadium opened as New Meadowlands Stadium in 2010. In 2011, MetLife, an insurance company based in New York City, acquired the naming rights to the stadium. At a construction cost of approximately $1.6 billion, it was the most expensive stadium ever built, at the time it opened, and is the second-largest stadium in the NFL in terms of seating capacity.\n",
            "Answer:\n",
            "Prediction: True\n",
            "Confidence: 0.7776\n",
            "--------------------------------------------------\n",
            "Text: Question: is the us womens soccer team in the world cup\n",
            "Passage: After the defeat in the 2016 Olympics, the USWNT underwent a year of experimentation which saw them losing 3 home games. If not for a comeback win against Brazil, the USWNT was on the brink of losing 4 home games in one year, a low never before seen by the USWNT. 2017 saw the USWNT play 12 games against teams ranked in the top-15 in the world. The USWNT heads into World Cup Qualifying in fall of 2018.\n",
            "Answer:\n",
            "Prediction: False\n",
            "Confidence: 0.7262\n",
            "--------------------------------------------------\n",
            "Text: Question: can an african team win the world cup\n",
            "Passage: Association football is the most popular sport in nearly every African country, and 13 members of the Confederation of African Football (CAF) have competed at the sport's biggest event -- the men's FIFA World Cup.\n",
            "Answer:\n",
            "Prediction: True\n",
            "Confidence: 0.8947\n",
            "--------------------------------------------------\n",
            "Text: Question: can a hammer be used as a weapon\n",
            "Passage: Many martial arts employ the use of common objects as weapons; Filipino martial arts such as Eskrima include practice with machetes, canes, bamboo spears, and knives as a result of the 333 year Spanish colonization that took place in the Philippines which prohibited the ownership and use of standard swords and bladed weapons; Chinese martial arts and some Korean martial arts commonly feature the use of improvised weapons such as fans, hammers and staves. There are even some western martial arts that are based on improvised weapons such as British quarterstaff fighting and Irish stick fighting.\n",
            "Answer:\n",
            "Prediction: True\n",
            "Confidence: 0.8871\n",
            "--------------------------------------------------\n",
            "Text: Question: do they still have fox hunts in england\n",
            "Passage: Fox hunting with hounds, as a formalised activity, originated in England in the sixteenth century, in a form very similar to that practised until February 2005, when a law banning the activity in England and Wales came into force. A ban on hunting in Scotland had been passed in 2002, but it continues to be within the law in Northern Ireland and several other countries, including Australia, Canada, France, Ireland and the United States. In Australia, the term also refers to the hunting of foxes with firearms, similar to deer hunting. In much of the world, hunting in general is understood to relate to any game animals or weapons (e.g., deer hunting with bow and arrow); in Britain and Ireland, ``hunting'' without qualification implies fox hunting (or other forms of hunting with hounds--beagling, drag hunting, hunting the clean boot, mink hunting, or stag hunting), as described here.\n",
            "Answer:\n",
            "Prediction: True\n",
            "Confidence: 0.6812\n",
            "--------------------------------------------------\n",
            "Text: Question: can you wear short sleeve shirt with asu jacket\n",
            "Passage: The ASU includes a midnight blue coat and low waist trousers for male soldiers; and a midnight blue coat, slacks and skirt for female soldiers. The fabric for the ASU is heavier and more wrinkle resistant than previously manufactured uniforms and will consist of 55% wool and 45% polyester material. The ASU coat has a tailored, athletic cut to improve uniform fit and appearance. The ASU includes an improved heavier and wrinkle resistant short and long-sleeved white shirt with permanent military creases and shoulder loops. The JROTC version replaces the white shirt with the prototype grey shirt and gold braid is not worn on the blue trousers or on the sleeves of the class A coat. Compared to the Army's previous uniforms, the ASU does not include a garrison cap; soldiers will continue to wear the Army's berets.\n",
            "Answer:\n",
            "Prediction: True\n",
            "Confidence: 0.5627\n",
            "--------------------------------------------------\n",
            "Text: Question: has wisconsin ever been in the little league world series\n",
            "Passage: This is the list of U.S. states that have participated in the Little League World Series. As of the 2018 LLWS, eight states had never reached the LLWS: Alaska, Colorado, Kansas, North Dakota, Utah, Vermont, Wisconsin, and Wyoming; additionally, the District of Columbia has never reached the LLWS.\n",
            "Answer:\n",
            "Prediction: True\n",
            "Confidence: 0.6323\n",
            "--------------------------------------------------\n",
            "Text: Question: does damon and elena get together in season 3\n",
            "Passage: In the third season, Damon helps Elena in bringing his brother, Stefan, back to Mystic Falls after Stefan becomes Klaus' henchman. The arrangement transpired after a bargain for his blood that would cure Damon of the werewolf bite he had received from Tyler. At first, he is reluctant to involve Elena in the rescue attempts, employing Alaric Saltzman, Elena's guardian, instead as Klaus does not know that Elena is alive after the sacrifice which frees Klaus' hybrid side. However, Elena involves herself, desperate to find Stefan. Damon, though hesitant at first, is unable to refuse her because of his love for her. He also points out to her that she once turned back from finding Stefan since she knew Damon would be in danger, clearly showing that she also has feelings for him. He tells her that ``when (he) drag(s) (his) brother from the edge to deliver him back to (her), (he) wants her to remember the things (she) felt while he was gone.'' When Stefan finally returns to Mystic Falls, his attitude is different from that of the first and second seasons. This causes a rift between Elena and Stefan whereas the relationship between Damon and Elena becomes closer and more intimate. A still loyal Elena, however, refuses to admit her feelings for Damon. In 'Dangerous Liaisons', Elena, frustrated with her feelings for him, tells Damon that his love for her may be a problem, and that this could be causing all their troubles. This incenses Damon, causing him to revert to the uncaring and reckless Damon seen in the previous seasons. The rocky relationship between the two continues until the sexual tension hits the fan and in a moment of heated passion, Elena -- for the first time in the three seasons -- kisses Damon of her own accord. This kiss finally causes Elena to admit that she loves both brothers and realize that she must ultimately make her choice as her own ancestress, Katherine Pierce, who turned the brothers, once did. In assessment of her feelings for Damon, she states this: ``Damon just sort of snuck up on me. He got under my skin and no matter what I do, I can't shake him.'' In the season finale, a trip designed to get her to safety forces Elena to make her choice: to go to Damon and possibly see him one last time; or to go to Stefan and her friends and see them one last time. She chooses the latter when she calls Damon to tell him her decision. Damon, who is trying to stop Alaric, accepts what she says and she tells him that maybe if she had met Damon before she had met Stefan, her choice may have been different. This statement causes Damon to remember the first night he did meet Elena which was, in fact, the night her parents died - before she had met Stefan. Not wanting anyone to know he was in town and after giving her some advice about life and love, Damon compels her to forget. He remembers this as he fights Alaric and seems accepting of his death when Alaric, whose life line is tied to Elena's, suddenly collapses in his arms. Damon is grief-stricken, knowing that this means that Elena has also died and yells, ``No! You are not dead!'' A heartbroken Damon then goes to the hospital demanding to see Elena when the doctor, Meredith Fell, tells him that she gave Elena vampire blood. The last shot of the season finale episode shows Elena in transition.\n",
            "Answer:\n",
            "Prediction: True\n",
            "Confidence: 0.5368\n",
            "--------------------------------------------------\n",
            "Text: Question: is there a player in the nfl missing a hand\n",
            "Passage: Shaquem Alphonso Griffin /ʃəˈkiːm/ (born July 20, 1995) is an American football linebacker for the Seattle Seahawks of the National Football League (NFL). He is the twin brother of Seahawks cornerback Shaquill Griffin, and both brothers played college football for the University of Central Florida Knights. As an amputee with one hand, Shaquem Griffin received extensive media coverage as a prospective 2018 NFL Draft pick. He was selected as a fifth round pick (141st overall) by the Seahawks on April 28, 2018, reuniting him with Shaquill.\n",
            "Answer:\n",
            "Prediction: True\n",
            "Confidence: 0.9323\n",
            "--------------------------------------------------\n",
            "Text: Question: is the other boleyn girl part of a series\n",
            "Passage: The novel was followed by a sequel called The Queen's Fool, set during the reign of Henry's daughter, Queen Mary. The Queen's Fool was followed by The Virgin's Lover, set during the early days of Queen Elizabeth I's reign.\n",
            "Answer:\n",
            "Prediction: True\n",
            "Confidence: 0.7573\n",
            "--------------------------------------------------\n",
            "Text: Question: is there a group called the five heartbeats\n",
            "Passage: To promote the film prior to its release, Townsend, along with the other actors who portrayed the fictional musical quartet The Five Heartbeats (Leon Robinson, Michael Wright, Harry J. Lennix, and Tico Wells) performed in a concert with real-life Soul/R&B vocal group The Dells, one of many groups that inspired the film. The Dells sang and recorded the vocals as the actors lip synced.\n",
            "Answer:\n",
            "Prediction: True\n",
            "Confidence: 0.7958\n",
            "--------------------------------------------------\n",
            "Text: Question: is mount everest a part of the himalayas\n",
            "Passage: The Himalayan range has many of the Earth's highest peaks, including the highest, Mount Everest. The Himalayas include over fifty mountains exceeding 7,200 metres (23,600 ft) in elevation, including ten of the fourteen 8,000-metre peaks. By contrast, the highest peak outside Asia (Aconcagua, in the Andes) is 6,961 metres (22,838 ft) tall.\n",
            "Answer:\n",
            "Prediction: True\n",
            "Confidence: 0.5894\n",
            "--------------------------------------------------\n",
            "Text: Question: can an emt-basic start an iv\n",
            "Passage: EMT-I/85 is a level of EMT-I training formulated by the National Registry of Emergency Medical Technicians in 1985. This training level includes more invasive procedures than are covered at the EMT-Basic level, including IV therapy, the use of advanced airway devices, and provides for advanced assessment skills. The EMT-I/85 typically administered the same medications as an EMT-B (oxygen, oral glucose, activated charcoal, epinephrine auto-injectors (EpiPens), nitroglycerin, and metered-dose inhalers such as albuterol). However, in some states they were also allowed to administer naloxone, D50, and glucagon. Like all other EMT levels, their scope of practice was governed by the state and/or their Medical Director.\n",
            "Answer:\n",
            "Prediction: True\n",
            "Confidence: 0.9093\n",
            "--------------------------------------------------\n",
            "Text: Question: has no 1 court at wimbledon got a roof\n",
            "Passage: In April 2013, the All England Club confirmed its intention to build a retractable roof over No.1 Court. The roof is expected to be in place for the 2019 Championships.\n",
            "Answer:\n",
            "Prediction: False\n",
            "Confidence: 0.5120\n",
            "--------------------------------------------------\n",
            "Text: Question: has anyone come back from 3-0 in the nba finals\n",
            "Passage: The following is the list of teams to overcome 3--1 series deficits by winning three straight games to win a best-of-seven playoff series. In the history of major North American pro sports, teams that were down 3--1 in the series came back and won the series 52 times, more than half of them were accomplished by National Hockey League (NHL) teams. Teams overcame 3--1 deficit in the final championship round eight times, six were accomplished by Major League Baseball (MLB) teams in the World Series. Teams overcoming 3--0 deficit by winning four straight games were accomplished five times, four times in the NHL and once in MLB.\n",
            "Answer:\n",
            "Prediction: True\n",
            "Confidence: 0.9419\n",
            "--------------------------------------------------\n",
            "Text: Question: do radio waves travel at the speed of light\n",
            "Passage: Radio waves are a type of electromagnetic radiation with wavelengths in the electromagnetic spectrum longer than infrared light. Radio waves have frequencies as high as 300 gigahertz (GHz) to as low as 30 hertz (Hz). At 300 GHz, the corresponding wavelength is 1 mm, and at 30 Hz is 10,000 km. Like all other electromagnetic waves, radio waves travel at the speed of light. They are generated by electric charges undergoing acceleration, such as time varying electric currents. Naturally occurring radio waves are emitted by lightning and astronomical objects.\n",
            "Answer:\n",
            "Prediction: True\n",
            "Confidence: 0.7089\n",
            "--------------------------------------------------\n",
            "Text: Question: did anyone from the 1980 us hockey team play in the nhl\n",
            "Passage: Of the 20 players on Team USA, 13 eventually played in the NHL. Five of them went on to play over 500 NHL games, and three would play over 1,000 NHL games.\n",
            "Answer:\n",
            "Prediction: True\n",
            "Confidence: 0.8742\n",
            "--------------------------------------------------\n",
            "Text: Question: do all triangles have at least two acute angles\n",
            "Passage: An acute triangle is a triangle with all three angles acute (less than 90°). An obtuse triangle is one with one obtuse angle (greater than 90°) and two acute angles. Since a triangle's angles must sum to 180°, no triangle can have more than one obtuse angle.\n",
            "Answer:\n",
            "Prediction: False\n",
            "Confidence: 0.6867\n",
            "--------------------------------------------------\n",
            "Text: Question: is baylor and mary hardin baylor the same school\n",
            "Passage: The University of Mary Hardin--Baylor (UMHB) is a Christian co-educational institution of higher learning located in Belton, Texas, United States. UMHB was chartered by the Republic of Texas in 1845 as Baylor Female College, the female department of what is now Baylor University. It has since become its own institution and grown to 3,914 students and awards degrees at the baccalaureate, master's, and doctoral levels. It is affiliated with the Baptist General Convention of Texas.\n",
            "Answer:\n",
            "Prediction: False\n",
            "Confidence: 0.5154\n",
            "--------------------------------------------------\n",
            "Text: Question: can you get the death penalty as a minor\n",
            "Passage: Capital punishment for juveniles in the United States existed until March 1, 2005, when the U.S. Supreme Court banned it in Roper v. Simmons.\n",
            "Answer:\n",
            "Prediction: False\n",
            "Confidence: 0.6961\n",
            "--------------------------------------------------\n",
            "Text: Question: did indian football team qualified for fifa 2018\n",
            "Passage: India has never participated in the FIFA World Cup, although the team did qualify by default for the 1950 World Cup after all the other nations in their qualification group withdrew. However, India withdrew prior to the beginning of the tournament. The team has also appeared three times in the Asia's top football competition, the AFC Asian Cup. Their best result in the competition occurred in 1964 when the team finished as runners-up. India also participate in the SAFF Championship, the top regional football competition in South Asia. They have won the tournament six times since it began in 1993.\n",
            "Answer:\n",
            "Prediction: False\n",
            "Confidence: 0.8852\n",
            "--------------------------------------------------\n",
            "Text: Question: are t rex and tyrannosaurus rex the same\n",
            "Passage: Tyrannosaurus is a genus of coelurosaurian theropod dinosaur. The species Tyrannosaurus rex (rex meaning ``king'' in Latin), often colloquially called simply T. rex or T-Rex, is one of the most well-represented of the large theropods. Tyrannosaurus lived throughout what is now western North America, on what was then an island continent known as Laramidia. Tyrannosaurus had a much wider range than other tyrannosaurids. Fossils are found in a variety of rock formations dating to the Maastrichtian age of the upper Cretaceous Period, 68 to 66 million years ago. It was the last known member of the tyrannosaurids, and among the last non-avian dinosaurs to exist before the Cretaceous--Paleogene extinction event.\n",
            "Answer:\n",
            "Prediction: True\n",
            "Confidence: 0.6400\n",
            "--------------------------------------------------\n",
            "Text: Question: is the old panama canal still in use\n",
            "Passage: The new locks opened for commercial traffic on 26 June 2016, and the first ship to cross the canal using the third set of locks was a modern New Panamax vessel, the Chinese-owned container ship Cosco Shipping Panama. The original locks, now over 100 years old, allow engineers greater access for maintenance, and are projected to continue operating indefinitely.\n",
            "Answer:\n",
            "Prediction: True\n",
            "Confidence: 0.6479\n",
            "--------------------------------------------------\n",
            "Text: Question: do you need a pal to possess ammunition\n",
            "Passage: A possession and acquisition licence is a licence that allows individuals in Canada to possess and acquire firearms as well as ammunition. Licences are typically valid for five years and must be renewed prior to expiry to maintain all classes. If an individual possessing a PAL is convicted of certain offences, a PAL can be revoked. If an individual does not renew their PAL prior to its expiration date or if they have their PAL revoked, they must legally dispose of any firearms in their possession. A licence for prohibited firearms can be issued to qualifying businesses, and very rarely to individuals (firearms they own, as the gun laws changed over time.) Previous convictions for serious violent, drug or weapons offences almost invariably result in the denial of the application.\n",
            "Answer:\n",
            "Prediction: True\n",
            "Confidence: 0.5732\n",
            "--------------------------------------------------\n",
            "Text: Question: do blue and pink cotton candy taste the same\n",
            "Passage: Typically, once spun, cotton candy is only marketed by color. Absent a clear name other than 'blue', the distinctive taste of the blue raspberry flavor mix has gone on to become a compound flavor that some other foods (gum, ice cream, rock candy, fluoride toothpaste) occasionally borrow (``cotton-candy flavored ice cream'') to invoke the nostalgia of cotton candy that people typically only get to experience on vacation or holidays. Pink bubble gum went through a similar transition from specific branded product to a generic flavor that transcended the original confection, and 'bubble gum flavor' often shows up in the same product categories as 'cotton candy flavor'.\n",
            "Answer:\n",
            "Prediction: False\n",
            "Confidence: 0.5792\n",
            "--------------------------------------------------\n",
            "Text: Question: did to kill a mockingbird win an academy award\n",
            "Passage: The film received overwhelmingly positive reviews from critics and was a box-office success, earning more than six times its budget. The film won three Academy Awards, including Best Actor for Peck, and was nominated for eight, including Best Picture.\n",
            "Answer:\n",
            "Prediction: True\n",
            "Confidence: 0.5697\n",
            "--------------------------------------------------\n",
            "Text: Question: is there such a thing as a floating island\n",
            "Passage: A floating island is a mass of floating aquatic plants, mud, and peat ranging in thickness from several centimetres to a few metres. Floating islands are a common natural phenomenon that are found in many parts of the world. They exist less commonly as a man-made phenomenon. Floating islands are generally found on marshlands, lakes, and similar wetland locations, and can be many hectares in size.\n",
            "Answer:\n",
            "Prediction: True\n",
            "Confidence: 0.9000\n",
            "--------------------------------------------------\n",
            "Text: Question: do female ferrets die if they don't mate\n",
            "Passage: Males, if not neutered, are extremely musky. It is considered preferable to delay neutering until sexual maturity has been reached, at approximately six to eight months old, after the full descent of the testicles. Neutering the male will reduce the smell to almost nothing. The same applies for females, but spaying them is also important for their own health. Unless they are going to be used for breeding purposes, female ferrets will go into extended heat. A female that does not mate can die of aplastic anemia without medical intervention. It is possible to use a vasectomised male to take a female out of heat.\n",
            "Answer:\n",
            "Prediction: True\n",
            "Confidence: 0.6149\n",
            "--------------------------------------------------\n",
            "Text: Question: will all xbox 360 games work on xbox one\n",
            "Passage: The Xbox One gaming console has received updates from Microsoft since its launch in 2013 that enable it to play select games from its two predecessor consoles, Xbox and Xbox 360. On June 15, 2015, backward compatibility with supported Xbox 360 games became available to eligible Xbox Preview program users with a beta update to the Xbox One system software. The dashboard update containing backward compatibility was released publicly on November 12, 2015. On October 24, 2017, another such update added games from the original Xbox library. The following is a list of all backward compatible games on Xbox One under this functionality.\n",
            "Answer:\n",
            "Prediction: True\n",
            "Confidence: 0.9564\n",
            "--------------------------------------------------\n",
            "Text: Question: is there a right and left brachiocephalic artery\n",
            "Passage: There is no brachiocephalic artery for the left side of the body. The left common carotid, and the left subclavian artery, come directly off the aortic arch. However, there are two brachiocephalic veins.\n",
            "Answer:\n",
            "Prediction: False\n",
            "Confidence: 0.7346\n",
            "--------------------------------------------------\n",
            "Text: Question: do the runners up on survivor win money\n",
            "Passage: The Sole Survivor receives a cash prize of $1,000,000 prior to taxes and sometimes also receives a car provided by the show's sponsor. Every player receives a prize for participating on Survivor depending on how long he or she lasts in the game. In most seasons, the runner-up receives $100,000, and third place wins $85,000. All other players receive money on a sliding scale, though specific amounts have rarely been made public. Sonja Christopher, the first player voted off of Survivor: Borneo, received $2,500. In Survivor: Fiji, the first season with tied runners-up, the two runners-up received US$100,000 each, and Yau-Man Chan received US$60,000 for his fourth-place finish. All players also receive an additional $10,000 for their appearance on the reunion show.\n",
            "Answer:\n",
            "Prediction: True\n",
            "Confidence: 0.7435\n",
            "--------------------------------------------------\n",
            "Text: Question: is there a sequel to love finds a home\n",
            "Passage: Love Finds a Home is a Christian drama film, the eighth and final installment based on a series of books by Janette Oke. It aired on Hallmark Channel on September 5, 2009. The film is based on the book Love Finds a Home by Janette Oke. Sarah Jones, Haylie Duff, and Jordan Bridges reprise their roles from Love Takes Wing.\n",
            "Answer:\n",
            "Prediction: True\n",
            "Confidence: 0.8568\n",
            "--------------------------------------------------\n",
            "Text: Question: will there be a second season of 11.22.63\n",
            "Passage: When asked about developing a sequel series, King stated ``I'd love to revisit Jake and Sadie, and also revisit the rabbit hole that dumps people into the past, but sometimes it's best not to go back for a second helping.''.\n",
            "Answer:\n",
            "Prediction: False\n",
            "Confidence: 0.6921\n",
            "--------------------------------------------------\n",
            "Text: Question: are there nuclear power plants in the us\n",
            "Passage: Nuclear power in the United States is provided by 99 commercial reactors with a net capacity of 100,350 megawatts (MW), 65 pressurized water reactors and 34 boiling water reactors. In 2016 they produced a total of 805.3 terawatt-hours of electricity, which accounted for 19.7% of the nation's total electric energy generation. In 2016, nuclear energy comprised nearly 60 percent of U.S. emission-free generation.\n",
            "Answer:\n",
            "Prediction: True\n",
            "Confidence: 0.8104\n",
            "--------------------------------------------------\n",
            "Text: Question: is there a tiebreaker in final set at wimbledon\n",
            "Passage: The tiebreak is sometimes not employed for the final set of a match and an advantage set is used instead. Therefore, the deciding set must be played until one player or team has won two more games than the opponent. This is true in three of the four major tennis championships, all except the US Open where a tiebreak is played even in the deciding set (fifth set for the men, third set for the women) at 6--6. A tiebreak is not played in the deciding set in the other three majors -- the Australian Open, the French Open, and Wimbledon. (When the tiebreak was first introduced at Wimbledon in 1971, it was invoked at 8--8 rather than 6--6.) The US Open holds ``Super Saturday'' where the two men's semi-finals are played along with the women's final on the second Saturday of the event; therefore a tie-break is more prudent where player rest and scheduling is more important.\n",
            "Answer:\n",
            "Prediction: False\n",
            "Confidence: 0.5263\n",
            "--------------------------------------------------\n",
            "Text: Question: were the twin towers the world trade center\n",
            "Passage: The original World Trade Center was a large complex of seven buildings in Lower Manhattan, New York City, United States. It featured the landmark Twin Towers, which opened on April 4, 1973 and were destroyed in 2001 during the September 11 attacks. At the time of their completion, the Twin Towers -- the original 1 World Trade Center, at 1,368 feet (417 m); and 2 World Trade Center, at 1,362 feet (415.1 m) -- were the tallest buildings in the world. Other buildings in the complex included the Marriott World Trade Center (3 WTC), 4 WTC, 5 WTC, 6 WTC, and 7 WTC. The complex was located in New York City's Financial District and contained 13,400,000 square feet (1,240,000 m) of office space.\n",
            "Answer:\n",
            "Prediction: True\n",
            "Confidence: 0.7717\n",
            "--------------------------------------------------\n",
            "Text: Question: did deion sanders ever win a world series\n",
            "Passage: Sanders played football primarily at cornerback, but also as a kick returner, punt returner, and occasionally wide receiver. He played in the National Football League (NFL) for the Atlanta Falcons, the San Francisco 49ers, the Dallas Cowboys, the Washington Redskins and the Baltimore Ravens, winning the Super Bowl with both the 49ers and the Cowboys. An outfielder in baseball, he played professionally for the New York Yankees, the Atlanta Braves, the Cincinnati Reds and the San Francisco Giants, and participated in the 1992 World Series with the Braves. He attended Florida State University, where he was recognized as a two-time All-American in football, and also played baseball and ran track.\n",
            "Answer:\n",
            "Prediction: True\n",
            "Confidence: 0.8498\n",
            "--------------------------------------------------\n",
            "Text: Question: is a german shepard the same as an alsatian\n",
            "Passage: The German Shepherd (German: Deutscher Schäferhund, German pronunciation: (ˈʃɛːfɐˌhʊnt)) is a breed of medium to large-sized working dog that originated in Germany. The breed's officially recognized name is German Shepherd Dog in the English language (sometimes abbreviated as GSD). The breed is known as the Alsatian in Britain and Ireland. The German Shepherd is a relatively new breed of dog, with their origin dating to 1899. As part of the Herding Group, German Shepherds are working dogs developed originally for herding sheep. Since that time however, because of their strength, intelligence, trainability, and obedience, German Shepherds around the world are often the preferred breed for many types of work, including disability assistance, search-and-rescue, police and military roles, and even acting. The German Shepherd is the second-most registered breed by the American Kennel Club and seventh-most registered breed by The Kennel Club in the United Kingdom.\n",
            "Answer:\n",
            "Prediction: True\n",
            "Confidence: 0.8555\n",
            "--------------------------------------------------\n",
            "Text: Question: does a frog jump out of boiling water\n",
            "Passage: While some 19th-century experiments suggested that the underlying premise is true if the heating is sufficiently gradual, according to contemporary biologists the premise is false: a frog that is gradually heated will jump out. Indeed, thermoregulation by changing location is a fundamentally necessary survival strategy for frogs and other ectotherms.\n",
            "Answer:\n",
            "Prediction: False\n",
            "Confidence: 0.5738\n",
            "--------------------------------------------------\n",
            "Text: Question: is it possible to create mass from energy\n",
            "Passage: In high-energy particle colliders, matter creation events have yielded a wide variety of exotic heavy particles precipitating out of colliding photon jets (see two-photon physics). Currently, two-photon physics studies creation of various fermion pairs both theoretically and experimentally (using particle accelerators, air showers, radioactive isotopes, etc.).\n",
            "Answer:\n",
            "Prediction: True\n",
            "Confidence: 0.9208\n",
            "--------------------------------------------------\n",
            "Text: Question: is there a movie with 0 on rotten tomatoes\n",
            "Passage: On the film review aggregation website Rotten Tomatoes, films that all surveyed critics consider bad have a 0% rating. Some of these are often considered some of the worst films ever made.\n",
            "Answer:\n",
            "Prediction: False\n",
            "Confidence: 0.6278\n",
            "--------------------------------------------------\n",
            "Text: Question: is the jaguar s type rear wheel drive\n",
            "Passage: From model years 1999 to 2002, the rear-wheel-drive S-Type was equipped with either a five-speed manual (Getrag 221) or a five-speed J-Gate Ford 5R55N transmission . From 2003, the S-Type was produced with either a 5-speed manual transmission or a six-speed J-Gate transmission that allows automatic gear selection or clutchless manual gear selection. The 2004 diesel saw the introduction of a 6-speed manual transmission; it was also available with the six-speed J-Gate automatic transmission.\n",
            "Answer:\n",
            "Prediction: True\n",
            "Confidence: 0.7149\n",
            "--------------------------------------------------\n",
            "Text: Question: is a tablespoon bigger than a dessert spoon\n",
            "Passage: As a unit of culinary measure, a level dessertspoon (dstspn.) equals two teaspoons, or 10 milliliters, whereas a U.S. tablespoon is three teaspoons (15ml or half a fluid ounce) in the U.S., and two dessertspoons, i.e. four teaspoons (20ml or two thirds of a fluid ounce) in Britain and Australia, which is the old British standard. For dry ingredients, a rounded or heaped teaspoonful is often specified instead.\n",
            "Answer:\n",
            "Prediction: False\n",
            "Confidence: 0.6868\n",
            "--------------------------------------------------\n",
            "Text: Question: is this the last season of bunk'd\n",
            "Passage: The series was renewed for a third season by Disney Channel on August 31, 2017. On June 1, 2018, it was announced that Peyton List, Karan Brar, Skai Jackson, and Miranda May would be returning for the third season and that Raphael Alejandro, Will Buie Jr., and Mallory Mahoney would be joining the cast. The third season premiered on Disney Channel on June 18, 2018. In March 2018, actress Skai Jackson stated in an interview that she was leaving Disney and that Bunk'd would end with the third season.\n",
            "Answer:\n",
            "Prediction: False\n",
            "Confidence: 0.7289\n",
            "--------------------------------------------------\n",
            "Text: Question: does the president live in the white house\n",
            "Passage: The White House is the official residence and workplace of the President of the United States. It is located at 1600 Pennsylvania Avenue NW in Washington, D.C. and has been the residence of every U.S. President since John Adams in 1800. The term is often used as a metonym for the president and his advisers.\n",
            "Answer:\n",
            "Prediction: True\n",
            "Confidence: 0.5397\n",
            "--------------------------------------------------\n",
            "Text: Question: does the dorsal root ganglion carry sensory input\n",
            "Passage: A dorsal root ganglion (or spinal ganglion) (also known as a posterior root ganglion), is a cluster of neurons (a ganglion) in a dorsal root of a spinal nerve. The cell bodies of sensory neurons known as first-order neurons are located in the dorsal root ganglia.\n",
            "Answer:\n",
            "Prediction: True\n",
            "Confidence: 0.8289\n",
            "--------------------------------------------------\n",
            "Text: Question: is anne with an e filmed on pei\n",
            "Passage: The series is filmed partially in Prince Edward Island as well as locations in Southern Ontario (including Millbrook and Caledon).\n",
            "Answer:\n",
            "Prediction: True\n",
            "Confidence: 0.7580\n",
            "--------------------------------------------------\n",
            "Text: Question: is angular frequency and angular velocity the same\n",
            "Passage: Angular frequency (or angular speed) is the magnitude of the vector quantity angular velocity. The term angular frequency vector ω → (\\displaystyle (\\vec (\\omega ))) is sometimes used as a synonym for the vector quantity angular velocity.\n",
            "Answer:\n",
            "Prediction: True\n",
            "Confidence: 0.6060\n",
            "--------------------------------------------------\n",
            "Text: Question: can someone die from a bullet shot in the air\n",
            "Passage: Bullets fired into the air usually fall back with terminal velocities much lower than their muzzle velocity when they leave the barrel of a firearm. Nevertheless, people can be injured, sometimes fatally, when bullets discharged into the air fall back down to the ground. Bullets fired at angles less than vertical are more dangerous as the bullet maintains its angular ballistic trajectory and is far less likely to engage in tumbling motion; it therefore travels at speeds much higher than a bullet in free fall.\n",
            "Answer:\n",
            "Prediction: True\n",
            "Confidence: 0.8007\n",
            "--------------------------------------------------\n",
            "Text: Question: is salt lake city the biggest city in utah\n",
            "Passage: Salt Lake City (often shortened to Salt Lake and abbreviated as SLC) is the capital and the most populous municipality of the U.S. state of Utah. With an estimated population of 190,884 in 2014, the city is the core of the Salt Lake City metropolitan area, which has a population of 1,153,340 (2014 estimate). Salt Lake City is further situated within a larger metropolis known as the Salt Lake City--Ogden--Provo Combined Statistical Area. This region is a corridor of contiguous urban and suburban development stretched along an approximately 120-mile (190 km) segment of the Wasatch Front, comprising a population of 2,423,912 as of 2014. It is one of only two major urban areas in the Great Basin (the other is Reno, Nevada).\n",
            "Answer:\n",
            "Prediction: True\n",
            "Confidence: 0.5087\n",
            "--------------------------------------------------\n",
            "Text: Question: was chasing cars written for grey's anatomy\n",
            "Passage: ``Chasing Cars'' is a song by Northern Irish alternative rock band Snow Patrol. It was released as the second single from their fourth studio album, Eyes Open (2006). It was recorded in 2005 and released on 6 June 2006 in the United States and 24 July 2006 in the United Kingdom. The song gained significant popularity in the US after being featured in the second season finale of the popular medical drama Grey's Anatomy, which aired on 15 May 2006.\n",
            "Answer:\n",
            "Prediction: True\n",
            "Confidence: 0.8103\n",
            "--------------------------------------------------\n",
            "Text: Question: did the girl in the lost world die\n",
            "Passage: On Isla Sorna, an island off the Pacific coast of Costa Rica, a young girl named Cathy Bowman wanders around during a family vacation, and survives an attack by a swarm of Compsognathus. Her parents file a lawsuit against the genetics company InGen, now headed by John Hammond's nephew, Peter Ludlow, who plans to use Isla Sorna to alleviate the financial losses imposed by the incident that occurred at Jurassic Park four years earlier. Mathematician Dr. Ian Malcolm meets Hammond at his mansion. Hammond explains that Isla Sorna, abandoned years earlier during a hurricane, is where InGen created their dinosaurs before moving them to Jurassic Park on Isla Nublar. Hammond hopes to stop InGen by sending a team to Isla Sorna to document the dinosaurs, thus causing public support against human interference on the island. Ian, who survived the Jurassic Park disaster, is reluctant. After learning that his girlfriend, paleontologist Dr. Sarah Harding, is part of the team and is already on Isla Sorna, Ian agrees to go to the island, but only to retrieve her.\n",
            "Answer:\n",
            "Prediction: True\n",
            "Confidence: 0.6120\n",
            "--------------------------------------------------\n",
            "\n",
            "===== Running LoRA Fine-Tuning Baseline =====\n",
            "Loading tokenizer: gpt2\n",
            "Loading model: gpt2\n"
          ]
        },
        {
          "output_type": "stream",
          "name": "stderr",
          "text": [
            "Some weights of GPT2ForSequenceClassification were not initialized from the model checkpoint at gpt2 and are newly initialized: ['score.weight']\n",
            "You should probably TRAIN this model on a down-stream task to be able to use it for predictions and inference.\n",
            "/usr/local/lib/python3.11/dist-packages/transformers/training_args.py:1611: FutureWarning: `evaluation_strategy` is deprecated and will be removed in version 4.46 of 🤗 Transformers. Use `eval_strategy` instead\n",
            "  warnings.warn(\n",
            "/usr/local/lib/python3.11/dist-packages/peft/tuners/lora/layer.py:1264: UserWarning: fan_in_fan_out is set to False but the target module is `Conv1D`. Setting fan_in_fan_out to True.\n",
            "  warnings.warn(\n",
            "<ipython-input-76-949460c24d34>:30: FutureWarning: `tokenizer` is deprecated and will be removed in version 5.0.0 for `Trainer.__init__`. Use `processing_class` instead.\n",
            "  trainer = Trainer(\n"
          ]
        },
        {
          "output_type": "stream",
          "name": "stdout",
          "text": [
            "Tokenizing datasets...\n",
            "Tokenized dataset structure: DatasetDict({\n",
            "    train: Dataset({\n",
            "        features: ['input_ids', 'attention_mask', 'labels'],\n",
            "        num_rows: 9427\n",
            "    })\n",
            "    validation: Dataset({\n",
            "        features: ['input_ids', 'attention_mask', 'labels'],\n",
            "        num_rows: 3270\n",
            "    })\n",
            "})\n"
          ]
        },
        {
          "output_type": "stream",
          "name": "stderr",
          "text": [
            "No label_names provided for model class `PeftModelForSequenceClassification`. Since `PeftModel` hides base models input arguments, if label_names is not given, label_names can't be set automatically within `Trainer`. Note that empty label_names list will be used instead.\n"
          ]
        },
        {
          "output_type": "display_data",
          "data": {
            "text/plain": [
              "<IPython.core.display.HTML object>"
            ],
            "text/html": [
              "\n",
              "    <div>\n",
              "      \n",
              "      <progress value='3537' max='3537' style='width:300px; height:20px; vertical-align: middle;'></progress>\n",
              "      [3537/3537 10:47, Epoch 3/3]\n",
              "    </div>\n",
              "    <table border=\"1\" class=\"dataframe\">\n",
              "  <thead>\n",
              " <tr style=\"text-align: left;\">\n",
              "      <th>Epoch</th>\n",
              "      <th>Training Loss</th>\n",
              "      <th>Validation Loss</th>\n",
              "      <th>Accuracy</th>\n",
              "      <th>F1</th>\n",
              "    </tr>\n",
              "  </thead>\n",
              "  <tbody>\n",
              "    <tr>\n",
              "      <td>1</td>\n",
              "      <td>0.663100</td>\n",
              "      <td>0.655978</td>\n",
              "      <td>0.620183</td>\n",
              "      <td>0.763429</td>\n",
              "    </tr>\n",
              "    <tr>\n",
              "      <td>2</td>\n",
              "      <td>0.647500</td>\n",
              "      <td>0.658936</td>\n",
              "      <td>0.611009</td>\n",
              "      <td>0.709456</td>\n",
              "    </tr>\n",
              "    <tr>\n",
              "      <td>3</td>\n",
              "      <td>0.639300</td>\n",
              "      <td>0.647821</td>\n",
              "      <td>0.617431</td>\n",
              "      <td>0.721319</td>\n",
              "    </tr>\n",
              "  </tbody>\n",
              "</table><p>"
            ]
          },
          "metadata": {}
        },
        {
          "output_type": "display_data",
          "data": {
            "text/plain": [
              "<IPython.core.display.HTML object>"
            ],
            "text/html": [
              "\n",
              "    <div>\n",
              "      \n",
              "      <progress value='409' max='409' style='width:300px; height:20px; vertical-align: middle;'></progress>\n",
              "      [409/409 00:24]\n",
              "    </div>\n",
              "    "
            ]
          },
          "metadata": {}
        },
        {
          "output_type": "stream",
          "name": "stdout",
          "text": [
            "LoRA Fine-Tuning Results: {'eval_loss': 0.655978262424469, 'eval_accuracy': 0.6201834862385321, 'eval_f1': 0.7634285714285715, 'eval_runtime': 25.0619, 'eval_samples_per_second': 130.477, 'eval_steps_per_second': 16.32, 'epoch': 3.0}\n",
            "\n",
            "===== Running Layer Freezing Experiments =====\n",
            "Loading dataset: boolq\n",
            "Dataset structure: DatasetDict({\n",
            "    train: Dataset({\n",
            "        features: ['question', 'answer', 'passage'],\n",
            "        num_rows: 9427\n",
            "    })\n",
            "    validation: Dataset({\n",
            "        features: ['question', 'answer', 'passage'],\n",
            "        num_rows: 3270\n",
            "    })\n",
            "})\n",
            "\n",
            "===== Experiment: gpt2_0_frozen_42 =====\n",
            "Loading tokenizer: gpt2\n",
            "Loading model: gpt2\n"
          ]
        },
        {
          "output_type": "stream",
          "name": "stderr",
          "text": [
            "Some weights of GPT2ForSequenceClassification were not initialized from the model checkpoint at gpt2 and are newly initialized: ['score.weight']\n",
            "You should probably TRAIN this model on a down-stream task to be able to use it for predictions and inference.\n",
            "/usr/local/lib/python3.11/dist-packages/transformers/training_args.py:1611: FutureWarning: `evaluation_strategy` is deprecated and will be removed in version 4.46 of 🤗 Transformers. Use `eval_strategy` instead\n",
            "  warnings.warn(\n",
            "<ipython-input-65-f03aad642d44>:19: FutureWarning: `tokenizer` is deprecated and will be removed in version 5.0.0 for `Trainer.__init__`. Use `processing_class` instead.\n",
            "  trainer = Trainer(\n"
          ]
        },
        {
          "output_type": "stream",
          "name": "stdout",
          "text": [
            "Freezing 0 GPT-2 layers...\n",
            "Froze 0 GPT-2 transformer layers\n",
            "Embeddings frozen\n",
            "Trainable parameters: 85,057,536 (68.35% of total)\n",
            "Total parameters: 124,441,344\n",
            "\n",
            "Starting fine-tuning with 68.35% parameters trainable.\n",
            "Tokenizing datasets...\n",
            "Tokenized dataset structure: DatasetDict({\n",
            "    train: Dataset({\n",
            "        features: ['input_ids', 'attention_mask', 'labels'],\n",
            "        num_rows: 9427\n",
            "    })\n",
            "    validation: Dataset({\n",
            "        features: ['input_ids', 'attention_mask', 'labels'],\n",
            "        num_rows: 3270\n",
            "    })\n",
            "})\n",
            "Starting fine-tuning...\n"
          ]
        },
        {
          "output_type": "display_data",
          "data": {
            "text/plain": [
              "<IPython.core.display.HTML object>"
            ],
            "text/html": [
              "\n",
              "    <div>\n",
              "      \n",
              "      <progress value='2358' max='2358' style='width:300px; height:20px; vertical-align: middle;'></progress>\n",
              "      [2358/2358 07:58, Epoch 2/2]\n",
              "    </div>\n",
              "    <table border=\"1\" class=\"dataframe\">\n",
              "  <thead>\n",
              " <tr style=\"text-align: left;\">\n",
              "      <th>Epoch</th>\n",
              "      <th>Training Loss</th>\n",
              "      <th>Validation Loss</th>\n",
              "      <th>Accuracy</th>\n",
              "      <th>F1</th>\n",
              "    </tr>\n",
              "  </thead>\n",
              "  <tbody>\n",
              "    <tr>\n",
              "      <td>1</td>\n",
              "      <td>0.655600</td>\n",
              "      <td>0.637900</td>\n",
              "      <td>0.660245</td>\n",
              "      <td>0.779081</td>\n",
              "    </tr>\n",
              "    <tr>\n",
              "      <td>2</td>\n",
              "      <td>0.577500</td>\n",
              "      <td>0.606364</td>\n",
              "      <td>0.685015</td>\n",
              "      <td>0.757875</td>\n",
              "    </tr>\n",
              "  </tbody>\n",
              "</table><p>"
            ]
          },
          "metadata": {}
        },
        {
          "output_type": "stream",
          "name": "stdout",
          "text": [
            "Training completed. Results: {'train_runtime': 478.3253, 'train_samples_per_second': 39.417, 'train_steps_per_second': 4.93, 'total_flos': 2463244467830784.0, 'train_loss': 0.6651641353901612, 'epoch': 2.0}\n"
          ]
        },
        {
          "output_type": "display_data",
          "data": {
            "text/plain": [
              "<IPython.core.display.HTML object>"
            ],
            "text/html": [
              "\n",
              "    <div>\n",
              "      \n",
              "      <progress value='409' max='409' style='width:300px; height:20px; vertical-align: middle;'></progress>\n",
              "      [409/409 00:21]\n",
              "    </div>\n",
              "    "
            ]
          },
          "metadata": {}
        },
        {
          "output_type": "stream",
          "name": "stdout",
          "text": [
            "Evaluation results: {'eval_loss': 0.6063637733459473, 'eval_accuracy': 0.6850152905198776, 'eval_f1': 0.7578749412317819, 'eval_runtime': 21.3123, 'eval_samples_per_second': 153.432, 'eval_steps_per_second': 19.191, 'epoch': 2.0}\n",
            "Experiment results: {'model': 'gpt2', 'seeds': 42, 'layers_frozen': 0, 'trainable_params_pct': 68.35150864330106, 'accuracy': 0.6850152905198776, 'loss': 0.6063637733459473, 'training_time': 21.3123}\n",
            "\n",
            "===== Experiment: gpt2_0_frozen_52 =====\n",
            "Loading tokenizer: gpt2\n",
            "Loading model: gpt2\n"
          ]
        },
        {
          "output_type": "stream",
          "name": "stderr",
          "text": [
            "Some weights of GPT2ForSequenceClassification were not initialized from the model checkpoint at gpt2 and are newly initialized: ['score.weight']\n",
            "You should probably TRAIN this model on a down-stream task to be able to use it for predictions and inference.\n",
            "/usr/local/lib/python3.11/dist-packages/transformers/training_args.py:1611: FutureWarning: `evaluation_strategy` is deprecated and will be removed in version 4.46 of 🤗 Transformers. Use `eval_strategy` instead\n",
            "  warnings.warn(\n",
            "<ipython-input-65-f03aad642d44>:19: FutureWarning: `tokenizer` is deprecated and will be removed in version 5.0.0 for `Trainer.__init__`. Use `processing_class` instead.\n",
            "  trainer = Trainer(\n"
          ]
        },
        {
          "output_type": "stream",
          "name": "stdout",
          "text": [
            "Freezing 0 GPT-2 layers...\n",
            "Froze 0 GPT-2 transformer layers\n",
            "Embeddings frozen\n",
            "Trainable parameters: 85,057,536 (68.35% of total)\n",
            "Total parameters: 124,441,344\n",
            "\n",
            "Starting fine-tuning with 68.35% parameters trainable.\n",
            "Tokenizing datasets...\n",
            "Tokenized dataset structure: DatasetDict({\n",
            "    train: Dataset({\n",
            "        features: ['input_ids', 'attention_mask', 'labels'],\n",
            "        num_rows: 9427\n",
            "    })\n",
            "    validation: Dataset({\n",
            "        features: ['input_ids', 'attention_mask', 'labels'],\n",
            "        num_rows: 3270\n",
            "    })\n",
            "})\n",
            "Starting fine-tuning...\n"
          ]
        },
        {
          "output_type": "display_data",
          "data": {
            "text/plain": [
              "<IPython.core.display.HTML object>"
            ],
            "text/html": [
              "\n",
              "    <div>\n",
              "      \n",
              "      <progress value='2358' max='2358' style='width:300px; height:20px; vertical-align: middle;'></progress>\n",
              "      [2358/2358 08:02, Epoch 2/2]\n",
              "    </div>\n",
              "    <table border=\"1\" class=\"dataframe\">\n",
              "  <thead>\n",
              " <tr style=\"text-align: left;\">\n",
              "      <th>Epoch</th>\n",
              "      <th>Training Loss</th>\n",
              "      <th>Validation Loss</th>\n",
              "      <th>Accuracy</th>\n",
              "      <th>F1</th>\n",
              "    </tr>\n",
              "  </thead>\n",
              "  <tbody>\n",
              "    <tr>\n",
              "      <td>1</td>\n",
              "      <td>0.655400</td>\n",
              "      <td>0.649788</td>\n",
              "      <td>0.645872</td>\n",
              "      <td>0.774269</td>\n",
              "    </tr>\n",
              "    <tr>\n",
              "      <td>2</td>\n",
              "      <td>0.584100</td>\n",
              "      <td>0.616565</td>\n",
              "      <td>0.674006</td>\n",
              "      <td>0.745342</td>\n",
              "    </tr>\n",
              "  </tbody>\n",
              "</table><p>"
            ]
          },
          "metadata": {}
        },
        {
          "output_type": "stream",
          "name": "stdout",
          "text": [
            "Training completed. Results: {'train_runtime': 482.4312, 'train_samples_per_second': 39.081, 'train_steps_per_second': 4.888, 'total_flos': 2463244467830784.0, 'train_loss': 0.6333162341712388, 'epoch': 2.0}\n"
          ]
        },
        {
          "output_type": "display_data",
          "data": {
            "text/plain": [
              "<IPython.core.display.HTML object>"
            ],
            "text/html": [
              "\n",
              "    <div>\n",
              "      \n",
              "      <progress value='409' max='409' style='width:300px; height:20px; vertical-align: middle;'></progress>\n",
              "      [409/409 00:21]\n",
              "    </div>\n",
              "    "
            ]
          },
          "metadata": {}
        },
        {
          "output_type": "stream",
          "name": "stdout",
          "text": [
            "Evaluation results: {'eval_loss': 0.6165650486946106, 'eval_accuracy': 0.674006116207951, 'eval_f1': 0.7453416149068323, 'eval_runtime': 21.2913, 'eval_samples_per_second': 153.584, 'eval_steps_per_second': 19.21, 'epoch': 2.0}\n",
            "Experiment results: {'model': 'gpt2', 'seeds': 52, 'layers_frozen': 0, 'trainable_params_pct': 68.35150864330106, 'accuracy': 0.674006116207951, 'loss': 0.6165650486946106, 'training_time': 21.2913}\n",
            "\n",
            "===== Experiment: gpt2_0_frozen_62 =====\n",
            "Loading tokenizer: gpt2\n",
            "Loading model: gpt2\n"
          ]
        },
        {
          "output_type": "stream",
          "name": "stderr",
          "text": [
            "Some weights of GPT2ForSequenceClassification were not initialized from the model checkpoint at gpt2 and are newly initialized: ['score.weight']\n",
            "You should probably TRAIN this model on a down-stream task to be able to use it for predictions and inference.\n",
            "/usr/local/lib/python3.11/dist-packages/transformers/training_args.py:1611: FutureWarning: `evaluation_strategy` is deprecated and will be removed in version 4.46 of 🤗 Transformers. Use `eval_strategy` instead\n",
            "  warnings.warn(\n",
            "<ipython-input-65-f03aad642d44>:19: FutureWarning: `tokenizer` is deprecated and will be removed in version 5.0.0 for `Trainer.__init__`. Use `processing_class` instead.\n",
            "  trainer = Trainer(\n"
          ]
        },
        {
          "output_type": "stream",
          "name": "stdout",
          "text": [
            "Freezing 0 GPT-2 layers...\n",
            "Froze 0 GPT-2 transformer layers\n",
            "Embeddings frozen\n",
            "Trainable parameters: 85,057,536 (68.35% of total)\n",
            "Total parameters: 124,441,344\n",
            "\n",
            "Starting fine-tuning with 68.35% parameters trainable.\n",
            "Tokenizing datasets...\n",
            "Tokenized dataset structure: DatasetDict({\n",
            "    train: Dataset({\n",
            "        features: ['input_ids', 'attention_mask', 'labels'],\n",
            "        num_rows: 9427\n",
            "    })\n",
            "    validation: Dataset({\n",
            "        features: ['input_ids', 'attention_mask', 'labels'],\n",
            "        num_rows: 3270\n",
            "    })\n",
            "})\n",
            "Starting fine-tuning...\n"
          ]
        },
        {
          "output_type": "display_data",
          "data": {
            "text/plain": [
              "<IPython.core.display.HTML object>"
            ],
            "text/html": [
              "\n",
              "    <div>\n",
              "      \n",
              "      <progress value='2358' max='2358' style='width:300px; height:20px; vertical-align: middle;'></progress>\n",
              "      [2358/2358 07:48, Epoch 2/2]\n",
              "    </div>\n",
              "    <table border=\"1\" class=\"dataframe\">\n",
              "  <thead>\n",
              " <tr style=\"text-align: left;\">\n",
              "      <th>Epoch</th>\n",
              "      <th>Training Loss</th>\n",
              "      <th>Validation Loss</th>\n",
              "      <th>Accuracy</th>\n",
              "      <th>F1</th>\n",
              "    </tr>\n",
              "  </thead>\n",
              "  <tbody>\n",
              "    <tr>\n",
              "      <td>1</td>\n",
              "      <td>0.650700</td>\n",
              "      <td>0.645054</td>\n",
              "      <td>0.645566</td>\n",
              "      <td>0.773854</td>\n",
              "    </tr>\n",
              "    <tr>\n",
              "      <td>2</td>\n",
              "      <td>0.585700</td>\n",
              "      <td>0.613543</td>\n",
              "      <td>0.669113</td>\n",
              "      <td>0.744450</td>\n",
              "    </tr>\n",
              "  </tbody>\n",
              "</table><p>"
            ]
          },
          "metadata": {}
        },
        {
          "output_type": "stream",
          "name": "stdout",
          "text": [
            "Training completed. Results: {'train_runtime': 468.4066, 'train_samples_per_second': 40.251, 'train_steps_per_second': 5.034, 'total_flos': 2463244467830784.0, 'train_loss': 0.6330325229376226, 'epoch': 2.0}\n"
          ]
        },
        {
          "output_type": "display_data",
          "data": {
            "text/plain": [
              "<IPython.core.display.HTML object>"
            ],
            "text/html": [
              "\n",
              "    <div>\n",
              "      \n",
              "      <progress value='409' max='409' style='width:300px; height:20px; vertical-align: middle;'></progress>\n",
              "      [409/409 00:21]\n",
              "    </div>\n",
              "    "
            ]
          },
          "metadata": {}
        },
        {
          "output_type": "stream",
          "name": "stdout",
          "text": [
            "Evaluation results: {'eval_loss': 0.6135426163673401, 'eval_accuracy': 0.6691131498470948, 'eval_f1': 0.7444496929617384, 'eval_runtime': 21.382, 'eval_samples_per_second': 152.933, 'eval_steps_per_second': 19.128, 'epoch': 2.0}\n",
            "Experiment results: {'model': 'gpt2', 'seeds': 62, 'layers_frozen': 0, 'trainable_params_pct': 68.35150864330106, 'accuracy': 0.6691131498470948, 'loss': 0.6135426163673401, 'training_time': 21.382}\n",
            "\n",
            "===== Experiment: gpt2_0_frozen_72 =====\n",
            "Loading tokenizer: gpt2\n",
            "Loading model: gpt2\n"
          ]
        },
        {
          "output_type": "stream",
          "name": "stderr",
          "text": [
            "Some weights of GPT2ForSequenceClassification were not initialized from the model checkpoint at gpt2 and are newly initialized: ['score.weight']\n",
            "You should probably TRAIN this model on a down-stream task to be able to use it for predictions and inference.\n",
            "/usr/local/lib/python3.11/dist-packages/transformers/training_args.py:1611: FutureWarning: `evaluation_strategy` is deprecated and will be removed in version 4.46 of 🤗 Transformers. Use `eval_strategy` instead\n",
            "  warnings.warn(\n",
            "<ipython-input-65-f03aad642d44>:19: FutureWarning: `tokenizer` is deprecated and will be removed in version 5.0.0 for `Trainer.__init__`. Use `processing_class` instead.\n",
            "  trainer = Trainer(\n"
          ]
        },
        {
          "output_type": "stream",
          "name": "stdout",
          "text": [
            "Freezing 0 GPT-2 layers...\n",
            "Froze 0 GPT-2 transformer layers\n",
            "Embeddings frozen\n",
            "Trainable parameters: 85,057,536 (68.35% of total)\n",
            "Total parameters: 124,441,344\n",
            "\n",
            "Starting fine-tuning with 68.35% parameters trainable.\n",
            "Tokenizing datasets...\n",
            "Tokenized dataset structure: DatasetDict({\n",
            "    train: Dataset({\n",
            "        features: ['input_ids', 'attention_mask', 'labels'],\n",
            "        num_rows: 9427\n",
            "    })\n",
            "    validation: Dataset({\n",
            "        features: ['input_ids', 'attention_mask', 'labels'],\n",
            "        num_rows: 3270\n",
            "    })\n",
            "})\n",
            "Starting fine-tuning...\n"
          ]
        },
        {
          "output_type": "display_data",
          "data": {
            "text/plain": [
              "<IPython.core.display.HTML object>"
            ],
            "text/html": [
              "\n",
              "    <div>\n",
              "      \n",
              "      <progress value='2358' max='2358' style='width:300px; height:20px; vertical-align: middle;'></progress>\n",
              "      [2358/2358 08:06, Epoch 2/2]\n",
              "    </div>\n",
              "    <table border=\"1\" class=\"dataframe\">\n",
              "  <thead>\n",
              " <tr style=\"text-align: left;\">\n",
              "      <th>Epoch</th>\n",
              "      <th>Training Loss</th>\n",
              "      <th>Validation Loss</th>\n",
              "      <th>Accuracy</th>\n",
              "      <th>F1</th>\n",
              "    </tr>\n",
              "  </thead>\n",
              "  <tbody>\n",
              "    <tr>\n",
              "      <td>1</td>\n",
              "      <td>0.659900</td>\n",
              "      <td>0.640261</td>\n",
              "      <td>0.644037</td>\n",
              "      <td>0.773453</td>\n",
              "    </tr>\n",
              "    <tr>\n",
              "      <td>2</td>\n",
              "      <td>0.596600</td>\n",
              "      <td>0.605362</td>\n",
              "      <td>0.677982</td>\n",
              "      <td>0.757205</td>\n",
              "    </tr>\n",
              "  </tbody>\n",
              "</table><p>"
            ]
          },
          "metadata": {}
        },
        {
          "output_type": "stream",
          "name": "stdout",
          "text": [
            "Training completed. Results: {'train_runtime': 486.9838, 'train_samples_per_second': 38.716, 'train_steps_per_second': 4.842, 'total_flos': 2463244467830784.0, 'train_loss': 0.6357178109697208, 'epoch': 2.0}\n"
          ]
        },
        {
          "output_type": "display_data",
          "data": {
            "text/plain": [
              "<IPython.core.display.HTML object>"
            ],
            "text/html": [
              "\n",
              "    <div>\n",
              "      \n",
              "      <progress value='409' max='409' style='width:300px; height:20px; vertical-align: middle;'></progress>\n",
              "      [409/409 00:21]\n",
              "    </div>\n",
              "    "
            ]
          },
          "metadata": {}
        },
        {
          "output_type": "stream",
          "name": "stdout",
          "text": [
            "Evaluation results: {'eval_loss': 0.605362057685852, 'eval_accuracy': 0.6779816513761467, 'eval_f1': 0.7572054415494581, 'eval_runtime': 21.4114, 'eval_samples_per_second': 152.722, 'eval_steps_per_second': 19.102, 'epoch': 2.0}\n",
            "Experiment results: {'model': 'gpt2', 'seeds': 72, 'layers_frozen': 0, 'trainable_params_pct': 68.35150864330106, 'accuracy': 0.6779816513761467, 'loss': 0.605362057685852, 'training_time': 21.4114}\n",
            "\n",
            "===== Experiment: gpt2_3_frozen_42 =====\n",
            "Loading tokenizer: gpt2\n",
            "Loading model: gpt2\n"
          ]
        },
        {
          "output_type": "stream",
          "name": "stderr",
          "text": [
            "Some weights of GPT2ForSequenceClassification were not initialized from the model checkpoint at gpt2 and are newly initialized: ['score.weight']\n",
            "You should probably TRAIN this model on a down-stream task to be able to use it for predictions and inference.\n",
            "/usr/local/lib/python3.11/dist-packages/transformers/training_args.py:1611: FutureWarning: `evaluation_strategy` is deprecated and will be removed in version 4.46 of 🤗 Transformers. Use `eval_strategy` instead\n",
            "  warnings.warn(\n",
            "<ipython-input-65-f03aad642d44>:19: FutureWarning: `tokenizer` is deprecated and will be removed in version 5.0.0 for `Trainer.__init__`. Use `processing_class` instead.\n",
            "  trainer = Trainer(\n"
          ]
        },
        {
          "output_type": "stream",
          "name": "stdout",
          "text": [
            "Freezing 3 GPT-2 layers...\n",
            "Froze 3 GPT-2 transformer layers\n",
            "Embeddings frozen\n",
            "Trainable parameters: 63,793,920 (51.26% of total)\n",
            "Total parameters: 124,441,344\n",
            "\n",
            "Starting fine-tuning with 51.26% parameters trainable.\n",
            "Tokenizing datasets...\n",
            "Tokenized dataset structure: DatasetDict({\n",
            "    train: Dataset({\n",
            "        features: ['input_ids', 'attention_mask', 'labels'],\n",
            "        num_rows: 9427\n",
            "    })\n",
            "    validation: Dataset({\n",
            "        features: ['input_ids', 'attention_mask', 'labels'],\n",
            "        num_rows: 3270\n",
            "    })\n",
            "})\n",
            "Starting fine-tuning...\n"
          ]
        },
        {
          "output_type": "display_data",
          "data": {
            "text/plain": [
              "<IPython.core.display.HTML object>"
            ],
            "text/html": [
              "\n",
              "    <div>\n",
              "      \n",
              "      <progress value='2358' max='2358' style='width:300px; height:20px; vertical-align: middle;'></progress>\n",
              "      [2358/2358 06:39, Epoch 2/2]\n",
              "    </div>\n",
              "    <table border=\"1\" class=\"dataframe\">\n",
              "  <thead>\n",
              " <tr style=\"text-align: left;\">\n",
              "      <th>Epoch</th>\n",
              "      <th>Training Loss</th>\n",
              "      <th>Validation Loss</th>\n",
              "      <th>Accuracy</th>\n",
              "      <th>F1</th>\n",
              "    </tr>\n",
              "  </thead>\n",
              "  <tbody>\n",
              "    <tr>\n",
              "      <td>1</td>\n",
              "      <td>0.660600</td>\n",
              "      <td>0.639381</td>\n",
              "      <td>0.662080</td>\n",
              "      <td>0.778335</td>\n",
              "    </tr>\n",
              "    <tr>\n",
              "      <td>2</td>\n",
              "      <td>0.597000</td>\n",
              "      <td>0.611104</td>\n",
              "      <td>0.683792</td>\n",
              "      <td>0.758411</td>\n",
              "    </tr>\n",
              "  </tbody>\n",
              "</table><p>"
            ]
          },
          "metadata": {}
        },
        {
          "output_type": "stream",
          "name": "stdout",
          "text": [
            "Training completed. Results: {'train_runtime': 399.6372, 'train_samples_per_second': 47.178, 'train_steps_per_second': 5.9, 'total_flos': 2463244467830784.0, 'train_loss': 0.6679752081304005, 'epoch': 2.0}\n"
          ]
        },
        {
          "output_type": "display_data",
          "data": {
            "text/plain": [
              "<IPython.core.display.HTML object>"
            ],
            "text/html": [
              "\n",
              "    <div>\n",
              "      \n",
              "      <progress value='409' max='409' style='width:300px; height:20px; vertical-align: middle;'></progress>\n",
              "      [409/409 00:21]\n",
              "    </div>\n",
              "    "
            ]
          },
          "metadata": {}
        },
        {
          "output_type": "stream",
          "name": "stdout",
          "text": [
            "Evaluation results: {'eval_loss': 0.6111035943031311, 'eval_accuracy': 0.6837920489296636, 'eval_f1': 0.758411214953271, 'eval_runtime': 21.4242, 'eval_samples_per_second': 152.631, 'eval_steps_per_second': 19.091, 'epoch': 2.0}\n",
            "Experiment results: {'model': 'gpt2', 'seeds': 42, 'layers_frozen': 3, 'trainable_params_pct': 51.26424864070899, 'accuracy': 0.6837920489296636, 'loss': 0.6111035943031311, 'training_time': 21.4242}\n",
            "\n",
            "===== Experiment: gpt2_3_frozen_52 =====\n",
            "Loading tokenizer: gpt2\n",
            "Loading model: gpt2\n"
          ]
        },
        {
          "output_type": "stream",
          "name": "stderr",
          "text": [
            "Some weights of GPT2ForSequenceClassification were not initialized from the model checkpoint at gpt2 and are newly initialized: ['score.weight']\n",
            "You should probably TRAIN this model on a down-stream task to be able to use it for predictions and inference.\n",
            "/usr/local/lib/python3.11/dist-packages/transformers/training_args.py:1611: FutureWarning: `evaluation_strategy` is deprecated and will be removed in version 4.46 of 🤗 Transformers. Use `eval_strategy` instead\n",
            "  warnings.warn(\n",
            "<ipython-input-65-f03aad642d44>:19: FutureWarning: `tokenizer` is deprecated and will be removed in version 5.0.0 for `Trainer.__init__`. Use `processing_class` instead.\n",
            "  trainer = Trainer(\n"
          ]
        },
        {
          "output_type": "stream",
          "name": "stdout",
          "text": [
            "Freezing 3 GPT-2 layers...\n",
            "Froze 3 GPT-2 transformer layers\n",
            "Embeddings frozen\n",
            "Trainable parameters: 63,793,920 (51.26% of total)\n",
            "Total parameters: 124,441,344\n",
            "\n",
            "Starting fine-tuning with 51.26% parameters trainable.\n",
            "Tokenizing datasets...\n",
            "Tokenized dataset structure: DatasetDict({\n",
            "    train: Dataset({\n",
            "        features: ['input_ids', 'attention_mask', 'labels'],\n",
            "        num_rows: 9427\n",
            "    })\n",
            "    validation: Dataset({\n",
            "        features: ['input_ids', 'attention_mask', 'labels'],\n",
            "        num_rows: 3270\n",
            "    })\n",
            "})\n",
            "Starting fine-tuning...\n"
          ]
        },
        {
          "output_type": "display_data",
          "data": {
            "text/plain": [
              "<IPython.core.display.HTML object>"
            ],
            "text/html": [
              "\n",
              "    <div>\n",
              "      \n",
              "      <progress value='2358' max='2358' style='width:300px; height:20px; vertical-align: middle;'></progress>\n",
              "      [2358/2358 06:57, Epoch 2/2]\n",
              "    </div>\n",
              "    <table border=\"1\" class=\"dataframe\">\n",
              "  <thead>\n",
              " <tr style=\"text-align: left;\">\n",
              "      <th>Epoch</th>\n",
              "      <th>Training Loss</th>\n",
              "      <th>Validation Loss</th>\n",
              "      <th>Accuracy</th>\n",
              "      <th>F1</th>\n",
              "    </tr>\n",
              "  </thead>\n",
              "  <tbody>\n",
              "    <tr>\n",
              "      <td>1</td>\n",
              "      <td>0.648000</td>\n",
              "      <td>0.649817</td>\n",
              "      <td>0.657798</td>\n",
              "      <td>0.776334</td>\n",
              "    </tr>\n",
              "    <tr>\n",
              "      <td>2</td>\n",
              "      <td>0.590800</td>\n",
              "      <td>0.616664</td>\n",
              "      <td>0.687768</td>\n",
              "      <td>0.767691</td>\n",
              "    </tr>\n",
              "  </tbody>\n",
              "</table><p>"
            ]
          },
          "metadata": {}
        },
        {
          "output_type": "stream",
          "name": "stdout",
          "text": [
            "Training completed. Results: {'train_runtime': 417.1236, 'train_samples_per_second': 45.2, 'train_steps_per_second': 5.653, 'total_flos': 2463244467830784.0, 'train_loss': 0.6349867480199554, 'epoch': 2.0}\n"
          ]
        },
        {
          "output_type": "display_data",
          "data": {
            "text/plain": [
              "<IPython.core.display.HTML object>"
            ],
            "text/html": [
              "\n",
              "    <div>\n",
              "      \n",
              "      <progress value='409' max='409' style='width:300px; height:20px; vertical-align: middle;'></progress>\n",
              "      [409/409 00:21]\n",
              "    </div>\n",
              "    "
            ]
          },
          "metadata": {}
        },
        {
          "output_type": "stream",
          "name": "stdout",
          "text": [
            "Evaluation results: {'eval_loss': 0.6166643500328064, 'eval_accuracy': 0.6877675840978593, 'eval_f1': 0.7676905574516496, 'eval_runtime': 21.5062, 'eval_samples_per_second': 152.05, 'eval_steps_per_second': 19.018, 'epoch': 2.0}\n",
            "Experiment results: {'model': 'gpt2', 'seeds': 52, 'layers_frozen': 3, 'trainable_params_pct': 51.26424864070899, 'accuracy': 0.6877675840978593, 'loss': 0.6166643500328064, 'training_time': 21.5062}\n",
            "\n",
            "===== Experiment: gpt2_3_frozen_62 =====\n",
            "Loading tokenizer: gpt2\n",
            "Loading model: gpt2\n"
          ]
        },
        {
          "output_type": "stream",
          "name": "stderr",
          "text": [
            "Some weights of GPT2ForSequenceClassification were not initialized from the model checkpoint at gpt2 and are newly initialized: ['score.weight']\n",
            "You should probably TRAIN this model on a down-stream task to be able to use it for predictions and inference.\n",
            "/usr/local/lib/python3.11/dist-packages/transformers/training_args.py:1611: FutureWarning: `evaluation_strategy` is deprecated and will be removed in version 4.46 of 🤗 Transformers. Use `eval_strategy` instead\n",
            "  warnings.warn(\n",
            "<ipython-input-65-f03aad642d44>:19: FutureWarning: `tokenizer` is deprecated and will be removed in version 5.0.0 for `Trainer.__init__`. Use `processing_class` instead.\n",
            "  trainer = Trainer(\n"
          ]
        },
        {
          "output_type": "stream",
          "name": "stdout",
          "text": [
            "Freezing 3 GPT-2 layers...\n",
            "Froze 3 GPT-2 transformer layers\n",
            "Embeddings frozen\n",
            "Trainable parameters: 63,793,920 (51.26% of total)\n",
            "Total parameters: 124,441,344\n",
            "\n",
            "Starting fine-tuning with 51.26% parameters trainable.\n",
            "Tokenizing datasets...\n",
            "Tokenized dataset structure: DatasetDict({\n",
            "    train: Dataset({\n",
            "        features: ['input_ids', 'attention_mask', 'labels'],\n",
            "        num_rows: 9427\n",
            "    })\n",
            "    validation: Dataset({\n",
            "        features: ['input_ids', 'attention_mask', 'labels'],\n",
            "        num_rows: 3270\n",
            "    })\n",
            "})\n",
            "Starting fine-tuning...\n"
          ]
        },
        {
          "output_type": "display_data",
          "data": {
            "text/plain": [
              "<IPython.core.display.HTML object>"
            ],
            "text/html": [
              "\n",
              "    <div>\n",
              "      \n",
              "      <progress value='2358' max='2358' style='width:300px; height:20px; vertical-align: middle;'></progress>\n",
              "      [2358/2358 06:39, Epoch 2/2]\n",
              "    </div>\n",
              "    <table border=\"1\" class=\"dataframe\">\n",
              "  <thead>\n",
              " <tr style=\"text-align: left;\">\n",
              "      <th>Epoch</th>\n",
              "      <th>Training Loss</th>\n",
              "      <th>Validation Loss</th>\n",
              "      <th>Accuracy</th>\n",
              "      <th>F1</th>\n",
              "    </tr>\n",
              "  </thead>\n",
              "  <tbody>\n",
              "    <tr>\n",
              "      <td>1</td>\n",
              "      <td>0.648400</td>\n",
              "      <td>0.623283</td>\n",
              "      <td>0.673089</td>\n",
              "      <td>0.775184</td>\n",
              "    </tr>\n",
              "    <tr>\n",
              "      <td>2</td>\n",
              "      <td>0.577200</td>\n",
              "      <td>0.608307</td>\n",
              "      <td>0.677064</td>\n",
              "      <td>0.751295</td>\n",
              "    </tr>\n",
              "  </tbody>\n",
              "</table><p>"
            ]
          },
          "metadata": {}
        },
        {
          "output_type": "stream",
          "name": "stdout",
          "text": [
            "Training completed. Results: {'train_runtime': 399.2633, 'train_samples_per_second': 47.222, 'train_steps_per_second': 5.906, 'total_flos': 2463244467830784.0, 'train_loss': 0.6292530930173711, 'epoch': 2.0}\n"
          ]
        },
        {
          "output_type": "display_data",
          "data": {
            "text/plain": [
              "<IPython.core.display.HTML object>"
            ],
            "text/html": [
              "\n",
              "    <div>\n",
              "      \n",
              "      <progress value='409' max='409' style='width:300px; height:20px; vertical-align: middle;'></progress>\n",
              "      [409/409 00:21]\n",
              "    </div>\n",
              "    "
            ]
          },
          "metadata": {}
        },
        {
          "output_type": "stream",
          "name": "stdout",
          "text": [
            "Evaluation results: {'eval_loss': 0.6083067059516907, 'eval_accuracy': 0.6770642201834862, 'eval_f1': 0.7512953367875648, 'eval_runtime': 21.3394, 'eval_samples_per_second': 153.237, 'eval_steps_per_second': 19.166, 'epoch': 2.0}\n",
            "Experiment results: {'model': 'gpt2', 'seeds': 62, 'layers_frozen': 3, 'trainable_params_pct': 51.26424864070899, 'accuracy': 0.6770642201834862, 'loss': 0.6083067059516907, 'training_time': 21.3394}\n",
            "\n",
            "===== Experiment: gpt2_3_frozen_72 =====\n",
            "Loading tokenizer: gpt2\n",
            "Loading model: gpt2\n"
          ]
        },
        {
          "output_type": "stream",
          "name": "stderr",
          "text": [
            "Some weights of GPT2ForSequenceClassification were not initialized from the model checkpoint at gpt2 and are newly initialized: ['score.weight']\n",
            "You should probably TRAIN this model on a down-stream task to be able to use it for predictions and inference.\n",
            "/usr/local/lib/python3.11/dist-packages/transformers/training_args.py:1611: FutureWarning: `evaluation_strategy` is deprecated and will be removed in version 4.46 of 🤗 Transformers. Use `eval_strategy` instead\n",
            "  warnings.warn(\n",
            "<ipython-input-65-f03aad642d44>:19: FutureWarning: `tokenizer` is deprecated and will be removed in version 5.0.0 for `Trainer.__init__`. Use `processing_class` instead.\n",
            "  trainer = Trainer(\n"
          ]
        },
        {
          "output_type": "stream",
          "name": "stdout",
          "text": [
            "Freezing 3 GPT-2 layers...\n",
            "Froze 3 GPT-2 transformer layers\n",
            "Embeddings frozen\n",
            "Trainable parameters: 63,793,920 (51.26% of total)\n",
            "Total parameters: 124,441,344\n",
            "\n",
            "Starting fine-tuning with 51.26% parameters trainable.\n",
            "Tokenizing datasets...\n",
            "Tokenized dataset structure: DatasetDict({\n",
            "    train: Dataset({\n",
            "        features: ['input_ids', 'attention_mask', 'labels'],\n",
            "        num_rows: 9427\n",
            "    })\n",
            "    validation: Dataset({\n",
            "        features: ['input_ids', 'attention_mask', 'labels'],\n",
            "        num_rows: 3270\n",
            "    })\n",
            "})\n",
            "Starting fine-tuning...\n"
          ]
        },
        {
          "output_type": "display_data",
          "data": {
            "text/plain": [
              "<IPython.core.display.HTML object>"
            ],
            "text/html": [
              "\n",
              "    <div>\n",
              "      \n",
              "      <progress value='2358' max='2358' style='width:300px; height:20px; vertical-align: middle;'></progress>\n",
              "      [2358/2358 06:44, Epoch 2/2]\n",
              "    </div>\n",
              "    <table border=\"1\" class=\"dataframe\">\n",
              "  <thead>\n",
              " <tr style=\"text-align: left;\">\n",
              "      <th>Epoch</th>\n",
              "      <th>Training Loss</th>\n",
              "      <th>Validation Loss</th>\n",
              "      <th>Accuracy</th>\n",
              "      <th>F1</th>\n",
              "    </tr>\n",
              "  </thead>\n",
              "  <tbody>\n",
              "    <tr>\n",
              "      <td>1</td>\n",
              "      <td>0.637100</td>\n",
              "      <td>0.616341</td>\n",
              "      <td>0.667890</td>\n",
              "      <td>0.764425</td>\n",
              "    </tr>\n",
              "    <tr>\n",
              "      <td>2</td>\n",
              "      <td>0.585000</td>\n",
              "      <td>0.613144</td>\n",
              "      <td>0.674312</td>\n",
              "      <td>0.748524</td>\n",
              "    </tr>\n",
              "  </tbody>\n",
              "</table><p>"
            ]
          },
          "metadata": {}
        },
        {
          "output_type": "stream",
          "name": "stdout",
          "text": [
            "Training completed. Results: {'train_runtime': 404.6905, 'train_samples_per_second': 46.589, 'train_steps_per_second': 5.827, 'total_flos': 2463244467830784.0, 'train_loss': 0.6231994564195524, 'epoch': 2.0}\n"
          ]
        },
        {
          "output_type": "display_data",
          "data": {
            "text/plain": [
              "<IPython.core.display.HTML object>"
            ],
            "text/html": [
              "\n",
              "    <div>\n",
              "      \n",
              "      <progress value='409' max='409' style='width:300px; height:20px; vertical-align: middle;'></progress>\n",
              "      [409/409 00:21]\n",
              "    </div>\n",
              "    "
            ]
          },
          "metadata": {}
        },
        {
          "output_type": "stream",
          "name": "stdout",
          "text": [
            "Evaluation results: {'eval_loss': 0.6131442189216614, 'eval_accuracy': 0.6743119266055045, 'eval_f1': 0.7485242030696576, 'eval_runtime': 21.5231, 'eval_samples_per_second': 151.929, 'eval_steps_per_second': 19.003, 'epoch': 2.0}\n",
            "Experiment results: {'model': 'gpt2', 'seeds': 72, 'layers_frozen': 3, 'trainable_params_pct': 51.26424864070899, 'accuracy': 0.6743119266055045, 'loss': 0.6131442189216614, 'training_time': 21.5231}\n",
            "\n",
            "===== Experiment: gpt2_6_frozen_42 =====\n",
            "Loading tokenizer: gpt2\n",
            "Loading model: gpt2\n"
          ]
        },
        {
          "output_type": "stream",
          "name": "stderr",
          "text": [
            "Some weights of GPT2ForSequenceClassification were not initialized from the model checkpoint at gpt2 and are newly initialized: ['score.weight']\n",
            "You should probably TRAIN this model on a down-stream task to be able to use it for predictions and inference.\n",
            "/usr/local/lib/python3.11/dist-packages/transformers/training_args.py:1611: FutureWarning: `evaluation_strategy` is deprecated and will be removed in version 4.46 of 🤗 Transformers. Use `eval_strategy` instead\n",
            "  warnings.warn(\n",
            "<ipython-input-65-f03aad642d44>:19: FutureWarning: `tokenizer` is deprecated and will be removed in version 5.0.0 for `Trainer.__init__`. Use `processing_class` instead.\n",
            "  trainer = Trainer(\n"
          ]
        },
        {
          "output_type": "stream",
          "name": "stdout",
          "text": [
            "Freezing 6 GPT-2 layers...\n",
            "Froze 6 GPT-2 transformer layers\n",
            "Embeddings frozen\n",
            "Trainable parameters: 42,530,304 (34.18% of total)\n",
            "Total parameters: 124,441,344\n",
            "\n",
            "Starting fine-tuning with 34.18% parameters trainable.\n",
            "Tokenizing datasets...\n",
            "Tokenized dataset structure: DatasetDict({\n",
            "    train: Dataset({\n",
            "        features: ['input_ids', 'attention_mask', 'labels'],\n",
            "        num_rows: 9427\n",
            "    })\n",
            "    validation: Dataset({\n",
            "        features: ['input_ids', 'attention_mask', 'labels'],\n",
            "        num_rows: 3270\n",
            "    })\n",
            "})\n",
            "Starting fine-tuning...\n"
          ]
        },
        {
          "output_type": "display_data",
          "data": {
            "text/plain": [
              "<IPython.core.display.HTML object>"
            ],
            "text/html": [
              "\n",
              "    <div>\n",
              "      \n",
              "      <progress value='2358' max='2358' style='width:300px; height:20px; vertical-align: middle;'></progress>\n",
              "      [2358/2358 05:30, Epoch 2/2]\n",
              "    </div>\n",
              "    <table border=\"1\" class=\"dataframe\">\n",
              "  <thead>\n",
              " <tr style=\"text-align: left;\">\n",
              "      <th>Epoch</th>\n",
              "      <th>Training Loss</th>\n",
              "      <th>Validation Loss</th>\n",
              "      <th>Accuracy</th>\n",
              "      <th>F1</th>\n",
              "    </tr>\n",
              "  </thead>\n",
              "  <tbody>\n",
              "    <tr>\n",
              "      <td>1</td>\n",
              "      <td>0.654500</td>\n",
              "      <td>0.625922</td>\n",
              "      <td>0.666972</td>\n",
              "      <td>0.778072</td>\n",
              "    </tr>\n",
              "    <tr>\n",
              "      <td>2</td>\n",
              "      <td>0.603000</td>\n",
              "      <td>0.621884</td>\n",
              "      <td>0.666055</td>\n",
              "      <td>0.738756</td>\n",
              "    </tr>\n",
              "  </tbody>\n",
              "</table><p>"
            ]
          },
          "metadata": {}
        },
        {
          "output_type": "stream",
          "name": "stdout",
          "text": [
            "Training completed. Results: {'train_runtime': 330.7262, 'train_samples_per_second': 57.008, 'train_steps_per_second': 7.13, 'total_flos': 2463244467830784.0, 'train_loss': 0.6743621373196796, 'epoch': 2.0}\n"
          ]
        },
        {
          "output_type": "display_data",
          "data": {
            "text/plain": [
              "<IPython.core.display.HTML object>"
            ],
            "text/html": [
              "\n",
              "    <div>\n",
              "      \n",
              "      <progress value='409' max='409' style='width:300px; height:20px; vertical-align: middle;'></progress>\n",
              "      [409/409 00:21]\n",
              "    </div>\n",
              "    "
            ]
          },
          "metadata": {}
        },
        {
          "output_type": "stream",
          "name": "stdout",
          "text": [
            "Evaluation results: {'eval_loss': 0.6259219646453857, 'eval_accuracy': 0.6669724770642201, 'eval_f1': 0.7780721418381903, 'eval_runtime': 21.3244, 'eval_samples_per_second': 153.345, 'eval_steps_per_second': 19.18, 'epoch': 2.0}\n",
            "Experiment results: {'model': 'gpt2', 'seeds': 42, 'layers_frozen': 6, 'trainable_params_pct': 34.176988638116924, 'accuracy': 0.6669724770642201, 'loss': 0.6259219646453857, 'training_time': 21.3244}\n",
            "\n",
            "===== Experiment: gpt2_6_frozen_52 =====\n",
            "Loading tokenizer: gpt2\n",
            "Loading model: gpt2\n"
          ]
        },
        {
          "output_type": "stream",
          "name": "stderr",
          "text": [
            "Some weights of GPT2ForSequenceClassification were not initialized from the model checkpoint at gpt2 and are newly initialized: ['score.weight']\n",
            "You should probably TRAIN this model on a down-stream task to be able to use it for predictions and inference.\n",
            "/usr/local/lib/python3.11/dist-packages/transformers/training_args.py:1611: FutureWarning: `evaluation_strategy` is deprecated and will be removed in version 4.46 of 🤗 Transformers. Use `eval_strategy` instead\n",
            "  warnings.warn(\n",
            "<ipython-input-65-f03aad642d44>:19: FutureWarning: `tokenizer` is deprecated and will be removed in version 5.0.0 for `Trainer.__init__`. Use `processing_class` instead.\n",
            "  trainer = Trainer(\n"
          ]
        },
        {
          "output_type": "stream",
          "name": "stdout",
          "text": [
            "Freezing 6 GPT-2 layers...\n",
            "Froze 6 GPT-2 transformer layers\n",
            "Embeddings frozen\n",
            "Trainable parameters: 42,530,304 (34.18% of total)\n",
            "Total parameters: 124,441,344\n",
            "\n",
            "Starting fine-tuning with 34.18% parameters trainable.\n",
            "Tokenizing datasets...\n",
            "Tokenized dataset structure: DatasetDict({\n",
            "    train: Dataset({\n",
            "        features: ['input_ids', 'attention_mask', 'labels'],\n",
            "        num_rows: 9427\n",
            "    })\n",
            "    validation: Dataset({\n",
            "        features: ['input_ids', 'attention_mask', 'labels'],\n",
            "        num_rows: 3270\n",
            "    })\n",
            "})\n",
            "Starting fine-tuning...\n"
          ]
        },
        {
          "output_type": "display_data",
          "data": {
            "text/plain": [
              "<IPython.core.display.HTML object>"
            ],
            "text/html": [
              "\n",
              "    <div>\n",
              "      \n",
              "      <progress value='2358' max='2358' style='width:300px; height:20px; vertical-align: middle;'></progress>\n",
              "      [2358/2358 05:32, Epoch 2/2]\n",
              "    </div>\n",
              "    <table border=\"1\" class=\"dataframe\">\n",
              "  <thead>\n",
              " <tr style=\"text-align: left;\">\n",
              "      <th>Epoch</th>\n",
              "      <th>Training Loss</th>\n",
              "      <th>Validation Loss</th>\n",
              "      <th>Accuracy</th>\n",
              "      <th>F1</th>\n",
              "    </tr>\n",
              "  </thead>\n",
              "  <tbody>\n",
              "    <tr>\n",
              "      <td>1</td>\n",
              "      <td>0.647200</td>\n",
              "      <td>0.628073</td>\n",
              "      <td>0.664832</td>\n",
              "      <td>0.769166</td>\n",
              "    </tr>\n",
              "    <tr>\n",
              "      <td>2</td>\n",
              "      <td>0.591400</td>\n",
              "      <td>0.623879</td>\n",
              "      <td>0.671865</td>\n",
              "      <td>0.752251</td>\n",
              "    </tr>\n",
              "  </tbody>\n",
              "</table><p>"
            ]
          },
          "metadata": {}
        },
        {
          "output_type": "stream",
          "name": "stdout",
          "text": [
            "Training completed. Results: {'train_runtime': 332.7416, 'train_samples_per_second': 56.663, 'train_steps_per_second': 7.087, 'total_flos': 2463244467830784.0, 'train_loss': 0.6362680268550546, 'epoch': 2.0}\n"
          ]
        },
        {
          "output_type": "display_data",
          "data": {
            "text/plain": [
              "<IPython.core.display.HTML object>"
            ],
            "text/html": [
              "\n",
              "    <div>\n",
              "      \n",
              "      <progress value='409' max='409' style='width:300px; height:20px; vertical-align: middle;'></progress>\n",
              "      [409/409 00:21]\n",
              "    </div>\n",
              "    "
            ]
          },
          "metadata": {}
        },
        {
          "output_type": "stream",
          "name": "stdout",
          "text": [
            "Evaluation results: {'eval_loss': 0.6238793134689331, 'eval_accuracy': 0.6718654434250765, 'eval_f1': 0.7522512121911799, 'eval_runtime': 21.2947, 'eval_samples_per_second': 153.56, 'eval_steps_per_second': 19.207, 'epoch': 2.0}\n",
            "Experiment results: {'model': 'gpt2', 'seeds': 52, 'layers_frozen': 6, 'trainable_params_pct': 34.176988638116924, 'accuracy': 0.6718654434250765, 'loss': 0.6238793134689331, 'training_time': 21.2947}\n",
            "\n",
            "===== Experiment: gpt2_6_frozen_62 =====\n",
            "Loading tokenizer: gpt2\n",
            "Loading model: gpt2\n"
          ]
        },
        {
          "output_type": "stream",
          "name": "stderr",
          "text": [
            "Some weights of GPT2ForSequenceClassification were not initialized from the model checkpoint at gpt2 and are newly initialized: ['score.weight']\n",
            "You should probably TRAIN this model on a down-stream task to be able to use it for predictions and inference.\n",
            "/usr/local/lib/python3.11/dist-packages/transformers/training_args.py:1611: FutureWarning: `evaluation_strategy` is deprecated and will be removed in version 4.46 of 🤗 Transformers. Use `eval_strategy` instead\n",
            "  warnings.warn(\n",
            "<ipython-input-65-f03aad642d44>:19: FutureWarning: `tokenizer` is deprecated and will be removed in version 5.0.0 for `Trainer.__init__`. Use `processing_class` instead.\n",
            "  trainer = Trainer(\n"
          ]
        },
        {
          "output_type": "stream",
          "name": "stdout",
          "text": [
            "Freezing 6 GPT-2 layers...\n",
            "Froze 6 GPT-2 transformer layers\n",
            "Embeddings frozen\n",
            "Trainable parameters: 42,530,304 (34.18% of total)\n",
            "Total parameters: 124,441,344\n",
            "\n",
            "Starting fine-tuning with 34.18% parameters trainable.\n",
            "Tokenizing datasets...\n",
            "Tokenized dataset structure: DatasetDict({\n",
            "    train: Dataset({\n",
            "        features: ['input_ids', 'attention_mask', 'labels'],\n",
            "        num_rows: 9427\n",
            "    })\n",
            "    validation: Dataset({\n",
            "        features: ['input_ids', 'attention_mask', 'labels'],\n",
            "        num_rows: 3270\n",
            "    })\n",
            "})\n",
            "Starting fine-tuning...\n"
          ]
        },
        {
          "output_type": "display_data",
          "data": {
            "text/plain": [
              "<IPython.core.display.HTML object>"
            ],
            "text/html": [
              "\n",
              "    <div>\n",
              "      \n",
              "      <progress value='2358' max='2358' style='width:300px; height:20px; vertical-align: middle;'></progress>\n",
              "      [2358/2358 05:31, Epoch 2/2]\n",
              "    </div>\n",
              "    <table border=\"1\" class=\"dataframe\">\n",
              "  <thead>\n",
              " <tr style=\"text-align: left;\">\n",
              "      <th>Epoch</th>\n",
              "      <th>Training Loss</th>\n",
              "      <th>Validation Loss</th>\n",
              "      <th>Accuracy</th>\n",
              "      <th>F1</th>\n",
              "    </tr>\n",
              "  </thead>\n",
              "  <tbody>\n",
              "    <tr>\n",
              "      <td>1</td>\n",
              "      <td>0.639300</td>\n",
              "      <td>0.643954</td>\n",
              "      <td>0.666972</td>\n",
              "      <td>0.778253</td>\n",
              "    </tr>\n",
              "    <tr>\n",
              "      <td>2</td>\n",
              "      <td>0.584700</td>\n",
              "      <td>0.611707</td>\n",
              "      <td>0.680122</td>\n",
              "      <td>0.764096</td>\n",
              "    </tr>\n",
              "  </tbody>\n",
              "</table><p>"
            ]
          },
          "metadata": {}
        },
        {
          "output_type": "stream",
          "name": "stdout",
          "text": [
            "Training completed. Results: {'train_runtime': 331.2607, 'train_samples_per_second': 56.916, 'train_steps_per_second': 7.118, 'total_flos': 2463244467830784.0, 'train_loss': 0.6296575544646881, 'epoch': 2.0}\n"
          ]
        },
        {
          "output_type": "display_data",
          "data": {
            "text/plain": [
              "<IPython.core.display.HTML object>"
            ],
            "text/html": [
              "\n",
              "    <div>\n",
              "      \n",
              "      <progress value='409' max='409' style='width:300px; height:20px; vertical-align: middle;'></progress>\n",
              "      [409/409 00:21]\n",
              "    </div>\n",
              "    "
            ]
          },
          "metadata": {}
        },
        {
          "output_type": "stream",
          "name": "stdout",
          "text": [
            "Evaluation results: {'eval_loss': 0.6117072701454163, 'eval_accuracy': 0.6801223241590214, 'eval_f1': 0.7640956247180875, 'eval_runtime': 21.4785, 'eval_samples_per_second': 152.245, 'eval_steps_per_second': 19.042, 'epoch': 2.0}\n",
            "Experiment results: {'model': 'gpt2', 'seeds': 62, 'layers_frozen': 6, 'trainable_params_pct': 34.176988638116924, 'accuracy': 0.6801223241590214, 'loss': 0.6117072701454163, 'training_time': 21.4785}\n",
            "\n",
            "===== Experiment: gpt2_6_frozen_72 =====\n",
            "Loading tokenizer: gpt2\n",
            "Loading model: gpt2\n"
          ]
        },
        {
          "output_type": "stream",
          "name": "stderr",
          "text": [
            "Some weights of GPT2ForSequenceClassification were not initialized from the model checkpoint at gpt2 and are newly initialized: ['score.weight']\n",
            "You should probably TRAIN this model on a down-stream task to be able to use it for predictions and inference.\n",
            "/usr/local/lib/python3.11/dist-packages/transformers/training_args.py:1611: FutureWarning: `evaluation_strategy` is deprecated and will be removed in version 4.46 of 🤗 Transformers. Use `eval_strategy` instead\n",
            "  warnings.warn(\n",
            "<ipython-input-65-f03aad642d44>:19: FutureWarning: `tokenizer` is deprecated and will be removed in version 5.0.0 for `Trainer.__init__`. Use `processing_class` instead.\n",
            "  trainer = Trainer(\n"
          ]
        },
        {
          "output_type": "stream",
          "name": "stdout",
          "text": [
            "Freezing 6 GPT-2 layers...\n",
            "Froze 6 GPT-2 transformer layers\n",
            "Embeddings frozen\n",
            "Trainable parameters: 42,530,304 (34.18% of total)\n",
            "Total parameters: 124,441,344\n",
            "\n",
            "Starting fine-tuning with 34.18% parameters trainable.\n",
            "Tokenizing datasets...\n",
            "Tokenized dataset structure: DatasetDict({\n",
            "    train: Dataset({\n",
            "        features: ['input_ids', 'attention_mask', 'labels'],\n",
            "        num_rows: 9427\n",
            "    })\n",
            "    validation: Dataset({\n",
            "        features: ['input_ids', 'attention_mask', 'labels'],\n",
            "        num_rows: 3270\n",
            "    })\n",
            "})\n",
            "Starting fine-tuning...\n"
          ]
        },
        {
          "output_type": "display_data",
          "data": {
            "text/plain": [
              "<IPython.core.display.HTML object>"
            ],
            "text/html": [
              "\n",
              "    <div>\n",
              "      \n",
              "      <progress value='2358' max='2358' style='width:300px; height:20px; vertical-align: middle;'></progress>\n",
              "      [2358/2358 05:24, Epoch 2/2]\n",
              "    </div>\n",
              "    <table border=\"1\" class=\"dataframe\">\n",
              "  <thead>\n",
              " <tr style=\"text-align: left;\">\n",
              "      <th>Epoch</th>\n",
              "      <th>Training Loss</th>\n",
              "      <th>Validation Loss</th>\n",
              "      <th>Accuracy</th>\n",
              "      <th>F1</th>\n",
              "    </tr>\n",
              "  </thead>\n",
              "  <tbody>\n",
              "    <tr>\n",
              "      <td>1</td>\n",
              "      <td>0.644000</td>\n",
              "      <td>0.621774</td>\n",
              "      <td>0.665749</td>\n",
              "      <td>0.772907</td>\n",
              "    </tr>\n",
              "    <tr>\n",
              "      <td>2</td>\n",
              "      <td>0.587900</td>\n",
              "      <td>0.614346</td>\n",
              "      <td>0.675229</td>\n",
              "      <td>0.755074</td>\n",
              "    </tr>\n",
              "  </tbody>\n",
              "</table><p>"
            ]
          },
          "metadata": {}
        },
        {
          "output_type": "stream",
          "name": "stdout",
          "text": [
            "Training completed. Results: {'train_runtime': 324.6678, 'train_samples_per_second': 58.072, 'train_steps_per_second': 7.263, 'total_flos': 2463244467830784.0, 'train_loss': 0.6282497338059597, 'epoch': 2.0}\n"
          ]
        },
        {
          "output_type": "display_data",
          "data": {
            "text/plain": [
              "<IPython.core.display.HTML object>"
            ],
            "text/html": [
              "\n",
              "    <div>\n",
              "      \n",
              "      <progress value='409' max='409' style='width:300px; height:20px; vertical-align: middle;'></progress>\n",
              "      [409/409 00:21]\n",
              "    </div>\n",
              "    "
            ]
          },
          "metadata": {}
        },
        {
          "output_type": "stream",
          "name": "stdout",
          "text": [
            "Evaluation results: {'eval_loss': 0.6143456697463989, 'eval_accuracy': 0.6752293577981652, 'eval_f1': 0.7550738007380073, 'eval_runtime': 21.2906, 'eval_samples_per_second': 153.589, 'eval_steps_per_second': 19.21, 'epoch': 2.0}\n",
            "Experiment results: {'model': 'gpt2', 'seeds': 72, 'layers_frozen': 6, 'trainable_params_pct': 34.176988638116924, 'accuracy': 0.6752293577981652, 'loss': 0.6143456697463989, 'training_time': 21.2906}\n",
            "\n",
            "===== Experiment: gpt2_9_frozen_42 =====\n",
            "Loading tokenizer: gpt2\n",
            "Loading model: gpt2\n"
          ]
        },
        {
          "output_type": "stream",
          "name": "stderr",
          "text": [
            "Some weights of GPT2ForSequenceClassification were not initialized from the model checkpoint at gpt2 and are newly initialized: ['score.weight']\n",
            "You should probably TRAIN this model on a down-stream task to be able to use it for predictions and inference.\n",
            "/usr/local/lib/python3.11/dist-packages/transformers/training_args.py:1611: FutureWarning: `evaluation_strategy` is deprecated and will be removed in version 4.46 of 🤗 Transformers. Use `eval_strategy` instead\n",
            "  warnings.warn(\n",
            "<ipython-input-65-f03aad642d44>:19: FutureWarning: `tokenizer` is deprecated and will be removed in version 5.0.0 for `Trainer.__init__`. Use `processing_class` instead.\n",
            "  trainer = Trainer(\n"
          ]
        },
        {
          "output_type": "stream",
          "name": "stdout",
          "text": [
            "Freezing 9 GPT-2 layers...\n",
            "Froze 9 GPT-2 transformer layers\n",
            "Embeddings frozen\n",
            "Trainable parameters: 21,266,688 (17.09% of total)\n",
            "Total parameters: 124,441,344\n",
            "\n",
            "Starting fine-tuning with 17.09% parameters trainable.\n",
            "Tokenizing datasets...\n",
            "Tokenized dataset structure: DatasetDict({\n",
            "    train: Dataset({\n",
            "        features: ['input_ids', 'attention_mask', 'labels'],\n",
            "        num_rows: 9427\n",
            "    })\n",
            "    validation: Dataset({\n",
            "        features: ['input_ids', 'attention_mask', 'labels'],\n",
            "        num_rows: 3270\n",
            "    })\n",
            "})\n",
            "Starting fine-tuning...\n"
          ]
        },
        {
          "output_type": "display_data",
          "data": {
            "text/plain": [
              "<IPython.core.display.HTML object>"
            ],
            "text/html": [
              "\n",
              "    <div>\n",
              "      \n",
              "      <progress value='2358' max='2358' style='width:300px; height:20px; vertical-align: middle;'></progress>\n",
              "      [2358/2358 04:25, Epoch 2/2]\n",
              "    </div>\n",
              "    <table border=\"1\" class=\"dataframe\">\n",
              "  <thead>\n",
              " <tr style=\"text-align: left;\">\n",
              "      <th>Epoch</th>\n",
              "      <th>Training Loss</th>\n",
              "      <th>Validation Loss</th>\n",
              "      <th>Accuracy</th>\n",
              "      <th>F1</th>\n",
              "    </tr>\n",
              "  </thead>\n",
              "  <tbody>\n",
              "    <tr>\n",
              "      <td>1</td>\n",
              "      <td>0.661000</td>\n",
              "      <td>0.639134</td>\n",
              "      <td>0.628440</td>\n",
              "      <td>0.750154</td>\n",
              "    </tr>\n",
              "    <tr>\n",
              "      <td>2</td>\n",
              "      <td>0.629100</td>\n",
              "      <td>0.635892</td>\n",
              "      <td>0.635474</td>\n",
              "      <td>0.736516</td>\n",
              "    </tr>\n",
              "  </tbody>\n",
              "</table><p>"
            ]
          },
          "metadata": {}
        },
        {
          "output_type": "stream",
          "name": "stdout",
          "text": [
            "Training completed. Results: {'train_runtime': 265.4696, 'train_samples_per_second': 71.021, 'train_steps_per_second': 8.882, 'total_flos': 2463244467830784.0, 'train_loss': 0.7092149328437268, 'epoch': 2.0}\n"
          ]
        },
        {
          "output_type": "display_data",
          "data": {
            "text/plain": [
              "<IPython.core.display.HTML object>"
            ],
            "text/html": [
              "\n",
              "    <div>\n",
              "      \n",
              "      <progress value='409' max='409' style='width:300px; height:20px; vertical-align: middle;'></progress>\n",
              "      [409/409 00:21]\n",
              "    </div>\n",
              "    "
            ]
          },
          "metadata": {}
        },
        {
          "output_type": "stream",
          "name": "stdout",
          "text": [
            "Evaluation results: {'eval_loss': 0.6358919739723206, 'eval_accuracy': 0.635474006116208, 'eval_f1': 0.7365163572060124, 'eval_runtime': 21.6481, 'eval_samples_per_second': 151.052, 'eval_steps_per_second': 18.893, 'epoch': 2.0}\n",
            "Experiment results: {'model': 'gpt2', 'seeds': 42, 'layers_frozen': 9, 'trainable_params_pct': 17.089728635524864, 'accuracy': 0.635474006116208, 'loss': 0.6358919739723206, 'training_time': 21.6481}\n",
            "\n",
            "===== Experiment: gpt2_9_frozen_52 =====\n",
            "Loading tokenizer: gpt2\n",
            "Loading model: gpt2\n"
          ]
        },
        {
          "output_type": "stream",
          "name": "stderr",
          "text": [
            "Some weights of GPT2ForSequenceClassification were not initialized from the model checkpoint at gpt2 and are newly initialized: ['score.weight']\n",
            "You should probably TRAIN this model on a down-stream task to be able to use it for predictions and inference.\n",
            "/usr/local/lib/python3.11/dist-packages/transformers/training_args.py:1611: FutureWarning: `evaluation_strategy` is deprecated and will be removed in version 4.46 of 🤗 Transformers. Use `eval_strategy` instead\n",
            "  warnings.warn(\n",
            "<ipython-input-65-f03aad642d44>:19: FutureWarning: `tokenizer` is deprecated and will be removed in version 5.0.0 for `Trainer.__init__`. Use `processing_class` instead.\n",
            "  trainer = Trainer(\n"
          ]
        },
        {
          "output_type": "stream",
          "name": "stdout",
          "text": [
            "Freezing 9 GPT-2 layers...\n",
            "Froze 9 GPT-2 transformer layers\n",
            "Embeddings frozen\n",
            "Trainable parameters: 21,266,688 (17.09% of total)\n",
            "Total parameters: 124,441,344\n",
            "\n",
            "Starting fine-tuning with 17.09% parameters trainable.\n",
            "Tokenizing datasets...\n",
            "Tokenized dataset structure: DatasetDict({\n",
            "    train: Dataset({\n",
            "        features: ['input_ids', 'attention_mask', 'labels'],\n",
            "        num_rows: 9427\n",
            "    })\n",
            "    validation: Dataset({\n",
            "        features: ['input_ids', 'attention_mask', 'labels'],\n",
            "        num_rows: 3270\n",
            "    })\n",
            "})\n",
            "Starting fine-tuning...\n"
          ]
        },
        {
          "output_type": "display_data",
          "data": {
            "text/plain": [
              "<IPython.core.display.HTML object>"
            ],
            "text/html": [
              "\n",
              "    <div>\n",
              "      \n",
              "      <progress value='2358' max='2358' style='width:300px; height:20px; vertical-align: middle;'></progress>\n",
              "      [2358/2358 04:14, Epoch 2/2]\n",
              "    </div>\n",
              "    <table border=\"1\" class=\"dataframe\">\n",
              "  <thead>\n",
              " <tr style=\"text-align: left;\">\n",
              "      <th>Epoch</th>\n",
              "      <th>Training Loss</th>\n",
              "      <th>Validation Loss</th>\n",
              "      <th>Accuracy</th>\n",
              "      <th>F1</th>\n",
              "    </tr>\n",
              "  </thead>\n",
              "  <tbody>\n",
              "    <tr>\n",
              "      <td>1</td>\n",
              "      <td>0.661400</td>\n",
              "      <td>0.645313</td>\n",
              "      <td>0.628746</td>\n",
              "      <td>0.761024</td>\n",
              "    </tr>\n",
              "    <tr>\n",
              "      <td>2</td>\n",
              "      <td>0.624000</td>\n",
              "      <td>0.640688</td>\n",
              "      <td>0.630581</td>\n",
              "      <td>0.737277</td>\n",
              "    </tr>\n",
              "  </tbody>\n",
              "</table><p>"
            ]
          },
          "metadata": {}
        },
        {
          "output_type": "stream",
          "name": "stdout",
          "text": [
            "Training completed. Results: {'train_runtime': 255.0423, 'train_samples_per_second': 73.925, 'train_steps_per_second': 9.246, 'total_flos': 2463244467830784.0, 'train_loss': 0.6563806250704053, 'epoch': 2.0}\n"
          ]
        },
        {
          "output_type": "display_data",
          "data": {
            "text/plain": [
              "<IPython.core.display.HTML object>"
            ],
            "text/html": [
              "\n",
              "    <div>\n",
              "      \n",
              "      <progress value='409' max='409' style='width:300px; height:20px; vertical-align: middle;'></progress>\n",
              "      [409/409 00:21]\n",
              "    </div>\n",
              "    "
            ]
          },
          "metadata": {}
        },
        {
          "output_type": "stream",
          "name": "stdout",
          "text": [
            "Evaluation results: {'eval_loss': 0.6406880021095276, 'eval_accuracy': 0.6305810397553517, 'eval_f1': 0.7372770769899957, 'eval_runtime': 21.4903, 'eval_samples_per_second': 152.162, 'eval_steps_per_second': 19.032, 'epoch': 2.0}\n",
            "Experiment results: {'model': 'gpt2', 'seeds': 52, 'layers_frozen': 9, 'trainable_params_pct': 17.089728635524864, 'accuracy': 0.6305810397553517, 'loss': 0.6406880021095276, 'training_time': 21.4903}\n",
            "\n",
            "===== Experiment: gpt2_9_frozen_62 =====\n",
            "Loading tokenizer: gpt2\n",
            "Loading model: gpt2\n"
          ]
        },
        {
          "output_type": "stream",
          "name": "stderr",
          "text": [
            "Some weights of GPT2ForSequenceClassification were not initialized from the model checkpoint at gpt2 and are newly initialized: ['score.weight']\n",
            "You should probably TRAIN this model on a down-stream task to be able to use it for predictions and inference.\n",
            "/usr/local/lib/python3.11/dist-packages/transformers/training_args.py:1611: FutureWarning: `evaluation_strategy` is deprecated and will be removed in version 4.46 of 🤗 Transformers. Use `eval_strategy` instead\n",
            "  warnings.warn(\n",
            "<ipython-input-65-f03aad642d44>:19: FutureWarning: `tokenizer` is deprecated and will be removed in version 5.0.0 for `Trainer.__init__`. Use `processing_class` instead.\n",
            "  trainer = Trainer(\n"
          ]
        },
        {
          "output_type": "stream",
          "name": "stdout",
          "text": [
            "Freezing 9 GPT-2 layers...\n",
            "Froze 9 GPT-2 transformer layers\n",
            "Embeddings frozen\n",
            "Trainable parameters: 21,266,688 (17.09% of total)\n",
            "Total parameters: 124,441,344\n",
            "\n",
            "Starting fine-tuning with 17.09% parameters trainable.\n",
            "Tokenizing datasets...\n",
            "Tokenized dataset structure: DatasetDict({\n",
            "    train: Dataset({\n",
            "        features: ['input_ids', 'attention_mask', 'labels'],\n",
            "        num_rows: 9427\n",
            "    })\n",
            "    validation: Dataset({\n",
            "        features: ['input_ids', 'attention_mask', 'labels'],\n",
            "        num_rows: 3270\n",
            "    })\n",
            "})\n",
            "Starting fine-tuning...\n"
          ]
        },
        {
          "output_type": "display_data",
          "data": {
            "text/plain": [
              "<IPython.core.display.HTML object>"
            ],
            "text/html": [
              "\n",
              "    <div>\n",
              "      \n",
              "      <progress value='2358' max='2358' style='width:300px; height:20px; vertical-align: middle;'></progress>\n",
              "      [2358/2358 04:20, Epoch 2/2]\n",
              "    </div>\n",
              "    <table border=\"1\" class=\"dataframe\">\n",
              "  <thead>\n",
              " <tr style=\"text-align: left;\">\n",
              "      <th>Epoch</th>\n",
              "      <th>Training Loss</th>\n",
              "      <th>Validation Loss</th>\n",
              "      <th>Accuracy</th>\n",
              "      <th>F1</th>\n",
              "    </tr>\n",
              "  </thead>\n",
              "  <tbody>\n",
              "    <tr>\n",
              "      <td>1</td>\n",
              "      <td>0.650700</td>\n",
              "      <td>0.638234</td>\n",
              "      <td>0.638532</td>\n",
              "      <td>0.755684</td>\n",
              "    </tr>\n",
              "    <tr>\n",
              "      <td>2</td>\n",
              "      <td>0.611000</td>\n",
              "      <td>0.634570</td>\n",
              "      <td>0.636697</td>\n",
              "      <td>0.723721</td>\n",
              "    </tr>\n",
              "  </tbody>\n",
              "</table><p>"
            ]
          },
          "metadata": {}
        },
        {
          "output_type": "stream",
          "name": "stdout",
          "text": [
            "Training completed. Results: {'train_runtime': 260.5154, 'train_samples_per_second': 72.372, 'train_steps_per_second': 9.051, 'total_flos': 2463244467830784.0, 'train_loss': 0.6468502817970904, 'epoch': 2.0}\n"
          ]
        },
        {
          "output_type": "display_data",
          "data": {
            "text/plain": [
              "<IPython.core.display.HTML object>"
            ],
            "text/html": [
              "\n",
              "    <div>\n",
              "      \n",
              "      <progress value='409' max='409' style='width:300px; height:20px; vertical-align: middle;'></progress>\n",
              "      [409/409 00:21]\n",
              "    </div>\n",
              "    "
            ]
          },
          "metadata": {}
        },
        {
          "output_type": "stream",
          "name": "stdout",
          "text": [
            "Evaluation results: {'eval_loss': 0.63823401927948, 'eval_accuracy': 0.6385321100917432, 'eval_f1': 0.7556841670111616, 'eval_runtime': 21.3948, 'eval_samples_per_second': 152.841, 'eval_steps_per_second': 19.117, 'epoch': 2.0}\n",
            "Experiment results: {'model': 'gpt2', 'seeds': 62, 'layers_frozen': 9, 'trainable_params_pct': 17.089728635524864, 'accuracy': 0.6385321100917432, 'loss': 0.63823401927948, 'training_time': 21.3948}\n",
            "\n",
            "===== Experiment: gpt2_9_frozen_72 =====\n",
            "Loading tokenizer: gpt2\n",
            "Loading model: gpt2\n"
          ]
        },
        {
          "output_type": "stream",
          "name": "stderr",
          "text": [
            "Some weights of GPT2ForSequenceClassification were not initialized from the model checkpoint at gpt2 and are newly initialized: ['score.weight']\n",
            "You should probably TRAIN this model on a down-stream task to be able to use it for predictions and inference.\n",
            "/usr/local/lib/python3.11/dist-packages/transformers/training_args.py:1611: FutureWarning: `evaluation_strategy` is deprecated and will be removed in version 4.46 of 🤗 Transformers. Use `eval_strategy` instead\n",
            "  warnings.warn(\n",
            "<ipython-input-65-f03aad642d44>:19: FutureWarning: `tokenizer` is deprecated and will be removed in version 5.0.0 for `Trainer.__init__`. Use `processing_class` instead.\n",
            "  trainer = Trainer(\n"
          ]
        },
        {
          "output_type": "stream",
          "name": "stdout",
          "text": [
            "Freezing 9 GPT-2 layers...\n",
            "Froze 9 GPT-2 transformer layers\n",
            "Embeddings frozen\n",
            "Trainable parameters: 21,266,688 (17.09% of total)\n",
            "Total parameters: 124,441,344\n",
            "\n",
            "Starting fine-tuning with 17.09% parameters trainable.\n",
            "Tokenizing datasets...\n",
            "Tokenized dataset structure: DatasetDict({\n",
            "    train: Dataset({\n",
            "        features: ['input_ids', 'attention_mask', 'labels'],\n",
            "        num_rows: 9427\n",
            "    })\n",
            "    validation: Dataset({\n",
            "        features: ['input_ids', 'attention_mask', 'labels'],\n",
            "        num_rows: 3270\n",
            "    })\n",
            "})\n",
            "Starting fine-tuning...\n"
          ]
        },
        {
          "output_type": "display_data",
          "data": {
            "text/plain": [
              "<IPython.core.display.HTML object>"
            ],
            "text/html": [
              "\n",
              "    <div>\n",
              "      \n",
              "      <progress value='2358' max='2358' style='width:300px; height:20px; vertical-align: middle;'></progress>\n",
              "      [2358/2358 04:16, Epoch 2/2]\n",
              "    </div>\n",
              "    <table border=\"1\" class=\"dataframe\">\n",
              "  <thead>\n",
              " <tr style=\"text-align: left;\">\n",
              "      <th>Epoch</th>\n",
              "      <th>Training Loss</th>\n",
              "      <th>Validation Loss</th>\n",
              "      <th>Accuracy</th>\n",
              "      <th>F1</th>\n",
              "    </tr>\n",
              "  </thead>\n",
              "  <tbody>\n",
              "    <tr>\n",
              "      <td>1</td>\n",
              "      <td>0.654200</td>\n",
              "      <td>0.639355</td>\n",
              "      <td>0.640061</td>\n",
              "      <td>0.762941</td>\n",
              "    </tr>\n",
              "    <tr>\n",
              "      <td>2</td>\n",
              "      <td>0.621500</td>\n",
              "      <td>0.631487</td>\n",
              "      <td>0.648318</td>\n",
              "      <td>0.738992</td>\n",
              "    </tr>\n",
              "  </tbody>\n",
              "</table><p>"
            ]
          },
          "metadata": {}
        },
        {
          "output_type": "stream",
          "name": "stdout",
          "text": [
            "Training completed. Results: {'train_runtime': 257.0409, 'train_samples_per_second': 73.35, 'train_steps_per_second': 9.174, 'total_flos': 2463244467830784.0, 'train_loss': 0.6485300557506196, 'epoch': 2.0}\n"
          ]
        },
        {
          "output_type": "display_data",
          "data": {
            "text/plain": [
              "<IPython.core.display.HTML object>"
            ],
            "text/html": [
              "\n",
              "    <div>\n",
              "      \n",
              "      <progress value='409' max='409' style='width:300px; height:20px; vertical-align: middle;'></progress>\n",
              "      [409/409 00:21]\n",
              "    </div>\n",
              "    "
            ]
          },
          "metadata": {}
        },
        {
          "output_type": "stream",
          "name": "stdout",
          "text": [
            "Evaluation results: {'eval_loss': 0.6314868330955505, 'eval_accuracy': 0.6483180428134556, 'eval_f1': 0.7389922832501135, 'eval_runtime': 21.4955, 'eval_samples_per_second': 152.125, 'eval_steps_per_second': 19.027, 'epoch': 2.0}\n",
            "Experiment results: {'model': 'gpt2', 'seeds': 72, 'layers_frozen': 9, 'trainable_params_pct': 17.089728635524864, 'accuracy': 0.6483180428134556, 'loss': 0.6314868330955505, 'training_time': 21.4955}\n",
            "\n",
            "===== Summary of All Experiments =====\n",
            "   model  seeds  layers_frozen  trainable_params_pct  accuracy      loss  \\\n",
            "0   gpt2     42              0             68.351509  0.685015  0.606364   \n",
            "1   gpt2     52              0             68.351509  0.674006  0.616565   \n",
            "2   gpt2     62              0             68.351509  0.669113  0.613543   \n",
            "3   gpt2     72              0             68.351509  0.677982  0.605362   \n",
            "4   gpt2     42              3             51.264249  0.683792  0.611104   \n",
            "5   gpt2     52              3             51.264249  0.687768  0.616664   \n",
            "6   gpt2     62              3             51.264249  0.677064  0.608307   \n",
            "7   gpt2     72              3             51.264249  0.674312  0.613144   \n",
            "8   gpt2     42              6             34.176989  0.666972  0.625922   \n",
            "9   gpt2     52              6             34.176989  0.671865  0.623879   \n",
            "10  gpt2     62              6             34.176989  0.680122  0.611707   \n",
            "11  gpt2     72              6             34.176989  0.675229  0.614346   \n",
            "12  gpt2     42              9             17.089729  0.635474  0.635892   \n",
            "13  gpt2     52              9             17.089729  0.630581  0.640688   \n",
            "14  gpt2     62              9             17.089729  0.638532  0.638234   \n",
            "15  gpt2     72              9             17.089729  0.648318  0.631487   \n",
            "\n",
            "    training_time  \n",
            "0         21.3123  \n",
            "1         21.2913  \n",
            "2         21.3820  \n",
            "3         21.4114  \n",
            "4         21.4242  \n",
            "5         21.5062  \n",
            "6         21.3394  \n",
            "7         21.5231  \n",
            "8         21.3244  \n",
            "9         21.2947  \n",
            "10        21.4785  \n",
            "11        21.2906  \n",
            "12        21.6481  \n",
            "13        21.4903  \n",
            "14        21.3948  \n",
            "15        21.4955  \n"
          ]
        },
        {
          "output_type": "display_data",
          "data": {
            "text/plain": [
              "<Figure size 1200x500 with 2 Axes>"
            ],
            "image/png": "[encoded data removed]"
          },
          "metadata": {}
        },
        {
          "output_type": "stream",
          "name": "stdout",
          "text": [
            "\n",
            "===== All experiments completed =====\n"
          ]
        }
      ],
      "source": [
        "if __name__ == \"__main__\":\n",
        "    import os\n",
        "    main()"
      ]
    }
  ],
  "metadata": {
    "kernelspec": {
      "display_name": "Python 3",
      "name": "python3"
    },
    "language_info": {
      "codemirror_mode": {
        "name": "ipython",
        "version": 3
      },
      "file_extension": ".py",
      "mimetype": "text/x-python",
      "name": "python",
      "nbconvert_exporter": "python",
      "pygments_lexer": "ipython3",
      "version": "3.6.4"
    },
    "colab": {
      "provenance": [],
      "toc_visible": true,
      "gpuType": "T4",
      "include_colab_link": true
    },
    "accelerator": "GPU"
  },
  "nbformat": 4,
  "nbformat_minor": 0
}